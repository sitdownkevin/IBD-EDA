{
 "cells": [
  {
   "cell_type": "code",
   "execution_count": 1,
   "metadata": {},
   "outputs": [
    {
     "name": "stdout",
     "output_type": "stream",
     "text": [
      "load env file\n",
      "  root dir:\n",
      "    /Users/k/Repo/gp-ibd\n",
      "  current system:\n",
      "    Darwin\n",
      "  load .env.darwin\n",
      "  loaded data dir:\n",
      "    /Users/k/Nutstore Files/毕设-EHR/DB\n",
      "done.\n",
      "set matplotlib configs\n",
      "  font family:\n",
      "    ['Times New Roman']\n",
      "done.\n",
      "DATA_DIR: /Users/k/Nutstore Files/毕设-EHR/DB\n"
     ]
    }
   ],
   "source": [
    "import numpy as np\n",
    "import os\n",
    "import pandas as pd\n",
    "import matplotlib.pyplot as plt\n",
    "\n",
    "from utils import load_env_file, set_mpl_configs\n",
    "from utils import leave_percentile, distribution_analysis\n",
    "\n",
    "load_env_file()\n",
    "set_mpl_configs()\n",
    "\n",
    "DATA_DIR = os.getenv('DATA_DIR')\n",
    "print('DATA_DIR: {}'.format(DATA_DIR))"
   ]
  },
  {
   "cell_type": "code",
   "execution_count": 2,
   "metadata": {},
   "outputs": [
    {
     "data": {
      "text/html": [
       "<div>\n",
       "<style scoped>\n",
       "    .dataframe tbody tr th:only-of-type {\n",
       "        vertical-align: middle;\n",
       "    }\n",
       "\n",
       "    .dataframe tbody tr th {\n",
       "        vertical-align: top;\n",
       "    }\n",
       "\n",
       "    .dataframe thead th {\n",
       "        text-align: right;\n",
       "    }\n",
       "</style>\n",
       "<table border=\"1\" class=\"dataframe\">\n",
       "  <thead>\n",
       "    <tr style=\"text-align: right;\">\n",
       "      <th></th>\n",
       "      <th>gender</th>\n",
       "      <th>anchor_age</th>\n",
       "      <th>anchor_year_group</th>\n",
       "      <th>dod</th>\n",
       "    </tr>\n",
       "    <tr>\n",
       "      <th>subject_id</th>\n",
       "      <th></th>\n",
       "      <th></th>\n",
       "      <th></th>\n",
       "      <th></th>\n",
       "    </tr>\n",
       "  </thead>\n",
       "  <tbody>\n",
       "    <tr>\n",
       "      <th>10001186</th>\n",
       "      <td>F</td>\n",
       "      <td>46</td>\n",
       "      <td>2011 - 2013</td>\n",
       "      <td>None</td>\n",
       "    </tr>\n",
       "    <tr>\n",
       "      <th>10007174</th>\n",
       "      <td>M</td>\n",
       "      <td>70</td>\n",
       "      <td>2011 - 2013</td>\n",
       "      <td>None</td>\n",
       "    </tr>\n",
       "    <tr>\n",
       "      <th>10018852</th>\n",
       "      <td>M</td>\n",
       "      <td>19</td>\n",
       "      <td>2011 - 2013</td>\n",
       "      <td>None</td>\n",
       "    </tr>\n",
       "    <tr>\n",
       "      <th>10024331</th>\n",
       "      <td>M</td>\n",
       "      <td>72</td>\n",
       "      <td>2008 - 2010</td>\n",
       "      <td>2145-01-23</td>\n",
       "    </tr>\n",
       "    <tr>\n",
       "      <th>10025647</th>\n",
       "      <td>M</td>\n",
       "      <td>83</td>\n",
       "      <td>2008 - 2010</td>\n",
       "      <td>2181-06-16</td>\n",
       "    </tr>\n",
       "  </tbody>\n",
       "</table>\n",
       "</div>"
      ],
      "text/plain": [
       "           gender  anchor_age anchor_year_group         dod\n",
       "subject_id                                                 \n",
       "10001186        F          46       2011 - 2013        None\n",
       "10007174        M          70       2011 - 2013        None\n",
       "10018852        M          19       2011 - 2013        None\n",
       "10024331        M          72       2008 - 2010  2145-01-23\n",
       "10025647        M          83       2008 - 2010  2181-06-16"
      ]
     },
     "execution_count": 2,
     "metadata": {},
     "output_type": "execute_result"
    }
   ],
   "source": [
    "df = pd.read_csv(os.path.join(DATA_DIR, 'complication', 'Complications_Patients.csv'))\n",
    "df_demography = df.groupby('subject_id').agg({\n",
    "    'gender': 'first',\n",
    "    'anchor_age': 'first',\n",
    "    'anchor_year_group': 'first',\n",
    "    'dod': 'first',\n",
    "})\n",
    "\n",
    "df_demography.head()"
   ]
  },
  {
   "cell_type": "code",
   "execution_count": 69,
   "metadata": {},
   "outputs": [],
   "source": [
    "def get_suspect_icd_list(threshold=300) -> list:\n",
    "    stats = df.groupby(['subject_id', 'icd_code']).agg({\n",
    "        'icd_code': ['count'],\n",
    "    })\n",
    "    stats.columns = ['count']\n",
    "    stats = stats.reset_index()\n",
    "    stats = stats.groupby('icd_code').agg({\n",
    "        'subject_id': ['nunique']\n",
    "    })\n",
    "    stats.columns = ['count']\n",
    "    return [_ for _ in stats[stats['count'] > threshold].index.tolist() if _ not in ['5559', '5569']]"
   ]
  },
  {
   "cell_type": "code",
   "execution_count": 105,
   "metadata": {},
   "outputs": [
    {
     "data": {
      "text/plain": [
       "array([[ 1., 46.,  0., ...,  0.,  0.,  0.],\n",
       "       [ 0., 70.,  0., ...,  0.,  0.,  0.],\n",
       "       [ 0., 19.,  0., ...,  0.,  0.,  0.],\n",
       "       ...,\n",
       "       [ 1., 30.,  0., ...,  0.,  1.,  0.],\n",
       "       [ 1., 37.,  0., ...,  1.,  0.,  1.],\n",
       "       [ 0., 37.,  0., ...,  0.,  0.,  0.]])"
      ]
     },
     "execution_count": 105,
     "metadata": {},
     "output_type": "execute_result"
    }
   ],
   "source": [
    "# X\n",
    "suspect_icd_list = get_suspect_icd_list(100)\n",
    "X = np.zeros((len(df_demography.index), 3 + len(suspect_icd_list)))\n",
    "\n",
    "'''\n",
    "0: gender | 1: age_group | 2: anchor_year_group | 3: icd_2724 | 4: icd_27651 | 5: icd_2859 | 6: icd_30000 | 7: icd_311 | 8: icd_4019 | 9: icd_53081 | 10: icd_5849 | 11: icd_V1582\n",
    "'''\n",
    "\n",
    "\n",
    "\n",
    "for i in range(len(df_demography.index)):\n",
    "    subject_id = df_demography.index[i]\n",
    "    tmp_df = df[df['subject_id'] == subject_id]\n",
    "    \n",
    "    X[i, 0] = 1 if df_demography.loc[subject_id, 'gender'] == 'F' else 0\n",
    "    X[i, 1] = int(df_demography.loc[subject_id, 'anchor_age'])\n",
    "    # X[i, 2] = 1 if df_demography.loc[subject_id, 'anchor_year_group'] == 'Year 4' else 0\n",
    "    \n",
    "    for j in range(len(suspect_icd_list)):\n",
    "        X[i, 3 + j] = 1 if (tmp_df['icd_code'] == suspect_icd_list[j]).any() else 0\n",
    "\n",
    "X"
   ]
  },
  {
   "cell_type": "code",
   "execution_count": 106,
   "metadata": {},
   "outputs": [
    {
     "name": "stdout",
     "output_type": "stream",
     "text": [
      "  dead nums: (2037,) live nums: (380,)\n"
     ]
    }
   ],
   "source": [
    "# y\n",
    "labelDod = lambda x: 1 if type(x) == str else 0\n",
    "\n",
    "y = df_demography['dod'].apply(labelDod).values\n",
    "print('  dead nums: {} live nums: {}'.format(y[y == 0].shape, y[y == 1].shape))"
   ]
  },
  {
   "cell_type": "code",
   "execution_count": 107,
   "metadata": {},
   "outputs": [],
   "source": [
    "# Save files\n",
    "np.savetxt('../ r scripts/X.csv', X, delimiter=',', header=','.join(['gender', 'age', 'anchor_year_group'] + suspect_icd_list), comments='')\n",
    "np.savetxt('../ r scripts/y.csv', y, delimiter=',', header='dod', comments='')"
   ]
  },
  {
   "cell_type": "markdown",
   "metadata": {},
   "source": [
    "# Logistic Regression"
   ]
  },
  {
   "cell_type": "code",
   "execution_count": 63,
   "metadata": {},
   "outputs": [],
   "source": [
    "from sklearn.linear_model import LogisticRegression\n",
    "from sklearn.model_selection import train_test_split\n",
    "from sklearn.metrics import accuracy_score, f1_score, precision_score, recall_score"
   ]
  },
  {
   "cell_type": "code",
   "execution_count": 64,
   "metadata": {},
   "outputs": [
    {
     "name": "stdout",
     "output_type": "stream",
     "text": [
      "--> Logistic Regression\n",
      "  accuracy:\n",
      "    0.8719\n",
      "  precision:\n",
      "    0.6250\n",
      "  recall:\n",
      "    0.2206\n",
      "  f1:\n",
      "    0.3261\n"
     ]
    }
   ],
   "source": [
    "X_train, X_test, y_train, y_test = train_test_split(X, y, test_size=0.2, random_state=42)\n",
    "\n",
    "model = LogisticRegression()\n",
    "model.fit(X_train, y_train)\n",
    "y_pred = model.predict(X_test)\n",
    "\n",
    "accuracy = accuracy_score(y_test, y_pred)\n",
    "precision = precision_score(y_test, y_pred)\n",
    "recall = recall_score(y_test, y_pred)\n",
    "f1 = f1_score(y_test, y_pred)\n",
    "\n",
    "print('--> Logistic Regression')\n",
    "print('  accuracy:\\n    {:.4f}'.format(accuracy))\n",
    "print('  precision:\\n    {:.4f}'.format(precision))\n",
    "print('  recall:\\n    {:.4f}'.format(recall))\n",
    "print('  f1:\\n    {:.4f}'.format(f1))\n"
   ]
  },
  {
   "cell_type": "code",
   "execution_count": 21,
   "metadata": {},
   "outputs": [],
   "source": [
    "def logistic_regression(X: np.ndarray, y: np.ndarray, random_state: int = 42, test_size: float = 0.2) -> LogisticRegression:\n",
    "    X_train, X_test, y_train, y_test = train_test_split(X, y, test_size=test_size, random_state=random_state)\n",
    "\n",
    "    model = LogisticRegression()\n",
    "    model.fit(X_train, y_train)\n",
    "    y_pred = model.predict(X_test)\n",
    "\n",
    "    accuracy = accuracy_score(y_test, y_pred)\n",
    "    precision = precision_score(y_test, y_pred)\n",
    "    recall = recall_score(y_test, y_pred)\n",
    "    f1 = f1_score(y_test, y_pred)\n",
    "\n",
    "    print('--> Logistic Regression')\n",
    "    print('  accuracy:\\n    {:.4f}'.format(accuracy))\n",
    "    print('  precision:\\n    {:.4f}'.format(precision))\n",
    "    print('  recall:\\n    {:.4f}'.format(recall))\n",
    "    print('  f1:\\n    {:.4f}'.format(f1))\n",
    "    \n",
    "    return model"
   ]
  },
  {
   "cell_type": "code",
   "execution_count": 12,
   "metadata": {},
   "outputs": [
    {
     "name": "stdout",
     "output_type": "stream",
     "text": [
      "--> Logistic Regression\n",
      "  accuracy:\n",
      "    0.8864\n",
      "  precision:\n",
      "    0.6444\n",
      "  recall:\n",
      "    0.4265\n",
      "  f1:\n",
      "    0.5133\n"
     ]
    }
   ],
   "source": [
    "model = logistic_regression(X, y)"
   ]
  },
  {
   "cell_type": "code",
   "execution_count": 27,
   "metadata": {},
   "outputs": [
    {
     "name": "stdout",
     "output_type": "stream",
     "text": [
      "--> Logistic Regression\n",
      "  accuracy:\n",
      "    0.8574\n",
      "  precision:\n",
      "    0.7179\n",
      "  recall:\n",
      "    0.3256\n",
      "  f1:\n",
      "    0.4480\n"
     ]
    }
   ],
   "source": [
    "model = logistic_regression(X[:, [1, 3, 5, 7, 10, 11]], y, test_size=0.2, random_state=45)"
   ]
  },
  {
   "cell_type": "code",
   "execution_count": 108,
   "metadata": {},
   "outputs": [
    {
     "data": {
      "text/html": [
       "<div>\n",
       "<style scoped>\n",
       "    .dataframe tbody tr th:only-of-type {\n",
       "        vertical-align: middle;\n",
       "    }\n",
       "\n",
       "    .dataframe tbody tr th {\n",
       "        vertical-align: top;\n",
       "    }\n",
       "\n",
       "    .dataframe thead th {\n",
       "        text-align: right;\n",
       "    }\n",
       "</style>\n",
       "<table border=\"1\" class=\"dataframe\">\n",
       "  <thead>\n",
       "    <tr style=\"text-align: right;\">\n",
       "      <th></th>\n",
       "      <th>count</th>\n",
       "    </tr>\n",
       "    <tr>\n",
       "      <th>icd_code</th>\n",
       "      <th></th>\n",
       "    </tr>\n",
       "  </thead>\n",
       "  <tbody>\n",
       "    <tr>\n",
       "      <th>5552</th>\n",
       "      <td>228</td>\n",
       "    </tr>\n",
       "  </tbody>\n",
       "</table>\n",
       "</div>"
      ],
      "text/plain": [
       "          count\n",
       "icd_code       \n",
       "5552        228"
      ]
     },
     "execution_count": 108,
     "metadata": {},
     "output_type": "execute_result"
    }
   ],
   "source": [
    "stats = df.groupby(['subject_id', 'icd_code']).agg({\n",
    "    'icd_code': ['count'],\n",
    "})\n",
    "stats.columns = ['count']\n",
    "stats = stats.reset_index()\n",
    "stats = stats.groupby('icd_code').agg({\n",
    "    'subject_id': ['nunique']\n",
    "})\n",
    "stats.columns = ['count']\n",
    "\n",
    "stats[stats.index == '5552']"
   ]
  }
 ],
 "metadata": {
  "kernelspec": {
   "display_name": ".venv",
   "language": "python",
   "name": "python3"
  },
  "language_info": {
   "codemirror_mode": {
    "name": "ipython",
    "version": 3
   },
   "file_extension": ".py",
   "mimetype": "text/x-python",
   "name": "python",
   "nbconvert_exporter": "python",
   "pygments_lexer": "ipython3",
   "version": "3.10.13"
  }
 },
 "nbformat": 4,
 "nbformat_minor": 2
}
