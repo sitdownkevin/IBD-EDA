{
 "cells": [
  {
   "cell_type": "code",
   "execution_count": null,
   "metadata": {},
   "outputs": [],
   "source": [
    "import numpy as np\n",
    "import json\n",
    "import os\n",
    "import pandas as pd\n",
    "import matplotlib.pyplot as plt\n",
    "\n",
    "from datetime import datetime\n",
    "from utils import load_env_file, set_mpl_configs\n",
    "from utils import leave_percentile, distribution_analysis\n",
    "\n",
    "load_env_file()\n",
    "set_mpl_configs()\n",
    "\n",
    "DATA_DIR = os.getenv('DATA_DIR')\n",
    "print('DATA_DIR: {}'.format(DATA_DIR))"
   ]
  },
  {
   "cell_type": "code",
   "execution_count": null,
   "metadata": {},
   "outputs": [],
   "source": [
    "with open('../data/ibd_demo.json', 'r') as f:\n",
    "    data = json.loads(f.read())\n",
    "    \n",
    "both_ibd_patients: list = data['both_ibd']\n",
    "only_uc_patients: list = data['only_uc']\n",
    "only_cd_patients: list = data['only_cd']"
   ]
  },
  {
   "cell_type": "markdown",
   "metadata": {},
   "source": [
    "# Admission LOS"
   ]
  },
  {
   "cell_type": "code",
   "execution_count": null,
   "metadata": {},
   "outputs": [],
   "source": [
    "df = pd.read_csv(os.path.join(DATA_DIR, 'outcome', 'admission_stay.csv'))"
   ]
  },
  {
   "cell_type": "code",
   "execution_count": null,
   "metadata": {},
   "outputs": [],
   "source": [
    "for _column in ['admittime', 'dischtime', 'edregtime', 'edouttime']:\n",
    "    # 入院 出院 进入Ed 离开Ed\n",
    "    df[_column] = pd.to_datetime(df[_column])\n",
    "    \n",
    "# for i ,_anchor_year in enumerate(df['anchor_year']):\n",
    "#     df.loc[i, 'anchor_year'] = pd.to_datetime(datetime(year=_anchor_year, month=1, day=1))\n",
    "\n",
    "df.head(2)"
   ]
  },
  {
   "cell_type": "code",
   "execution_count": null,
   "metadata": {},
   "outputs": [],
   "source": [
    "df.groupby('subject_id').agg({\n",
    "    'anchor_year': 'first',\n",
    "    'admittime': 'first',\n",
    "    'dischtime': 'first'\n",
    "})"
   ]
  },
  {
   "cell_type": "code",
   "execution_count": null,
   "metadata": {},
   "outputs": [],
   "source": [
    "df['los_ad'] = df['dischtime'] - df['admittime']\n",
    "df['los_dp'] = df['edouttime'] - df['edregtime']\n",
    "\n",
    "df.head()"
   ]
  },
  {
   "cell_type": "code",
   "execution_count": null,
   "metadata": {},
   "outputs": [],
   "source": [
    "stats = df.groupby('subject_id').agg({\n",
    "    'los_ad': ['mean', 'min', 'max', 'count'],\n",
    "    'los_dp': ['mean', 'min', 'max', 'count']\n",
    "})\n",
    "\n",
    "stats.head()"
   ]
  },
  {
   "cell_type": "code",
   "execution_count": null,
   "metadata": {},
   "outputs": [],
   "source": [
    "data = stats['los_ad']['mean']\n",
    "\n",
    "data = np.array(data)\n",
    "\n",
    "data = data.astype(np.int64) / 1e9\n",
    "\n",
    "data = leave_percentile(data)"
   ]
  },
  {
   "cell_type": "code",
   "execution_count": null,
   "metadata": {},
   "outputs": [],
   "source": [
    "distribution_analysis(data, bins=30)"
   ]
  },
  {
   "cell_type": "code",
   "execution_count": null,
   "metadata": {},
   "outputs": [],
   "source": [
    "stats[data > 1e6]"
   ]
  },
  {
   "cell_type": "code",
   "execution_count": null,
   "metadata": {},
   "outputs": [],
   "source": [
    "stats[stats.index.isin(both_ibd_patients)]"
   ]
  },
  {
   "cell_type": "markdown",
   "metadata": {},
   "source": [
    "# ICU LOS"
   ]
  },
  {
   "cell_type": "code",
   "execution_count": null,
   "metadata": {},
   "outputs": [],
   "source": [
    "df = pd.read_csv(os.path.join(DATA_DIR, 'outcome', 'icu_stay.csv'))\n",
    "\n",
    "df = df.drop_duplicates(subset=['subject_id', 'stay_id']).dropna(subset=['stay_id'])\n",
    "\n",
    "df.head()"
   ]
  },
  {
   "cell_type": "code",
   "execution_count": null,
   "metadata": {},
   "outputs": [],
   "source": [
    "stats = df.groupby(['subject_id']).agg({\n",
    "    'stay_id': 'first',\n",
    "    'los': 'first', \n",
    "    'dod': 'first'\n",
    "})\n",
    "\n",
    "stats.head()"
   ]
  },
  {
   "cell_type": "code",
   "execution_count": null,
   "metadata": {},
   "outputs": [],
   "source": [
    "stats[stats.index.isin(both_ibd_patients)].shape"
   ]
  },
  {
   "cell_type": "code",
   "execution_count": null,
   "metadata": {},
   "outputs": [],
   "source": [
    "data = np.array(stats.los)\n",
    "\n",
    "# data = leave_percentile(data)\n"
   ]
  },
  {
   "cell_type": "code",
   "execution_count": null,
   "metadata": {},
   "outputs": [],
   "source": [
    "distribution_analysis(data, bins=20)"
   ]
  },
  {
   "cell_type": "code",
   "execution_count": null,
   "metadata": {},
   "outputs": [],
   "source": []
  }
 ],
 "metadata": {
  "kernelspec": {
   "display_name": "ibd",
   "language": "python",
   "name": "python3"
  },
  "language_info": {
   "codemirror_mode": {
    "name": "ipython",
    "version": 3
   },
   "file_extension": ".py",
   "mimetype": "text/x-python",
   "name": "python",
   "nbconvert_exporter": "python",
   "pygments_lexer": "ipython3",
   "version": "3.9.18"
  }
 },
 "nbformat": 4,
 "nbformat_minor": 2
}
