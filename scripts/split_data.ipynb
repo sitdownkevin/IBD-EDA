{
 "cells": [
  {
   "cell_type": "code",
   "execution_count": 61,
   "metadata": {},
   "outputs": [],
   "source": [
    "import pandas as pd"
   ]
  },
  {
   "cell_type": "code",
   "execution_count": 62,
   "metadata": {},
   "outputs": [],
   "source": [
    "data = pd.read_csv('../data/data.csv', index_col=0)"
   ]
  },
  {
   "cell_type": "code",
   "execution_count": 63,
   "metadata": {},
   "outputs": [],
   "source": [
    "slice = data.iloc[:, 19:].sum(axis=0).sort_values(ascending=False) / data.shape[0] * 100"
   ]
  },
  {
   "cell_type": "code",
   "execution_count": 64,
   "metadata": {},
   "outputs": [
    {
     "data": {
      "text/plain": [
       "(Index(['4019', '53081', '2859', 'V1582', '311', '2724', '5849', '30000',\n",
       "        '27651', 'V4572', '5990', 'V5865', '2851', '78791', '2809', '3051',\n",
       "        '2449', 'V5861', '49390', '42731', '25000', '2761', '2762', '41401',\n",
       "        'V442', 'Z87891', 'K219', 'I10', '56089', '28860', '2720', 'K5090',\n",
       "        '2768', '5609', '486', '73300', '4280', '33829', 'E8788', 'E785',\n",
       "        '42789', 'F329', '78701', 'E8497', 'F419', 'V1251', '40390', 'E8798',\n",
       "        '5601', '2800', 'V5866', '27652', '28529', '99859', 'N179', '56400',\n",
       "        '5859', '2767', '2875', '78321', '27800', '4589', '00845', 'E8782',\n",
       "        '5589', 'Z9049', '34690', 'V4589', '32723', '0389', 'V1279', '2639',\n",
       "        '3004', 'K5190', '78060', '496', '99592', '78052', 'V4986', '56210',\n",
       "        'V552', '56722', 'D649', 'V5867', '7850', '5680', 'E9320', 'Y929',\n",
       "        '78820', '73390', '78702', '51881', '7840', '78900', '79092', '78659',\n",
       "        '71590', '412', 'V5869', 'E8490'],\n",
       "       dtype='object'),\n",
       " (100,))"
      ]
     },
     "execution_count": 64,
     "metadata": {},
     "output_type": "execute_result"
    }
   ],
   "source": [
    "slice[slice > 5].index, slice[slice > 5].shape"
   ]
  },
  {
   "cell_type": "code",
   "execution_count": 65,
   "metadata": {},
   "outputs": [],
   "source": [
    "kept_cols = data.columns[:19].to_list() + slice[slice > 5].index.tolist()"
   ]
  },
  {
   "cell_type": "code",
   "execution_count": 66,
   "metadata": {},
   "outputs": [
    {
     "data": {
      "text/plain": [
       "(2417, 119)"
      ]
     },
     "execution_count": 66,
     "metadata": {},
     "output_type": "execute_result"
    }
   ],
   "source": [
    "data = data.loc[:, kept_cols]\n",
    "data.shape"
   ]
  },
  {
   "cell_type": "code",
   "execution_count": 67,
   "metadata": {},
   "outputs": [],
   "source": [
    "data['first_age'] = (data['first_age'] - data['first_age'].min()) / (data['first_age'].max() - data['first_age'].min())"
   ]
  },
  {
   "cell_type": "code",
   "execution_count": 68,
   "metadata": {},
   "outputs": [],
   "source": [
    "data.to_csv('../data/data_kept.csv')"
   ]
  },
  {
   "cell_type": "code",
   "execution_count": 69,
   "metadata": {},
   "outputs": [
    {
     "data": {
      "text/plain": [
       "(2417, 119)"
      ]
     },
     "execution_count": 69,
     "metadata": {},
     "output_type": "execute_result"
    }
   ],
   "source": [
    "data.shape"
   ]
  },
  {
   "cell_type": "code",
   "execution_count": null,
   "metadata": {},
   "outputs": [],
   "source": []
  }
 ],
 "metadata": {
  "kernelspec": {
   "display_name": "base",
   "language": "python",
   "name": "python3"
  },
  "language_info": {
   "codemirror_mode": {
    "name": "ipython",
    "version": 3
   },
   "file_extension": ".py",
   "mimetype": "text/x-python",
   "name": "python",
   "nbconvert_exporter": "python",
   "pygments_lexer": "ipython3",
   "version": "3.12.1"
  }
 },
 "nbformat": 4,
 "nbformat_minor": 2
}
