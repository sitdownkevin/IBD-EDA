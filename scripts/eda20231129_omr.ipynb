{
 "cells": [
  {
   "cell_type": "code",
   "execution_count": 1,
   "metadata": {},
   "outputs": [
    {
     "name": "stdout",
     "output_type": "stream",
     "text": [
      "load env file\n",
      "  root dir:\n",
      "    /home/k/Repo/IBD-EDA\n",
      "  current system:\n",
      "    Linux\n",
      "  load .env.linux\n",
      "  loaded data dir:\n",
      "    /home/k/Nutstore Files/毕设-EHR/DB\n",
      "done.\n",
      "set matplotlib configs\n",
      "  font family:\n",
      "    ['Times New Roman']\n",
      "done.\n",
      "DATA_DIR: /home/k/Nutstore Files/毕设-EHR/DB\n"
     ]
    }
   ],
   "source": [
    "import numpy as np\n",
    "import json\n",
    "import os\n",
    "import pandas as pd\n",
    "import matplotlib.pyplot as plt\n",
    "\n",
    "from utils import load_env_file, set_mpl_configs\n",
    "from utils import leave_percentile, distribution_analysis\n",
    "\n",
    "load_env_file()\n",
    "set_mpl_configs()\n",
    "\n",
    "DATA_DIR = os.getenv('DATA_DIR')\n",
    "print('DATA_DIR: {}'.format(DATA_DIR))"
   ]
  },
  {
   "cell_type": "code",
   "execution_count": 3,
   "metadata": {},
   "outputs": [],
   "source": [
    "with open('../data/ibd_demo.json', 'r') as f:\n",
    "    data = json.loads(f.read())\n",
    "    \n",
    "both_ibd_patients: list = data['both_ibd']\n",
    "only_uc_patiens: list = data['only_uc']\n",
    "only_cd_patients: list = data['only_cd']\n",
    "\n",
    "\n",
    "df = pd.read_csv(os.path.join(DATA_DIR, 'omr', 'ibd_omr.csv'))\n",
    "df = df[df['result_name'].isin(['Blood Pressure', 'Weight (Lbs)', 'BMI (kg/m2)', 'Height (Inches)'])]"
   ]
  },
  {
   "cell_type": "markdown",
   "metadata": {},
   "source": [
    "# Blood Pressure"
   ]
  },
  {
   "cell_type": "code",
   "execution_count": 7,
   "metadata": {},
   "outputs": [
    {
     "data": {
      "text/html": [
       "<div>\n",
       "<style scoped>\n",
       "    .dataframe tbody tr th:only-of-type {\n",
       "        vertical-align: middle;\n",
       "    }\n",
       "\n",
       "    .dataframe tbody tr th {\n",
       "        vertical-align: top;\n",
       "    }\n",
       "\n",
       "    .dataframe thead th {\n",
       "        text-align: right;\n",
       "    }\n",
       "</style>\n",
       "<table border=\"1\" class=\"dataframe\">\n",
       "  <thead>\n",
       "    <tr style=\"text-align: right;\">\n",
       "      <th></th>\n",
       "      <th>subject_id</th>\n",
       "      <th>chartdate</th>\n",
       "      <th>seq_num</th>\n",
       "      <th>result_name</th>\n",
       "      <th>result_value</th>\n",
       "    </tr>\n",
       "  </thead>\n",
       "  <tbody>\n",
       "    <tr>\n",
       "      <th>28</th>\n",
       "      <td>10303503</td>\n",
       "      <td>2144-05-09</td>\n",
       "      <td>1</td>\n",
       "      <td>Blood Pressure</td>\n",
       "      <td>106/64</td>\n",
       "    </tr>\n",
       "    <tr>\n",
       "      <th>29</th>\n",
       "      <td>10303503</td>\n",
       "      <td>2145-03-23</td>\n",
       "      <td>1</td>\n",
       "      <td>Blood Pressure</td>\n",
       "      <td>120/60</td>\n",
       "    </tr>\n",
       "    <tr>\n",
       "      <th>32</th>\n",
       "      <td>10303503</td>\n",
       "      <td>2145-07-19</td>\n",
       "      <td>1</td>\n",
       "      <td>Blood Pressure</td>\n",
       "      <td>130/60</td>\n",
       "    </tr>\n",
       "    <tr>\n",
       "      <th>34</th>\n",
       "      <td>10303503</td>\n",
       "      <td>2145-11-20</td>\n",
       "      <td>1</td>\n",
       "      <td>Blood Pressure</td>\n",
       "      <td>110/60</td>\n",
       "    </tr>\n",
       "    <tr>\n",
       "      <th>35</th>\n",
       "      <td>10303503</td>\n",
       "      <td>2146-02-27</td>\n",
       "      <td>1</td>\n",
       "      <td>Blood Pressure</td>\n",
       "      <td>109/60</td>\n",
       "    </tr>\n",
       "  </tbody>\n",
       "</table>\n",
       "</div>"
      ],
      "text/plain": [
       "    subject_id   chartdate  seq_num     result_name result_value\n",
       "28    10303503  2144-05-09        1  Blood Pressure       106/64\n",
       "29    10303503  2145-03-23        1  Blood Pressure       120/60\n",
       "32    10303503  2145-07-19        1  Blood Pressure       130/60\n",
       "34    10303503  2145-11-20        1  Blood Pressure       110/60\n",
       "35    10303503  2146-02-27        1  Blood Pressure       109/60"
      ]
     },
     "execution_count": 7,
     "metadata": {},
     "output_type": "execute_result"
    }
   ],
   "source": [
    "patient_list = both_ibd_patients\n",
    "\n",
    "sub_df = df[df['subject_id'].isin(patient_list) & (df['result_name'] == 'Blood Pressure')]\n",
    "\n",
    "sub_df.head()"
   ]
  },
  {
   "cell_type": "code",
   "execution_count": 8,
   "metadata": {},
   "outputs": [],
   "source": [
    "def handle_blood_pressure(result_value: str, low: bool = True) -> (int, int):\n",
    "    if low:\n",
    "        return int(result_value.split('/')[1])\n",
    "    else:\n",
    "        return int(result_value.split('/')[0])\n",
    "    "
   ]
  },
  {
   "cell_type": "code",
   "execution_count": 9,
   "metadata": {},
   "outputs": [
    {
     "name": "stderr",
     "output_type": "stream",
     "text": [
      "/tmp/ipykernel_302424/369729834.py:1: SettingWithCopyWarning: \n",
      "A value is trying to be set on a copy of a slice from a DataFrame.\n",
      "Try using .loc[row_indexer,col_indexer] = value instead\n",
      "\n",
      "See the caveats in the documentation: https://pandas.pydata.org/pandas-docs/stable/user_guide/indexing.html#returning-a-view-versus-a-copy\n",
      "  sub_df['low'] = sub_df['result_value'].apply(handle_blood_pressure, low=True)\n",
      "/tmp/ipykernel_302424/369729834.py:2: SettingWithCopyWarning: \n",
      "A value is trying to be set on a copy of a slice from a DataFrame.\n",
      "Try using .loc[row_indexer,col_indexer] = value instead\n",
      "\n",
      "See the caveats in the documentation: https://pandas.pydata.org/pandas-docs/stable/user_guide/indexing.html#returning-a-view-versus-a-copy\n",
      "  sub_df['high'] = sub_df['result_value'].apply(handle_blood_pressure, low=False)\n"
     ]
    }
   ],
   "source": [
    "sub_df['low'] = sub_df['result_value'].apply(handle_blood_pressure, low=True)\n",
    "sub_df['high'] = sub_df['result_value'].apply(handle_blood_pressure, low=False)"
   ]
  },
  {
   "cell_type": "code",
   "execution_count": 10,
   "metadata": {},
   "outputs": [
    {
     "data": {
      "text/html": [
       "<div>\n",
       "<style scoped>\n",
       "    .dataframe tbody tr th:only-of-type {\n",
       "        vertical-align: middle;\n",
       "    }\n",
       "\n",
       "    .dataframe tbody tr th {\n",
       "        vertical-align: top;\n",
       "    }\n",
       "\n",
       "    .dataframe thead tr th {\n",
       "        text-align: left;\n",
       "    }\n",
       "\n",
       "    .dataframe thead tr:last-of-type th {\n",
       "        text-align: right;\n",
       "    }\n",
       "</style>\n",
       "<table border=\"1\" class=\"dataframe\">\n",
       "  <thead>\n",
       "    <tr>\n",
       "      <th></th>\n",
       "      <th colspan=\"3\" halign=\"left\">low</th>\n",
       "      <th colspan=\"3\" halign=\"left\">high</th>\n",
       "    </tr>\n",
       "    <tr>\n",
       "      <th></th>\n",
       "      <th>mean</th>\n",
       "      <th>min</th>\n",
       "      <th>max</th>\n",
       "      <th>mean</th>\n",
       "      <th>min</th>\n",
       "      <th>max</th>\n",
       "    </tr>\n",
       "    <tr>\n",
       "      <th>subject_id</th>\n",
       "      <th></th>\n",
       "      <th></th>\n",
       "      <th></th>\n",
       "      <th></th>\n",
       "      <th></th>\n",
       "      <th></th>\n",
       "    </tr>\n",
       "  </thead>\n",
       "  <tbody>\n",
       "    <tr>\n",
       "      <th>10149624</th>\n",
       "      <td>64.904762</td>\n",
       "      <td>48</td>\n",
       "      <td>72</td>\n",
       "      <td>106.047619</td>\n",
       "      <td>96</td>\n",
       "      <td>126</td>\n",
       "    </tr>\n",
       "    <tr>\n",
       "      <th>10303503</th>\n",
       "      <td>65.604651</td>\n",
       "      <td>49</td>\n",
       "      <td>80</td>\n",
       "      <td>107.023256</td>\n",
       "      <td>83</td>\n",
       "      <td>130</td>\n",
       "    </tr>\n",
       "    <tr>\n",
       "      <th>10767777</th>\n",
       "      <td>60.666667</td>\n",
       "      <td>52</td>\n",
       "      <td>71</td>\n",
       "      <td>106.666667</td>\n",
       "      <td>100</td>\n",
       "      <td>114</td>\n",
       "    </tr>\n",
       "    <tr>\n",
       "      <th>10789934</th>\n",
       "      <td>93.000000</td>\n",
       "      <td>93</td>\n",
       "      <td>93</td>\n",
       "      <td>139.000000</td>\n",
       "      <td>139</td>\n",
       "      <td>139</td>\n",
       "    </tr>\n",
       "    <tr>\n",
       "      <th>10814123</th>\n",
       "      <td>73.833333</td>\n",
       "      <td>65</td>\n",
       "      <td>81</td>\n",
       "      <td>122.000000</td>\n",
       "      <td>116</td>\n",
       "      <td>130</td>\n",
       "    </tr>\n",
       "  </tbody>\n",
       "</table>\n",
       "</div>"
      ],
      "text/plain": [
       "                  low                high          \n",
       "                 mean min max        mean  min  max\n",
       "subject_id                                         \n",
       "10149624    64.904762  48  72  106.047619   96  126\n",
       "10303503    65.604651  49  80  107.023256   83  130\n",
       "10767777    60.666667  52  71  106.666667  100  114\n",
       "10789934    93.000000  93  93  139.000000  139  139\n",
       "10814123    73.833333  65  81  122.000000  116  130"
      ]
     },
     "execution_count": 10,
     "metadata": {},
     "output_type": "execute_result"
    }
   ],
   "source": [
    "stats = sub_df.groupby('subject_id').agg({\n",
    "    'low': ['mean', 'min', 'max'],\n",
    "    'high': ['mean', 'min', 'max'],\n",
    "})\n",
    "\n",
    "stats.head()"
   ]
  },
  {
   "cell_type": "code",
   "execution_count": 11,
   "metadata": {},
   "outputs": [
    {
     "data": {
      "text/plain": [
       "count    68.000000\n",
       "mean     71.770873\n",
       "std       7.687824\n",
       "min      50.000000\n",
       "25%      66.749554\n",
       "50%      72.222222\n",
       "75%      77.143068\n",
       "max      93.000000\n",
       "Name: mean, dtype: float64"
      ]
     },
     "execution_count": 11,
     "metadata": {},
     "output_type": "execute_result"
    }
   ],
   "source": [
    "stats['low']['mean'].describe()"
   ]
  },
  {
   "cell_type": "code",
   "execution_count": 12,
   "metadata": {},
   "outputs": [
    {
     "data": {
      "text/plain": [
       "count     68.000000\n",
       "mean     121.429488\n",
       "std       12.521672\n",
       "min       96.166667\n",
       "25%      112.419580\n",
       "50%      120.155172\n",
       "75%      129.812500\n",
       "max      147.230769\n",
       "Name: mean, dtype: float64"
      ]
     },
     "execution_count": 12,
     "metadata": {},
     "output_type": "execute_result"
    }
   ],
   "source": [
    "stats['high']['mean'].describe()"
   ]
  },
  {
   "cell_type": "markdown",
   "metadata": {},
   "source": [
    "# BMI"
   ]
  },
  {
   "cell_type": "code",
   "execution_count": 13,
   "metadata": {},
   "outputs": [
    {
     "name": "stderr",
     "output_type": "stream",
     "text": [
      "/tmp/ipykernel_302424/2835762180.py:4: SettingWithCopyWarning: \n",
      "A value is trying to be set on a copy of a slice from a DataFrame.\n",
      "Try using .loc[row_indexer,col_indexer] = value instead\n",
      "\n",
      "See the caveats in the documentation: https://pandas.pydata.org/pandas-docs/stable/user_guide/indexing.html#returning-a-view-versus-a-copy\n",
      "  sub_df['result_value'] = sub_df['result_value'].apply(float)\n"
     ]
    },
    {
     "data": {
      "text/html": [
       "<div>\n",
       "<style scoped>\n",
       "    .dataframe tbody tr th:only-of-type {\n",
       "        vertical-align: middle;\n",
       "    }\n",
       "\n",
       "    .dataframe tbody tr th {\n",
       "        vertical-align: top;\n",
       "    }\n",
       "\n",
       "    .dataframe thead th {\n",
       "        text-align: right;\n",
       "    }\n",
       "</style>\n",
       "<table border=\"1\" class=\"dataframe\">\n",
       "  <thead>\n",
       "    <tr style=\"text-align: right;\">\n",
       "      <th></th>\n",
       "      <th>subject_id</th>\n",
       "      <th>chartdate</th>\n",
       "      <th>seq_num</th>\n",
       "      <th>result_name</th>\n",
       "      <th>result_value</th>\n",
       "    </tr>\n",
       "  </thead>\n",
       "  <tbody>\n",
       "    <tr>\n",
       "      <th>81241</th>\n",
       "      <td>10030412</td>\n",
       "      <td>2144-07-06</td>\n",
       "      <td>1</td>\n",
       "      <td>BMI (kg/m2)</td>\n",
       "      <td>20.9</td>\n",
       "    </tr>\n",
       "    <tr>\n",
       "      <th>81249</th>\n",
       "      <td>10865431</td>\n",
       "      <td>2158-10-03</td>\n",
       "      <td>1</td>\n",
       "      <td>BMI (kg/m2)</td>\n",
       "      <td>29.0</td>\n",
       "    </tr>\n",
       "    <tr>\n",
       "      <th>81254</th>\n",
       "      <td>10865431</td>\n",
       "      <td>2159-06-12</td>\n",
       "      <td>1</td>\n",
       "      <td>BMI (kg/m2)</td>\n",
       "      <td>34.3</td>\n",
       "    </tr>\n",
       "    <tr>\n",
       "      <th>81269</th>\n",
       "      <td>13376182</td>\n",
       "      <td>2122-03-10</td>\n",
       "      <td>1</td>\n",
       "      <td>BMI (kg/m2)</td>\n",
       "      <td>19.4</td>\n",
       "    </tr>\n",
       "    <tr>\n",
       "      <th>81278</th>\n",
       "      <td>13376182</td>\n",
       "      <td>2123-01-12</td>\n",
       "      <td>1</td>\n",
       "      <td>BMI (kg/m2)</td>\n",
       "      <td>20.3</td>\n",
       "    </tr>\n",
       "  </tbody>\n",
       "</table>\n",
       "</div>"
      ],
      "text/plain": [
       "       subject_id   chartdate  seq_num  result_name  result_value\n",
       "81241    10030412  2144-07-06        1  BMI (kg/m2)          20.9\n",
       "81249    10865431  2158-10-03        1  BMI (kg/m2)          29.0\n",
       "81254    10865431  2159-06-12        1  BMI (kg/m2)          34.3\n",
       "81269    13376182  2122-03-10        1  BMI (kg/m2)          19.4\n",
       "81278    13376182  2123-01-12        1  BMI (kg/m2)          20.3"
      ]
     },
     "execution_count": 13,
     "metadata": {},
     "output_type": "execute_result"
    }
   ],
   "source": [
    "patient_list = only_uc_patiens\n",
    "\n",
    "sub_df = df[df['subject_id'].isin(patient_list) & (df['result_name'] == 'BMI (kg/m2)')]\n",
    "sub_df['result_value'] = sub_df['result_value'].apply(float)\n",
    "\n",
    "sub_df.head()"
   ]
  },
  {
   "cell_type": "code",
   "execution_count": 14,
   "metadata": {},
   "outputs": [
    {
     "data": {
      "text/html": [
       "<div>\n",
       "<style scoped>\n",
       "    .dataframe tbody tr th:only-of-type {\n",
       "        vertical-align: middle;\n",
       "    }\n",
       "\n",
       "    .dataframe tbody tr th {\n",
       "        vertical-align: top;\n",
       "    }\n",
       "\n",
       "    .dataframe thead tr th {\n",
       "        text-align: left;\n",
       "    }\n",
       "\n",
       "    .dataframe thead tr:last-of-type th {\n",
       "        text-align: right;\n",
       "    }\n",
       "</style>\n",
       "<table border=\"1\" class=\"dataframe\">\n",
       "  <thead>\n",
       "    <tr>\n",
       "      <th></th>\n",
       "      <th colspan=\"3\" halign=\"left\">result_value</th>\n",
       "    </tr>\n",
       "    <tr>\n",
       "      <th></th>\n",
       "      <th>mean</th>\n",
       "      <th>min</th>\n",
       "      <th>max</th>\n",
       "    </tr>\n",
       "    <tr>\n",
       "      <th>subject_id</th>\n",
       "      <th></th>\n",
       "      <th></th>\n",
       "      <th></th>\n",
       "    </tr>\n",
       "  </thead>\n",
       "  <tbody>\n",
       "    <tr>\n",
       "      <th>10018852</th>\n",
       "      <td>26.000000</td>\n",
       "      <td>26.0</td>\n",
       "      <td>26.0</td>\n",
       "    </tr>\n",
       "    <tr>\n",
       "      <th>10024331</th>\n",
       "      <td>31.755556</td>\n",
       "      <td>29.3</td>\n",
       "      <td>43.2</td>\n",
       "    </tr>\n",
       "    <tr>\n",
       "      <th>10030412</th>\n",
       "      <td>20.900000</td>\n",
       "      <td>20.9</td>\n",
       "      <td>20.9</td>\n",
       "    </tr>\n",
       "    <tr>\n",
       "      <th>10048262</th>\n",
       "      <td>26.200000</td>\n",
       "      <td>24.2</td>\n",
       "      <td>35.0</td>\n",
       "    </tr>\n",
       "    <tr>\n",
       "      <th>10056223</th>\n",
       "      <td>32.796970</td>\n",
       "      <td>31.1</td>\n",
       "      <td>34.7</td>\n",
       "    </tr>\n",
       "  </tbody>\n",
       "</table>\n",
       "</div>"
      ],
      "text/plain": [
       "           result_value            \n",
       "                   mean   min   max\n",
       "subject_id                         \n",
       "10018852      26.000000  26.0  26.0\n",
       "10024331      31.755556  29.3  43.2\n",
       "10030412      20.900000  20.9  20.9\n",
       "10048262      26.200000  24.2  35.0\n",
       "10056223      32.796970  31.1  34.7"
      ]
     },
     "execution_count": 14,
     "metadata": {},
     "output_type": "execute_result"
    }
   ],
   "source": [
    "stats = sub_df.groupby('subject_id').agg({\n",
    "    'result_value': ['mean', 'min', 'max']\n",
    "})\n",
    "\n",
    "stats.head()"
   ]
  },
  {
   "cell_type": "code",
   "execution_count": 15,
   "metadata": {},
   "outputs": [
    {
     "data": {
      "text/plain": [
       "count    703.000000\n",
       "mean      27.939979\n",
       "std       20.079003\n",
       "min       10.800000\n",
       "25%       23.139167\n",
       "50%       26.141667\n",
       "75%       30.100000\n",
       "max      522.150000\n",
       "Name: mean, dtype: float64"
      ]
     },
     "execution_count": 15,
     "metadata": {},
     "output_type": "execute_result"
    }
   ],
   "source": [
    "stats['result_value']['mean'].describe()"
   ]
  },
  {
   "cell_type": "markdown",
   "metadata": {},
   "source": [
    "# Weight"
   ]
  },
  {
   "cell_type": "code",
   "execution_count": 16,
   "metadata": {},
   "outputs": [
    {
     "name": "stderr",
     "output_type": "stream",
     "text": [
      "/tmp/ipykernel_302424/855347022.py:4: SettingWithCopyWarning: \n",
      "A value is trying to be set on a copy of a slice from a DataFrame.\n",
      "Try using .loc[row_indexer,col_indexer] = value instead\n",
      "\n",
      "See the caveats in the documentation: https://pandas.pydata.org/pandas-docs/stable/user_guide/indexing.html#returning-a-view-versus-a-copy\n",
      "  sub_df['result_value'] = sub_df['result_value'].apply(float)\n"
     ]
    },
    {
     "data": {
      "text/html": [
       "<div>\n",
       "<style scoped>\n",
       "    .dataframe tbody tr th:only-of-type {\n",
       "        vertical-align: middle;\n",
       "    }\n",
       "\n",
       "    .dataframe tbody tr th {\n",
       "        vertical-align: top;\n",
       "    }\n",
       "\n",
       "    .dataframe thead th {\n",
       "        text-align: right;\n",
       "    }\n",
       "</style>\n",
       "<table border=\"1\" class=\"dataframe\">\n",
       "  <thead>\n",
       "    <tr style=\"text-align: right;\">\n",
       "      <th></th>\n",
       "      <th>subject_id</th>\n",
       "      <th>chartdate</th>\n",
       "      <th>seq_num</th>\n",
       "      <th>result_name</th>\n",
       "      <th>result_value</th>\n",
       "    </tr>\n",
       "  </thead>\n",
       "  <tbody>\n",
       "    <tr>\n",
       "      <th>1</th>\n",
       "      <td>10098672</td>\n",
       "      <td>2140-04-18</td>\n",
       "      <td>1</td>\n",
       "      <td>Weight (Lbs)</td>\n",
       "      <td>156.0</td>\n",
       "    </tr>\n",
       "    <tr>\n",
       "      <th>5</th>\n",
       "      <td>10098672</td>\n",
       "      <td>2140-11-14</td>\n",
       "      <td>1</td>\n",
       "      <td>Weight (Lbs)</td>\n",
       "      <td>135.0</td>\n",
       "    </tr>\n",
       "    <tr>\n",
       "      <th>8</th>\n",
       "      <td>10098672</td>\n",
       "      <td>2140-12-01</td>\n",
       "      <td>1</td>\n",
       "      <td>Weight (Lbs)</td>\n",
       "      <td>159.0</td>\n",
       "    </tr>\n",
       "    <tr>\n",
       "      <th>11</th>\n",
       "      <td>10098672</td>\n",
       "      <td>2141-01-05</td>\n",
       "      <td>1</td>\n",
       "      <td>Weight (Lbs)</td>\n",
       "      <td>170.0</td>\n",
       "    </tr>\n",
       "    <tr>\n",
       "      <th>15</th>\n",
       "      <td>10098672</td>\n",
       "      <td>2141-04-13</td>\n",
       "      <td>1</td>\n",
       "      <td>Weight (Lbs)</td>\n",
       "      <td>164.0</td>\n",
       "    </tr>\n",
       "  </tbody>\n",
       "</table>\n",
       "</div>"
      ],
      "text/plain": [
       "    subject_id   chartdate  seq_num   result_name  result_value\n",
       "1     10098672  2140-04-18        1  Weight (Lbs)         156.0\n",
       "5     10098672  2140-11-14        1  Weight (Lbs)         135.0\n",
       "8     10098672  2140-12-01        1  Weight (Lbs)         159.0\n",
       "11    10098672  2141-01-05        1  Weight (Lbs)         170.0\n",
       "15    10098672  2141-04-13        1  Weight (Lbs)         164.0"
      ]
     },
     "execution_count": 16,
     "metadata": {},
     "output_type": "execute_result"
    }
   ],
   "source": [
    "patient_list = both_ibd_patients + only_cd_patients + only_uc_patiens\n",
    "\n",
    "sub_df = df[df['subject_id'].isin(patient_list) & (df['result_name'] == 'Weight (Lbs)')]\n",
    "sub_df['result_value'] = sub_df['result_value'].apply(float)\n",
    "\n",
    "sub_df.head()"
   ]
  },
  {
   "cell_type": "code",
   "execution_count": 17,
   "metadata": {},
   "outputs": [
    {
     "data": {
      "text/html": [
       "<div>\n",
       "<style scoped>\n",
       "    .dataframe tbody tr th:only-of-type {\n",
       "        vertical-align: middle;\n",
       "    }\n",
       "\n",
       "    .dataframe tbody tr th {\n",
       "        vertical-align: top;\n",
       "    }\n",
       "\n",
       "    .dataframe thead tr th {\n",
       "        text-align: left;\n",
       "    }\n",
       "\n",
       "    .dataframe thead tr:last-of-type th {\n",
       "        text-align: right;\n",
       "    }\n",
       "</style>\n",
       "<table border=\"1\" class=\"dataframe\">\n",
       "  <thead>\n",
       "    <tr>\n",
       "      <th></th>\n",
       "      <th colspan=\"3\" halign=\"left\">result_value</th>\n",
       "    </tr>\n",
       "    <tr>\n",
       "      <th></th>\n",
       "      <th>mean</th>\n",
       "      <th>min</th>\n",
       "      <th>max</th>\n",
       "    </tr>\n",
       "    <tr>\n",
       "      <th>subject_id</th>\n",
       "      <th></th>\n",
       "      <th></th>\n",
       "      <th></th>\n",
       "    </tr>\n",
       "  </thead>\n",
       "  <tbody>\n",
       "    <tr>\n",
       "      <th>10007174</th>\n",
       "      <td>166.995</td>\n",
       "      <td>164.68</td>\n",
       "      <td>169.31</td>\n",
       "    </tr>\n",
       "    <tr>\n",
       "      <th>10018852</th>\n",
       "      <td>178.400</td>\n",
       "      <td>160.00</td>\n",
       "      <td>192.00</td>\n",
       "    </tr>\n",
       "    <tr>\n",
       "      <th>10024331</th>\n",
       "      <td>248.115</td>\n",
       "      <td>216.20</td>\n",
       "      <td>310.00</td>\n",
       "    </tr>\n",
       "    <tr>\n",
       "      <th>10025647</th>\n",
       "      <td>171.000</td>\n",
       "      <td>167.00</td>\n",
       "      <td>175.00</td>\n",
       "    </tr>\n",
       "    <tr>\n",
       "      <th>10027407</th>\n",
       "      <td>185.000</td>\n",
       "      <td>185.00</td>\n",
       "      <td>185.00</td>\n",
       "    </tr>\n",
       "  </tbody>\n",
       "</table>\n",
       "</div>"
      ],
      "text/plain": [
       "           result_value                \n",
       "                   mean     min     max\n",
       "subject_id                             \n",
       "10007174        166.995  164.68  169.31\n",
       "10018852        178.400  160.00  192.00\n",
       "10024331        248.115  216.20  310.00\n",
       "10025647        171.000  167.00  175.00\n",
       "10027407        185.000  185.00  185.00"
      ]
     },
     "execution_count": 17,
     "metadata": {},
     "output_type": "execute_result"
    }
   ],
   "source": [
    "stats = sub_df.groupby('subject_id').agg({\n",
    "    'result_value': ['mean', 'min', 'max']\n",
    "})\n",
    "\n",
    "stats.head()"
   ]
  },
  {
   "cell_type": "code",
   "execution_count": 18,
   "metadata": {},
   "outputs": [
    {
     "data": {
      "text/plain": [
       "count    1790.000000\n",
       "mean      167.464320\n",
       "std        59.333911\n",
       "min        75.600000\n",
       "25%       137.152745\n",
       "50%       160.000000\n",
       "75%       189.107302\n",
       "max      1818.361667\n",
       "Name: mean, dtype: float64"
      ]
     },
     "execution_count": 18,
     "metadata": {},
     "output_type": "execute_result"
    }
   ],
   "source": [
    "stats['result_value']['mean'].describe()"
   ]
  },
  {
   "cell_type": "code",
   "execution_count": 19,
   "metadata": {},
   "outputs": [
    {
     "data": {
      "text/plain": [
       "subject_id\n",
       "18932584    1508\n",
       "14876256    1005\n",
       "18753333     965\n",
       "10711182     868\n",
       "16658776     849\n",
       "            ... \n",
       "14235312       1\n",
       "19204296       1\n",
       "14814589       1\n",
       "13043470       1\n",
       "12070622       1\n",
       "Name: count, Length: 1856, dtype: int64"
      ]
     },
     "execution_count": 19,
     "metadata": {},
     "output_type": "execute_result"
    }
   ],
   "source": [
    "df.subject_id.value_counts()"
   ]
  },
  {
   "cell_type": "code",
   "execution_count": null,
   "metadata": {},
   "outputs": [],
   "source": []
  },
  {
   "cell_type": "code",
   "execution_count": null,
   "metadata": {},
   "outputs": [],
   "source": []
  }
 ],
 "metadata": {
  "kernelspec": {
   "display_name": ".venv",
   "language": "python",
   "name": "python3"
  },
  "language_info": {
   "codemirror_mode": {
    "name": "ipython",
    "version": 3
   },
   "file_extension": ".py",
   "mimetype": "text/x-python",
   "name": "python",
   "nbconvert_exporter": "python",
   "pygments_lexer": "ipython3",
   "version": "3.9.18"
  }
 },
 "nbformat": 4,
 "nbformat_minor": 2
}
