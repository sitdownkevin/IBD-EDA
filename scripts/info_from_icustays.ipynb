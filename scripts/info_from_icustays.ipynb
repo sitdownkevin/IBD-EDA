{
 "cells": [
  {
   "cell_type": "code",
   "execution_count": 1,
   "id": "834f9e43-9308-41f7-9a44-7bf9187b4ac4",
   "metadata": {},
   "outputs": [],
   "source": [
    "import pandas as pd"
   ]
  },
  {
   "cell_type": "markdown",
   "id": "3ae4b4ec-c50f-41db-8d83-d6e41c47db52",
   "metadata": {},
   "source": [
    "- df => icustays\n",
    "- df2 => admissions\n",
    "- df3 => patients"
   ]
  },
  {
   "cell_type": "code",
   "execution_count": 71,
   "id": "d7c79708-20b2-4b8c-8ae6-b9bce95ab570",
   "metadata": {},
   "outputs": [],
   "source": [
    "df = pd.read_csv('../data/icustays_ibd.csv')"
   ]
  },
  {
   "cell_type": "code",
   "execution_count": 6,
   "id": "b57153a9-a17e-4650-b05b-3a0e57ef074d",
   "metadata": {
    "scrolled": true
   },
   "outputs": [
    {
     "data": {
      "text/plain": [
       "(683,)"
      ]
     },
     "execution_count": 6,
     "metadata": {},
     "output_type": "execute_result"
    }
   ],
   "source": [
    "df['subject_id'].unique().shape"
   ]
  },
  {
   "cell_type": "code",
   "execution_count": 270,
   "id": "be97765a-694b-481f-ba9b-7ed2761bfe60",
   "metadata": {
    "scrolled": true
   },
   "outputs": [
    {
     "data": {
      "text/html": [
       "<div>\n",
       "<style scoped>\n",
       "    .dataframe tbody tr th:only-of-type {\n",
       "        vertical-align: middle;\n",
       "    }\n",
       "\n",
       "    .dataframe tbody tr th {\n",
       "        vertical-align: top;\n",
       "    }\n",
       "\n",
       "    .dataframe thead th {\n",
       "        text-align: right;\n",
       "    }\n",
       "</style>\n",
       "<table border=\"1\" class=\"dataframe\">\n",
       "  <thead>\n",
       "    <tr style=\"text-align: right;\">\n",
       "      <th></th>\n",
       "      <th>subject_id</th>\n",
       "      <th>hadm_id</th>\n",
       "      <th>admittime</th>\n",
       "      <th>dischtime</th>\n",
       "      <th>deathtime</th>\n",
       "      <th>admission_type</th>\n",
       "      <th>admit_provider_id</th>\n",
       "      <th>admission_location</th>\n",
       "      <th>discharge_location</th>\n",
       "      <th>insurance</th>\n",
       "      <th>language</th>\n",
       "      <th>marital_status</th>\n",
       "      <th>race</th>\n",
       "      <th>edregtime</th>\n",
       "      <th>edouttime</th>\n",
       "      <th>hospital_expire_flag</th>\n",
       "    </tr>\n",
       "  </thead>\n",
       "  <tbody>\n",
       "    <tr>\n",
       "      <th>0</th>\n",
       "      <td>10098672</td>\n",
       "      <td>21229395</td>\n",
       "      <td>2142-05-16 04:04:00</td>\n",
       "      <td>2142-05-23 14:15:00</td>\n",
       "      <td>NaT</td>\n",
       "      <td>EW EMER.</td>\n",
       "      <td>P30SZF</td>\n",
       "      <td>EMERGENCY ROOM</td>\n",
       "      <td>HOME HEALTH CARE</td>\n",
       "      <td>Other</td>\n",
       "      <td>ENGLISH</td>\n",
       "      <td>DIVORCED</td>\n",
       "      <td>WHITE</td>\n",
       "      <td>2142-05-15 15:49:00</td>\n",
       "      <td>2142-05-16 05:45:00</td>\n",
       "      <td>0</td>\n",
       "    </tr>\n",
       "    <tr>\n",
       "      <th>1</th>\n",
       "      <td>10098672</td>\n",
       "      <td>21259834</td>\n",
       "      <td>2141-04-13 17:30:00</td>\n",
       "      <td>2141-04-17 19:17:00</td>\n",
       "      <td>NaT</td>\n",
       "      <td>EW EMER.</td>\n",
       "      <td>P77SO2</td>\n",
       "      <td>EMERGENCY ROOM</td>\n",
       "      <td>HOME HEALTH CARE</td>\n",
       "      <td>Other</td>\n",
       "      <td>ENGLISH</td>\n",
       "      <td>DIVORCED</td>\n",
       "      <td>WHITE</td>\n",
       "      <td>2141-04-13 12:17:00</td>\n",
       "      <td>2141-04-13 18:47:00</td>\n",
       "      <td>0</td>\n",
       "    </tr>\n",
       "    <tr>\n",
       "      <th>2</th>\n",
       "      <td>10098672</td>\n",
       "      <td>21921527</td>\n",
       "      <td>2141-06-29 22:55:00</td>\n",
       "      <td>2141-07-03 16:52:00</td>\n",
       "      <td>NaT</td>\n",
       "      <td>URGENT</td>\n",
       "      <td>P816G0</td>\n",
       "      <td>TRANSFER FROM HOSPITAL</td>\n",
       "      <td>HOME HEALTH CARE</td>\n",
       "      <td>Other</td>\n",
       "      <td>ENGLISH</td>\n",
       "      <td>DIVORCED</td>\n",
       "      <td>WHITE</td>\n",
       "      <td>NaN</td>\n",
       "      <td>NaN</td>\n",
       "      <td>0</td>\n",
       "    </tr>\n",
       "    <tr>\n",
       "      <th>3</th>\n",
       "      <td>10098672</td>\n",
       "      <td>24843492</td>\n",
       "      <td>2142-05-06 07:15:00</td>\n",
       "      <td>2142-05-11 13:39:00</td>\n",
       "      <td>NaT</td>\n",
       "      <td>SURGICAL SAME DAY ADMISSION</td>\n",
       "      <td>P857XC</td>\n",
       "      <td>PHYSICIAN REFERRAL</td>\n",
       "      <td>HOME HEALTH CARE</td>\n",
       "      <td>Other</td>\n",
       "      <td>ENGLISH</td>\n",
       "      <td>DIVORCED</td>\n",
       "      <td>WHITE</td>\n",
       "      <td>NaN</td>\n",
       "      <td>NaN</td>\n",
       "      <td>0</td>\n",
       "    </tr>\n",
       "    <tr>\n",
       "      <th>4</th>\n",
       "      <td>10098672</td>\n",
       "      <td>26570321</td>\n",
       "      <td>2142-01-20 23:24:00</td>\n",
       "      <td>2142-01-28 18:47:00</td>\n",
       "      <td>NaT</td>\n",
       "      <td>EW EMER.</td>\n",
       "      <td>P95PIA</td>\n",
       "      <td>EMERGENCY ROOM</td>\n",
       "      <td>HOME HEALTH CARE</td>\n",
       "      <td>Other</td>\n",
       "      <td>ENGLISH</td>\n",
       "      <td>DIVORCED</td>\n",
       "      <td>WHITE</td>\n",
       "      <td>2142-01-20 19:54:00</td>\n",
       "      <td>2142-01-21 01:07:00</td>\n",
       "      <td>0</td>\n",
       "    </tr>\n",
       "    <tr>\n",
       "      <th>...</th>\n",
       "      <td>...</td>\n",
       "      <td>...</td>\n",
       "      <td>...</td>\n",
       "      <td>...</td>\n",
       "      <td>...</td>\n",
       "      <td>...</td>\n",
       "      <td>...</td>\n",
       "      <td>...</td>\n",
       "      <td>...</td>\n",
       "      <td>...</td>\n",
       "      <td>...</td>\n",
       "      <td>...</td>\n",
       "      <td>...</td>\n",
       "      <td>...</td>\n",
       "      <td>...</td>\n",
       "      <td>...</td>\n",
       "    </tr>\n",
       "    <tr>\n",
       "      <th>10605</th>\n",
       "      <td>16308779</td>\n",
       "      <td>27539941</td>\n",
       "      <td>2138-01-02 04:15:00</td>\n",
       "      <td>2138-01-04 16:35:00</td>\n",
       "      <td>NaT</td>\n",
       "      <td>EU OBSERVATION</td>\n",
       "      <td>P886Y0</td>\n",
       "      <td>EMERGENCY ROOM</td>\n",
       "      <td>NaN</td>\n",
       "      <td>Medicare</td>\n",
       "      <td>ENGLISH</td>\n",
       "      <td>WIDOWED</td>\n",
       "      <td>WHITE</td>\n",
       "      <td>2138-01-01 20:23:00</td>\n",
       "      <td>2138-01-02 04:51:00</td>\n",
       "      <td>0</td>\n",
       "    </tr>\n",
       "    <tr>\n",
       "      <th>10606</th>\n",
       "      <td>10556676</td>\n",
       "      <td>20224885</td>\n",
       "      <td>2167-04-16 15:33:00</td>\n",
       "      <td>2167-04-17 09:30:00</td>\n",
       "      <td>NaT</td>\n",
       "      <td>EU OBSERVATION</td>\n",
       "      <td>P76VMW</td>\n",
       "      <td>EMERGENCY ROOM</td>\n",
       "      <td>NaN</td>\n",
       "      <td>Other</td>\n",
       "      <td>ENGLISH</td>\n",
       "      <td>MARRIED</td>\n",
       "      <td>WHITE</td>\n",
       "      <td>2167-04-16 07:16:00</td>\n",
       "      <td>2167-04-17 09:30:00</td>\n",
       "      <td>0</td>\n",
       "    </tr>\n",
       "    <tr>\n",
       "      <th>10607</th>\n",
       "      <td>10556676</td>\n",
       "      <td>22783191</td>\n",
       "      <td>2164-02-12 04:35:00</td>\n",
       "      <td>2164-02-14 12:45:00</td>\n",
       "      <td>NaT</td>\n",
       "      <td>EW EMER.</td>\n",
       "      <td>P534S8</td>\n",
       "      <td>EMERGENCY ROOM</td>\n",
       "      <td>HOME HEALTH CARE</td>\n",
       "      <td>Other</td>\n",
       "      <td>ENGLISH</td>\n",
       "      <td>MARRIED</td>\n",
       "      <td>WHITE</td>\n",
       "      <td>2164-02-11 17:41:00</td>\n",
       "      <td>2164-02-12 05:11:00</td>\n",
       "      <td>0</td>\n",
       "    </tr>\n",
       "    <tr>\n",
       "      <th>10608</th>\n",
       "      <td>10556676</td>\n",
       "      <td>25577156</td>\n",
       "      <td>2163-10-31 21:05:00</td>\n",
       "      <td>2163-12-19 18:00:00</td>\n",
       "      <td>NaT</td>\n",
       "      <td>EW EMER.</td>\n",
       "      <td>P534S8</td>\n",
       "      <td>EMERGENCY ROOM</td>\n",
       "      <td>CHRONIC/LONG TERM ACUTE CARE</td>\n",
       "      <td>Other</td>\n",
       "      <td>ENGLISH</td>\n",
       "      <td>MARRIED</td>\n",
       "      <td>WHITE</td>\n",
       "      <td>2163-10-31 18:28:00</td>\n",
       "      <td>2163-10-31 23:48:00</td>\n",
       "      <td>0</td>\n",
       "    </tr>\n",
       "    <tr>\n",
       "      <th>10609</th>\n",
       "      <td>14458834</td>\n",
       "      <td>29475856</td>\n",
       "      <td>2161-06-20 16:25:00</td>\n",
       "      <td>2161-06-26 15:30:00</td>\n",
       "      <td>NaT</td>\n",
       "      <td>EU OBSERVATION</td>\n",
       "      <td>P13ZKD</td>\n",
       "      <td>EMERGENCY ROOM</td>\n",
       "      <td>NaN</td>\n",
       "      <td>Medicare</td>\n",
       "      <td>ENGLISH</td>\n",
       "      <td>WIDOWED</td>\n",
       "      <td>WHITE</td>\n",
       "      <td>2161-06-20 13:01:00</td>\n",
       "      <td>2161-06-20 19:12:00</td>\n",
       "      <td>0</td>\n",
       "    </tr>\n",
       "  </tbody>\n",
       "</table>\n",
       "<p>10610 rows × 16 columns</p>\n",
       "</div>"
      ],
      "text/plain": [
       "       subject_id   hadm_id            admittime           dischtime  \\\n",
       "0        10098672  21229395  2142-05-16 04:04:00 2142-05-23 14:15:00   \n",
       "1        10098672  21259834  2141-04-13 17:30:00 2141-04-17 19:17:00   \n",
       "2        10098672  21921527  2141-06-29 22:55:00 2141-07-03 16:52:00   \n",
       "3        10098672  24843492  2142-05-06 07:15:00 2142-05-11 13:39:00   \n",
       "4        10098672  26570321  2142-01-20 23:24:00 2142-01-28 18:47:00   \n",
       "...           ...       ...                  ...                 ...   \n",
       "10605    16308779  27539941  2138-01-02 04:15:00 2138-01-04 16:35:00   \n",
       "10606    10556676  20224885  2167-04-16 15:33:00 2167-04-17 09:30:00   \n",
       "10607    10556676  22783191  2164-02-12 04:35:00 2164-02-14 12:45:00   \n",
       "10608    10556676  25577156  2163-10-31 21:05:00 2163-12-19 18:00:00   \n",
       "10609    14458834  29475856  2161-06-20 16:25:00 2161-06-26 15:30:00   \n",
       "\n",
       "      deathtime               admission_type admit_provider_id  \\\n",
       "0           NaT                     EW EMER.            P30SZF   \n",
       "1           NaT                     EW EMER.            P77SO2   \n",
       "2           NaT                       URGENT            P816G0   \n",
       "3           NaT  SURGICAL SAME DAY ADMISSION            P857XC   \n",
       "4           NaT                     EW EMER.            P95PIA   \n",
       "...         ...                          ...               ...   \n",
       "10605       NaT               EU OBSERVATION            P886Y0   \n",
       "10606       NaT               EU OBSERVATION            P76VMW   \n",
       "10607       NaT                     EW EMER.            P534S8   \n",
       "10608       NaT                     EW EMER.            P534S8   \n",
       "10609       NaT               EU OBSERVATION            P13ZKD   \n",
       "\n",
       "           admission_location            discharge_location insurance  \\\n",
       "0              EMERGENCY ROOM              HOME HEALTH CARE     Other   \n",
       "1              EMERGENCY ROOM              HOME HEALTH CARE     Other   \n",
       "2      TRANSFER FROM HOSPITAL              HOME HEALTH CARE     Other   \n",
       "3          PHYSICIAN REFERRAL              HOME HEALTH CARE     Other   \n",
       "4              EMERGENCY ROOM              HOME HEALTH CARE     Other   \n",
       "...                       ...                           ...       ...   \n",
       "10605          EMERGENCY ROOM                           NaN  Medicare   \n",
       "10606          EMERGENCY ROOM                           NaN     Other   \n",
       "10607          EMERGENCY ROOM              HOME HEALTH CARE     Other   \n",
       "10608          EMERGENCY ROOM  CHRONIC/LONG TERM ACUTE CARE     Other   \n",
       "10609          EMERGENCY ROOM                           NaN  Medicare   \n",
       "\n",
       "      language marital_status   race            edregtime  \\\n",
       "0      ENGLISH       DIVORCED  WHITE  2142-05-15 15:49:00   \n",
       "1      ENGLISH       DIVORCED  WHITE  2141-04-13 12:17:00   \n",
       "2      ENGLISH       DIVORCED  WHITE                  NaN   \n",
       "3      ENGLISH       DIVORCED  WHITE                  NaN   \n",
       "4      ENGLISH       DIVORCED  WHITE  2142-01-20 19:54:00   \n",
       "...        ...            ...    ...                  ...   \n",
       "10605  ENGLISH        WIDOWED  WHITE  2138-01-01 20:23:00   \n",
       "10606  ENGLISH        MARRIED  WHITE  2167-04-16 07:16:00   \n",
       "10607  ENGLISH        MARRIED  WHITE  2164-02-11 17:41:00   \n",
       "10608  ENGLISH        MARRIED  WHITE  2163-10-31 18:28:00   \n",
       "10609  ENGLISH        WIDOWED  WHITE  2161-06-20 13:01:00   \n",
       "\n",
       "                 edouttime  hospital_expire_flag  \n",
       "0      2142-05-16 05:45:00                     0  \n",
       "1      2141-04-13 18:47:00                     0  \n",
       "2                      NaN                     0  \n",
       "3                      NaN                     0  \n",
       "4      2142-01-21 01:07:00                     0  \n",
       "...                    ...                   ...  \n",
       "10605  2138-01-02 04:51:00                     0  \n",
       "10606  2167-04-17 09:30:00                     0  \n",
       "10607  2164-02-12 05:11:00                     0  \n",
       "10608  2163-10-31 23:48:00                     0  \n",
       "10609  2161-06-20 19:12:00                     0  \n",
       "\n",
       "[10610 rows x 16 columns]"
      ]
     },
     "execution_count": 270,
     "metadata": {},
     "output_type": "execute_result"
    }
   ],
   "source": [
    "df2 = pd.read_csv('../data/admissions_ibd.csv')\n",
    "\n",
    "def parse_race(race):\n",
    "    if 'WHITE' in race:\n",
    "        return 'WHITE'\n",
    "    elif 'BLACK' in race:\n",
    "        return 'BLACK'\n",
    "    elif 'HISPANIC' in race or 'LATINO' in race:\n",
    "        return 'HISPANIC/LATINO'\n",
    "    elif 'ASIAN' in race:\n",
    "        return 'ASIAN'\n",
    "    else:\n",
    "        return 'OTHER'\n",
    "\n",
    "df2['race'] = df2['race'].apply(parse_race)\n",
    "\n",
    "df2['dischtime'] = pd.to_datetime(df2['dischtime'])\n",
    "df2['deathtime'] = pd.to_datetime(df2['deathtime'])\n",
    "df2"
   ]
  },
  {
   "cell_type": "code",
   "execution_count": 271,
   "id": "e64d542d-b6bf-4148-8b75-782e10c6a1f1",
   "metadata": {},
   "outputs": [],
   "source": [
    "hadm_ids_dead = df2[df2['deathtime'] == df2['dischtime']]['hadm_id']"
   ]
  },
  {
   "cell_type": "code",
   "execution_count": 272,
   "id": "c86de7c1-2053-403e-b357-8332b7fdd5e6",
   "metadata": {},
   "outputs": [
    {
     "data": {
      "text/plain": [
       "(103,)"
      ]
     },
     "execution_count": 272,
     "metadata": {},
     "output_type": "execute_result"
    }
   ],
   "source": [
    "hadm_ids_dead.shape"
   ]
  },
  {
   "cell_type": "code",
   "execution_count": null,
   "id": "379ab910-75c1-4bae-bce5-b8f073a533b7",
   "metadata": {},
   "outputs": [],
   "source": []
  },
  {
   "cell_type": "code",
   "execution_count": 273,
   "id": "5ea1f90c-1a31-4e6e-8ced-81489a260e8b",
   "metadata": {},
   "outputs": [],
   "source": [
    "# 死亡记录\n",
    "df_dead = df[df['hadm_id'].isin(hadm_ids_dead)]"
   ]
  },
  {
   "cell_type": "code",
   "execution_count": 274,
   "id": "adb21973-b808-4f11-acaa-f4dc4f277d64",
   "metadata": {},
   "outputs": [],
   "source": [
    "df_alive = df[~df['hadm_id'].isin(hadm_ids_dead)]"
   ]
  },
  {
   "cell_type": "code",
   "execution_count": 275,
   "id": "03fdd59b-706c-4d62-b635-9fabe508bcb1",
   "metadata": {},
   "outputs": [
    {
     "data": {
      "text/plain": [
       "(84,)"
      ]
     },
     "execution_count": 275,
     "metadata": {},
     "output_type": "execute_result"
    }
   ],
   "source": [
    "df_dead['hadm_id'].unique().shape"
   ]
  },
  {
   "cell_type": "code",
   "execution_count": 276,
   "id": "1f57ca3f-d53d-491d-99dc-15103cb8d4e4",
   "metadata": {},
   "outputs": [
    {
     "data": {
      "text/plain": [
       "(1077,)"
      ]
     },
     "execution_count": 276,
     "metadata": {},
     "output_type": "execute_result"
    }
   ],
   "source": [
    "df_alive['hadm_id'].unique().shape"
   ]
  },
  {
   "cell_type": "code",
   "execution_count": 277,
   "id": "f9972b52-1ca2-4649-a213-c7509e6c3b26",
   "metadata": {
    "scrolled": true
   },
   "outputs": [
    {
     "data": {
      "text/plain": [
       "(84, 16)"
      ]
     },
     "execution_count": 277,
     "metadata": {},
     "output_type": "execute_result"
    }
   ],
   "source": [
    "# admissions 中有死亡记录 \n",
    "# icustats 中有死亡记录\n",
    "# 推断: 死在 ICU\n",
    "df2[df2['deathtime'] == df2['dischtime']][df2[df2['deathtime'] == df2['dischtime']]['hadm_id'].isin(df_dead['hadm_id'])].shape"
   ]
  },
  {
   "cell_type": "code",
   "execution_count": 278,
   "id": "d43445ae-9f4b-459d-99ea-a5480927fe46",
   "metadata": {},
   "outputs": [
    {
     "data": {
      "text/plain": [
       "(19, 16)"
      ]
     },
     "execution_count": 278,
     "metadata": {},
     "output_type": "execute_result"
    }
   ],
   "source": [
    "# admissions 中有死亡记录 \n",
    "# icustats 没中有死亡记录\n",
    "# 推断: 不是死在 ICU\n",
    "df2[df2['deathtime'] == df2['dischtime']][~df2[df2['deathtime'] == df2['dischtime']]['hadm_id'].isin(df_dead['hadm_id'])].shape"
   ]
  },
  {
   "cell_type": "code",
   "execution_count": 279,
   "id": "892d0be5-8593-4da9-8744-ce6bb809e873",
   "metadata": {},
   "outputs": [
    {
     "data": {
      "text/html": [
       "<div>\n",
       "<style scoped>\n",
       "    .dataframe tbody tr th:only-of-type {\n",
       "        vertical-align: middle;\n",
       "    }\n",
       "\n",
       "    .dataframe tbody tr th {\n",
       "        vertical-align: top;\n",
       "    }\n",
       "\n",
       "    .dataframe thead th {\n",
       "        text-align: right;\n",
       "    }\n",
       "</style>\n",
       "<table border=\"1\" class=\"dataframe\">\n",
       "  <thead>\n",
       "    <tr style=\"text-align: right;\">\n",
       "      <th></th>\n",
       "      <th>subject_id</th>\n",
       "      <th>gender</th>\n",
       "      <th>anchor_age</th>\n",
       "      <th>anchor_year</th>\n",
       "      <th>anchor_year_group</th>\n",
       "      <th>dod</th>\n",
       "    </tr>\n",
       "  </thead>\n",
       "  <tbody>\n",
       "    <tr>\n",
       "      <th>0</th>\n",
       "      <td>10098672</td>\n",
       "      <td>M</td>\n",
       "      <td>61</td>\n",
       "      <td>2140-01-01</td>\n",
       "      <td>2011 - 2013</td>\n",
       "      <td>NaN</td>\n",
       "    </tr>\n",
       "    <tr>\n",
       "      <th>1</th>\n",
       "      <td>10303503</td>\n",
       "      <td>F</td>\n",
       "      <td>23</td>\n",
       "      <td>2144-01-01</td>\n",
       "      <td>2008 - 2010</td>\n",
       "      <td>NaN</td>\n",
       "    </tr>\n",
       "    <tr>\n",
       "      <th>2</th>\n",
       "      <td>10312715</td>\n",
       "      <td>M</td>\n",
       "      <td>39</td>\n",
       "      <td>2176-01-01</td>\n",
       "      <td>2008 - 2010</td>\n",
       "      <td>NaN</td>\n",
       "    </tr>\n",
       "    <tr>\n",
       "      <th>3</th>\n",
       "      <td>10318500</td>\n",
       "      <td>F</td>\n",
       "      <td>46</td>\n",
       "      <td>2194-01-01</td>\n",
       "      <td>2011 - 2013</td>\n",
       "      <td>NaN</td>\n",
       "    </tr>\n",
       "    <tr>\n",
       "      <th>4</th>\n",
       "      <td>10410021</td>\n",
       "      <td>M</td>\n",
       "      <td>49</td>\n",
       "      <td>2135-01-01</td>\n",
       "      <td>2011 - 2013</td>\n",
       "      <td>NaN</td>\n",
       "    </tr>\n",
       "  </tbody>\n",
       "</table>\n",
       "</div>"
      ],
      "text/plain": [
       "   subject_id gender  anchor_age anchor_year anchor_year_group  dod\n",
       "0    10098672      M          61  2140-01-01       2011 - 2013  NaN\n",
       "1    10303503      F          23  2144-01-01       2008 - 2010  NaN\n",
       "2    10312715      M          39  2176-01-01       2008 - 2010  NaN\n",
       "3    10318500      F          46  2194-01-01       2011 - 2013  NaN\n",
       "4    10410021      M          49  2135-01-01       2011 - 2013  NaN"
      ]
     },
     "execution_count": 279,
     "metadata": {},
     "output_type": "execute_result"
    }
   ],
   "source": [
    "df3 = pd.read_csv('../data/patients_ibd.csv')\n",
    "df3['anchor_year'] = df3['anchor_year'].apply(lambda x: pd.to_datetime('{}-01-01'.format(x)))\n",
    "df3.head()"
   ]
  },
  {
   "cell_type": "code",
   "execution_count": 280,
   "id": "bdc4f494-f3a1-403f-aca0-fd379d69f897",
   "metadata": {
    "scrolled": true
   },
   "outputs": [],
   "source": [
    "df2_dead = df2[df2['deathtime'] == df2['dischtime']]\n",
    "df2_alive = df2[~(df2['deathtime'] == df2['dischtime'])]"
   ]
  },
  {
   "cell_type": "code",
   "execution_count": 281,
   "id": "29ddc28f-18fc-4b87-b94b-2b5134e28b3a",
   "metadata": {},
   "outputs": [
    {
     "data": {
      "text/plain": [
       "70.96965021944409"
      ]
     },
     "execution_count": 281,
     "metadata": {},
     "output_type": "execute_result"
    }
   ],
   "source": [
    "tmp = df2_dead.merge(df3, on='subject_id')\n",
    "tmp['d_age'] = (tmp['deathtime'] - tmp['anchor_year']).dt.days / 365 + tmp['anchor_age']\n",
    "\n",
    "tmp['d_age'].mean()"
   ]
  },
  {
   "cell_type": "markdown",
   "id": "a8d65b41-26c5-44d5-83e2-f9ba7f62175b",
   "metadata": {},
   "source": [
    "> admissions 和 icustays 两张表格\n",
    "\n",
    "admissions 中一共有 103 个病人有死亡记录\n",
    "\n",
    "- 其中 有 84 个病人是在 icustays 中有记录，暂且认为是死在了 ICU\n",
    "\n",
    "- 另外 有 19 个病人不在 icustays 中有记录，暂且认为是死在了其他地方"
   ]
  },
  {
   "cell_type": "code",
   "execution_count": 282,
   "id": "2482ce06-c30f-463e-b539-f1a3c2a43e2d",
   "metadata": {},
   "outputs": [
    {
     "data": {
      "text/plain": [
       "(70.99500978473581, 13.239634625711627)"
      ]
     },
     "execution_count": 282,
     "metadata": {},
     "output_type": "execute_result"
    }
   ],
   "source": [
    "# 84 个死在 ICU 的平均死亡年龄\n",
    "tmp = df2_dead[df2_dead['subject_id'].isin(df_dead['subject_id'])].merge(df3, on='subject_id')\n",
    "tmp['d_age'] = (tmp['deathtime'] - tmp['anchor_year']).dt.days / 365 + tmp['anchor_age']\n",
    "\n",
    "tmp['d_age'].mean(), tmp['d_age'].std()"
   ]
  },
  {
   "cell_type": "code",
   "execution_count": 283,
   "id": "e2360a8a-72d2-4b20-baaf-b1dee2bc5633",
   "metadata": {},
   "outputs": [
    {
     "data": {
      "text/plain": [
       "(70.85753424657534, 16.31911577724258)"
      ]
     },
     "execution_count": 283,
     "metadata": {},
     "output_type": "execute_result"
    }
   ],
   "source": [
    "# 19 个不是死在 ICU 的平均死亡年龄\n",
    "tmp = df2_dead[~df2_dead['subject_id'].isin(df_dead['subject_id'])].merge(df3, on='subject_id')\n",
    "tmp['d_age'] = (tmp['deathtime'] - tmp['anchor_year']).dt.days / 365 + tmp['anchor_age']\n",
    "\n",
    "tmp['d_age'].mean(), tmp['d_age'].std()"
   ]
  },
  {
   "cell_type": "markdown",
   "id": "6464c1e3-3722-4d7d-8ce5-25e13315e832",
   "metadata": {},
   "source": [
    "**惊奇的发现，死在了 ICU 的病人和 不是死在了 ICU 的病人的平均死亡年龄非常接近！**\n",
    "\n",
    "分别是 70.99 岁和 70.85 岁"
   ]
  },
  {
   "cell_type": "code",
   "execution_count": null,
   "id": "c6b325c9-e9b5-49d5-aa55-ef461e0c8844",
   "metadata": {},
   "outputs": [],
   "source": []
  },
  {
   "cell_type": "markdown",
   "id": "52ba8600-dd96-41f0-83fb-c2ecf8aed62e",
   "metadata": {},
   "source": [
    "> Range: 683 个来过 ICU 的病人\n",
    "\n",
    "| | 没死 | 死了 | 死在 ICU | 死在别的地方 |\n",
    "|-| -- | --- | -------- | ------------- |\n",
    "|人数| 588 | 95 |  84 | 11 |\n",
    "| AVG LOS | 5.94 | 8.47   | 9.24 | 5.88 |"
   ]
  },
  {
   "cell_type": "code",
   "execution_count": 284,
   "id": "9c22fc32-7d38-4cb5-9e55-0fb9a6596d19",
   "metadata": {},
   "outputs": [],
   "source": [
    "stats = df.groupby('subject_id').agg({\n",
    "    'los': ['count', 'sum']\n",
    "})\n",
    "\n",
    "stats.columns = ['count', 'sum']\n",
    "stats = stats.reset_index()"
   ]
  },
  {
   "cell_type": "code",
   "execution_count": 285,
   "id": "5ce01c37-4b2d-4925-b5ca-d77a441c2399",
   "metadata": {},
   "outputs": [],
   "source": [
    "stats['dead'] = stats['subject_id'].isin(df2_dead['subject_id'])\n",
    "stats['dead_icu'] = stats['subject_id'].isin(df_dead['subject_id'])"
   ]
  },
  {
   "cell_type": "code",
   "execution_count": 286,
   "id": "8508d07f-3a1f-459d-bb0c-6966682cfcae",
   "metadata": {},
   "outputs": [
    {
     "data": {
      "text/plain": [
       "5.947254716836735"
      ]
     },
     "execution_count": 286,
     "metadata": {},
     "output_type": "execute_result"
    }
   ],
   "source": [
    "stats[~stats['dead']]['sum'].mean()"
   ]
  },
  {
   "cell_type": "code",
   "execution_count": 287,
   "id": "006fe3a9-7e1f-41e9-aff8-77b32cbd0559",
   "metadata": {},
   "outputs": [
    {
     "data": {
      "text/plain": [
       "8.47324610526316"
      ]
     },
     "execution_count": 287,
     "metadata": {},
     "output_type": "execute_result"
    }
   ],
   "source": [
    "stats[stats['dead']]['sum'].mean()"
   ]
  },
  {
   "cell_type": "code",
   "execution_count": 288,
   "id": "2f15bfc2-f28d-4845-9f76-f94b71403dcf",
   "metadata": {},
   "outputs": [
    {
     "data": {
      "text/plain": [
       "9.240651583333337"
      ]
     },
     "execution_count": 288,
     "metadata": {},
     "output_type": "execute_result"
    }
   ],
   "source": [
    "stats[stats['dead_icu']]['sum'].mean()"
   ]
  },
  {
   "cell_type": "code",
   "execution_count": 289,
   "id": "af0254e3-9932-4051-8c5c-db2de1b6cef6",
   "metadata": {},
   "outputs": [
    {
     "data": {
      "text/plain": [
       "5.886025743739566"
      ]
     },
     "execution_count": 289,
     "metadata": {},
     "output_type": "execute_result"
    }
   ],
   "source": [
    "stats[~stats['dead_icu']]['sum'].mean()"
   ]
  },
  {
   "cell_type": "code",
   "execution_count": null,
   "id": "01ee7436-c4d5-4f97-a5d1-54bda21834ae",
   "metadata": {},
   "outputs": [],
   "source": []
  },
  {
   "cell_type": "code",
   "execution_count": null,
   "id": "77157bb8-58f8-4535-9e1c-beb1e06c6da8",
   "metadata": {},
   "outputs": [],
   "source": []
  },
  {
   "cell_type": "code",
   "execution_count": 293,
   "id": "2e7e2267-42cf-446f-befc-ec85eecd3f0d",
   "metadata": {},
   "outputs": [
    {
     "name": "stdout",
     "output_type": "stream",
     "text": [
      "- total\n",
      "language\n",
      "ENGLISH    10252\n",
      "?            358\n",
      "Name: count, dtype: int64\n",
      "language\n",
      "ENGLISH    0.966258\n",
      "?          0.033742\n",
      "Name: count, dtype: float64\n",
      "- dead\n",
      "language\n",
      "ENGLISH    94\n",
      "?           9\n",
      "Name: count, dtype: int64\n",
      "language\n",
      "ENGLISH    0.912621\n",
      "?          0.087379\n",
      "Name: count, dtype: float64\n",
      "\n",
      "- total\n",
      "marital_status\n",
      "MARRIED     4773\n",
      "SINGLE      4167\n",
      "WIDOWED      831\n",
      "DIVORCED     802\n",
      "Name: count, dtype: int64\n",
      "marital_status\n",
      "MARRIED     0.451433\n",
      "SINGLE      0.394117\n",
      "WIDOWED     0.078596\n",
      "DIVORCED    0.075854\n",
      "Name: count, dtype: float64\n",
      "- dead\n",
      "marital_status\n",
      "MARRIED     55\n",
      "SINGLE      21\n",
      "WIDOWED     13\n",
      "DIVORCED     9\n",
      "Name: count, dtype: int64\n",
      "marital_status\n",
      "MARRIED     0.561224\n",
      "SINGLE      0.214286\n",
      "WIDOWED     0.132653\n",
      "DIVORCED    0.091837\n",
      "Name: count, dtype: float64\n",
      "\n",
      "- total\n",
      "race\n",
      "WHITE              8776\n",
      "BLACK               931\n",
      "OTHER               495\n",
      "HISPANIC/LATINO     329\n",
      "ASIAN                79\n",
      "Name: count, dtype: int64\n",
      "race\n",
      "WHITE              0.827144\n",
      "BLACK              0.087747\n",
      "OTHER              0.046654\n",
      "HISPANIC/LATINO    0.031008\n",
      "ASIAN              0.007446\n",
      "Name: count, dtype: float64\n",
      "- dead\n",
      "race\n",
      "WHITE              84\n",
      "OTHER              11\n",
      "BLACK               6\n",
      "ASIAN               1\n",
      "HISPANIC/LATINO     1\n",
      "Name: count, dtype: int64\n",
      "race\n",
      "WHITE              0.815534\n",
      "OTHER              0.106796\n",
      "BLACK              0.058252\n",
      "ASIAN              0.009709\n",
      "HISPANIC/LATINO    0.009709\n",
      "Name: count, dtype: float64\n",
      "\n",
      "- total\n",
      "insurance\n",
      "Other       6255\n",
      "Medicare    3673\n",
      "Medicaid     682\n",
      "Name: count, dtype: int64\n",
      "insurance\n",
      "Other       0.589538\n",
      "Medicare    0.346183\n",
      "Medicaid    0.064279\n",
      "Name: count, dtype: float64\n",
      "- dead\n",
      "insurance\n",
      "Medicare    59\n",
      "Other       40\n",
      "Medicaid     4\n",
      "Name: count, dtype: int64\n",
      "insurance\n",
      "Medicare    0.572816\n",
      "Other       0.388350\n",
      "Medicaid    0.038835\n",
      "Name: count, dtype: float64\n",
      "\n"
     ]
    }
   ],
   "source": [
    "for col in ['language', 'marital_status', 'race', 'insurance']:\n",
    "    print('- total')\n",
    "    print(df2[col].value_counts())\n",
    "    print(df2[col].value_counts() / df2[col].value_counts().sum())\n",
    "    print('- dead')\n",
    "    print(df2_dead[col].value_counts())\n",
    "    print(df2_dead[col].value_counts() / df2_dead[col].value_counts().sum())\n",
    "    print()"
   ]
  },
  {
   "cell_type": "code",
   "execution_count": null,
   "id": "77d4687d-44d1-45c9-b829-e7e714889d53",
   "metadata": {},
   "outputs": [],
   "source": []
  },
  {
   "cell_type": "code",
   "execution_count": 294,
   "id": "cbf6920b-a55c-43a0-ac10-bcc2aa413cca",
   "metadata": {},
   "outputs": [
    {
     "data": {
      "text/html": [
       "<div>\n",
       "<style scoped>\n",
       "    .dataframe tbody tr th:only-of-type {\n",
       "        vertical-align: middle;\n",
       "    }\n",
       "\n",
       "    .dataframe tbody tr th {\n",
       "        vertical-align: top;\n",
       "    }\n",
       "\n",
       "    .dataframe thead th {\n",
       "        text-align: right;\n",
       "    }\n",
       "</style>\n",
       "<table border=\"1\" class=\"dataframe\">\n",
       "  <thead>\n",
       "    <tr style=\"text-align: right;\">\n",
       "      <th></th>\n",
       "      <th>subject_id</th>\n",
       "      <th>gender</th>\n",
       "      <th>anchor_age</th>\n",
       "      <th>anchor_year</th>\n",
       "      <th>anchor_year_group</th>\n",
       "      <th>dod</th>\n",
       "    </tr>\n",
       "  </thead>\n",
       "  <tbody>\n",
       "    <tr>\n",
       "      <th>0</th>\n",
       "      <td>10098672</td>\n",
       "      <td>M</td>\n",
       "      <td>61</td>\n",
       "      <td>2140-01-01</td>\n",
       "      <td>2011 - 2013</td>\n",
       "      <td>NaN</td>\n",
       "    </tr>\n",
       "    <tr>\n",
       "      <th>1</th>\n",
       "      <td>10303503</td>\n",
       "      <td>F</td>\n",
       "      <td>23</td>\n",
       "      <td>2144-01-01</td>\n",
       "      <td>2008 - 2010</td>\n",
       "      <td>NaN</td>\n",
       "    </tr>\n",
       "    <tr>\n",
       "      <th>2</th>\n",
       "      <td>10312715</td>\n",
       "      <td>M</td>\n",
       "      <td>39</td>\n",
       "      <td>2176-01-01</td>\n",
       "      <td>2008 - 2010</td>\n",
       "      <td>NaN</td>\n",
       "    </tr>\n",
       "    <tr>\n",
       "      <th>3</th>\n",
       "      <td>10318500</td>\n",
       "      <td>F</td>\n",
       "      <td>46</td>\n",
       "      <td>2194-01-01</td>\n",
       "      <td>2011 - 2013</td>\n",
       "      <td>NaN</td>\n",
       "    </tr>\n",
       "    <tr>\n",
       "      <th>4</th>\n",
       "      <td>10410021</td>\n",
       "      <td>M</td>\n",
       "      <td>49</td>\n",
       "      <td>2135-01-01</td>\n",
       "      <td>2011 - 2013</td>\n",
       "      <td>NaN</td>\n",
       "    </tr>\n",
       "    <tr>\n",
       "      <th>...</th>\n",
       "      <td>...</td>\n",
       "      <td>...</td>\n",
       "      <td>...</td>\n",
       "      <td>...</td>\n",
       "      <td>...</td>\n",
       "      <td>...</td>\n",
       "    </tr>\n",
       "    <tr>\n",
       "      <th>2412</th>\n",
       "      <td>19878969</td>\n",
       "      <td>F</td>\n",
       "      <td>85</td>\n",
       "      <td>2149-01-01</td>\n",
       "      <td>2008 - 2010</td>\n",
       "      <td>2151-04-25</td>\n",
       "    </tr>\n",
       "    <tr>\n",
       "      <th>2413</th>\n",
       "      <td>13561252</td>\n",
       "      <td>M</td>\n",
       "      <td>87</td>\n",
       "      <td>2148-01-01</td>\n",
       "      <td>2008 - 2010</td>\n",
       "      <td>2151-10-05</td>\n",
       "    </tr>\n",
       "    <tr>\n",
       "      <th>2414</th>\n",
       "      <td>16308779</td>\n",
       "      <td>F</td>\n",
       "      <td>91</td>\n",
       "      <td>2138-01-01</td>\n",
       "      <td>2008 - 2010</td>\n",
       "      <td>2140-12-11</td>\n",
       "    </tr>\n",
       "    <tr>\n",
       "      <th>2415</th>\n",
       "      <td>10556676</td>\n",
       "      <td>F</td>\n",
       "      <td>53</td>\n",
       "      <td>2163-01-01</td>\n",
       "      <td>2011 - 2013</td>\n",
       "      <td>NaN</td>\n",
       "    </tr>\n",
       "    <tr>\n",
       "      <th>2416</th>\n",
       "      <td>14458834</td>\n",
       "      <td>F</td>\n",
       "      <td>86</td>\n",
       "      <td>2161-01-01</td>\n",
       "      <td>2011 - 2013</td>\n",
       "      <td>2162-03-15</td>\n",
       "    </tr>\n",
       "  </tbody>\n",
       "</table>\n",
       "<p>2417 rows × 6 columns</p>\n",
       "</div>"
      ],
      "text/plain": [
       "      subject_id gender  anchor_age anchor_year anchor_year_group         dod\n",
       "0       10098672      M          61  2140-01-01       2011 - 2013         NaN\n",
       "1       10303503      F          23  2144-01-01       2008 - 2010         NaN\n",
       "2       10312715      M          39  2176-01-01       2008 - 2010         NaN\n",
       "3       10318500      F          46  2194-01-01       2011 - 2013         NaN\n",
       "4       10410021      M          49  2135-01-01       2011 - 2013         NaN\n",
       "...          ...    ...         ...         ...               ...         ...\n",
       "2412    19878969      F          85  2149-01-01       2008 - 2010  2151-04-25\n",
       "2413    13561252      M          87  2148-01-01       2008 - 2010  2151-10-05\n",
       "2414    16308779      F          91  2138-01-01       2008 - 2010  2140-12-11\n",
       "2415    10556676      F          53  2163-01-01       2011 - 2013         NaN\n",
       "2416    14458834      F          86  2161-01-01       2011 - 2013  2162-03-15\n",
       "\n",
       "[2417 rows x 6 columns]"
      ]
     },
     "execution_count": 294,
     "metadata": {},
     "output_type": "execute_result"
    }
   ],
   "source": [
    "df3"
   ]
  },
  {
   "cell_type": "code",
   "execution_count": null,
   "id": "0dbac05a-3025-432c-b04a-ad6fcde318ab",
   "metadata": {},
   "outputs": [],
   "source": []
  },
  {
   "cell_type": "code",
   "execution_count": null,
   "id": "11b79c34-7e08-4159-87bc-7ccc7006097e",
   "metadata": {},
   "outputs": [],
   "source": []
  }
 ],
 "metadata": {
  "kernelspec": {
   "display_name": "Python 3 (ipykernel)",
   "language": "python",
   "name": "python3"
  },
  "language_info": {
   "codemirror_mode": {
    "name": "ipython",
    "version": 3
   },
   "file_extension": ".py",
   "mimetype": "text/x-python",
   "name": "python",
   "nbconvert_exporter": "python",
   "pygments_lexer": "ipython3",
   "version": "3.9.18"
  }
 },
 "nbformat": 4,
 "nbformat_minor": 5
}
