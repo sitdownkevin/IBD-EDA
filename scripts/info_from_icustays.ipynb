{
 "cells": [
  {
   "cell_type": "code",
   "execution_count": 1,
   "id": "834f9e43-9308-41f7-9a44-7bf9187b4ac4",
   "metadata": {},
   "outputs": [],
   "source": [
    "import pandas as pd"
   ]
  },
  {
   "cell_type": "markdown",
   "id": "3ae4b4ec-c50f-41db-8d83-d6e41c47db52",
   "metadata": {},
   "source": [
    "- df => icustays\n",
    "- df2 => admissions\n",
    "- df3 => patients"
   ]
  },
  {
   "cell_type": "code",
   "execution_count": 14,
   "id": "d7c79708-20b2-4b8c-8ae6-b9bce95ab570",
   "metadata": {},
   "outputs": [],
   "source": [
    "df = pd.read_csv('../data/icustays_ibd.csv')"
   ]
  },
  {
   "cell_type": "code",
   "execution_count": 15,
   "id": "b57153a9-a17e-4650-b05b-3a0e57ef074d",
   "metadata": {
    "scrolled": true
   },
   "outputs": [
    {
     "data": {
      "text/plain": [
       "(683,)"
      ]
     },
     "execution_count": 15,
     "metadata": {},
     "output_type": "execute_result"
    }
   ],
   "source": [
    "df['subject_id'].unique().shape"
   ]
  },
  {
   "cell_type": "code",
   "execution_count": 17,
   "id": "be97765a-694b-481f-ba9b-7ed2761bfe60",
   "metadata": {
    "scrolled": true
   },
   "outputs": [
    {
     "data": {
      "text/html": [
       "<div>\n",
       "<style scoped>\n",
       "    .dataframe tbody tr th:only-of-type {\n",
       "        vertical-align: middle;\n",
       "    }\n",
       "\n",
       "    .dataframe tbody tr th {\n",
       "        vertical-align: top;\n",
       "    }\n",
       "\n",
       "    .dataframe thead th {\n",
       "        text-align: right;\n",
       "    }\n",
       "</style>\n",
       "<table border=\"1\" class=\"dataframe\">\n",
       "  <thead>\n",
       "    <tr style=\"text-align: right;\">\n",
       "      <th></th>\n",
       "      <th>subject_id</th>\n",
       "      <th>hadm_id</th>\n",
       "      <th>admittime</th>\n",
       "      <th>dischtime</th>\n",
       "      <th>deathtime</th>\n",
       "      <th>admission_type</th>\n",
       "      <th>admit_provider_id</th>\n",
       "      <th>admission_location</th>\n",
       "      <th>discharge_location</th>\n",
       "      <th>insurance</th>\n",
       "      <th>language</th>\n",
       "      <th>marital_status</th>\n",
       "      <th>race</th>\n",
       "      <th>edregtime</th>\n",
       "      <th>edouttime</th>\n",
       "      <th>hospital_expire_flag</th>\n",
       "    </tr>\n",
       "  </thead>\n",
       "  <tbody>\n",
       "    <tr>\n",
       "      <th>0</th>\n",
       "      <td>10098672</td>\n",
       "      <td>21229395</td>\n",
       "      <td>2142-05-16 04:04:00</td>\n",
       "      <td>2142-05-23 14:15:00</td>\n",
       "      <td>NaT</td>\n",
       "      <td>EW EMER.</td>\n",
       "      <td>P30SZF</td>\n",
       "      <td>EMERGENCY ROOM</td>\n",
       "      <td>HOME HEALTH CARE</td>\n",
       "      <td>Other</td>\n",
       "      <td>ENGLISH</td>\n",
       "      <td>DIVORCED</td>\n",
       "      <td>WHITE</td>\n",
       "      <td>2142-05-15 15:49:00</td>\n",
       "      <td>2142-05-16 05:45:00</td>\n",
       "      <td>0</td>\n",
       "    </tr>\n",
       "    <tr>\n",
       "      <th>1</th>\n",
       "      <td>10098672</td>\n",
       "      <td>21259834</td>\n",
       "      <td>2141-04-13 17:30:00</td>\n",
       "      <td>2141-04-17 19:17:00</td>\n",
       "      <td>NaT</td>\n",
       "      <td>EW EMER.</td>\n",
       "      <td>P77SO2</td>\n",
       "      <td>EMERGENCY ROOM</td>\n",
       "      <td>HOME HEALTH CARE</td>\n",
       "      <td>Other</td>\n",
       "      <td>ENGLISH</td>\n",
       "      <td>DIVORCED</td>\n",
       "      <td>WHITE</td>\n",
       "      <td>2141-04-13 12:17:00</td>\n",
       "      <td>2141-04-13 18:47:00</td>\n",
       "      <td>0</td>\n",
       "    </tr>\n",
       "    <tr>\n",
       "      <th>2</th>\n",
       "      <td>10098672</td>\n",
       "      <td>21921527</td>\n",
       "      <td>2141-06-29 22:55:00</td>\n",
       "      <td>2141-07-03 16:52:00</td>\n",
       "      <td>NaT</td>\n",
       "      <td>URGENT</td>\n",
       "      <td>P816G0</td>\n",
       "      <td>TRANSFER FROM HOSPITAL</td>\n",
       "      <td>HOME HEALTH CARE</td>\n",
       "      <td>Other</td>\n",
       "      <td>ENGLISH</td>\n",
       "      <td>DIVORCED</td>\n",
       "      <td>WHITE</td>\n",
       "      <td>NaT</td>\n",
       "      <td>NaT</td>\n",
       "      <td>0</td>\n",
       "    </tr>\n",
       "    <tr>\n",
       "      <th>3</th>\n",
       "      <td>10098672</td>\n",
       "      <td>24843492</td>\n",
       "      <td>2142-05-06 07:15:00</td>\n",
       "      <td>2142-05-11 13:39:00</td>\n",
       "      <td>NaT</td>\n",
       "      <td>SURGICAL SAME DAY ADMISSION</td>\n",
       "      <td>P857XC</td>\n",
       "      <td>PHYSICIAN REFERRAL</td>\n",
       "      <td>HOME HEALTH CARE</td>\n",
       "      <td>Other</td>\n",
       "      <td>ENGLISH</td>\n",
       "      <td>DIVORCED</td>\n",
       "      <td>WHITE</td>\n",
       "      <td>NaT</td>\n",
       "      <td>NaT</td>\n",
       "      <td>0</td>\n",
       "    </tr>\n",
       "    <tr>\n",
       "      <th>4</th>\n",
       "      <td>10098672</td>\n",
       "      <td>26570321</td>\n",
       "      <td>2142-01-20 23:24:00</td>\n",
       "      <td>2142-01-28 18:47:00</td>\n",
       "      <td>NaT</td>\n",
       "      <td>EW EMER.</td>\n",
       "      <td>P95PIA</td>\n",
       "      <td>EMERGENCY ROOM</td>\n",
       "      <td>HOME HEALTH CARE</td>\n",
       "      <td>Other</td>\n",
       "      <td>ENGLISH</td>\n",
       "      <td>DIVORCED</td>\n",
       "      <td>WHITE</td>\n",
       "      <td>2142-01-20 19:54:00</td>\n",
       "      <td>2142-01-21 01:07:00</td>\n",
       "      <td>0</td>\n",
       "    </tr>\n",
       "    <tr>\n",
       "      <th>...</th>\n",
       "      <td>...</td>\n",
       "      <td>...</td>\n",
       "      <td>...</td>\n",
       "      <td>...</td>\n",
       "      <td>...</td>\n",
       "      <td>...</td>\n",
       "      <td>...</td>\n",
       "      <td>...</td>\n",
       "      <td>...</td>\n",
       "      <td>...</td>\n",
       "      <td>...</td>\n",
       "      <td>...</td>\n",
       "      <td>...</td>\n",
       "      <td>...</td>\n",
       "      <td>...</td>\n",
       "      <td>...</td>\n",
       "    </tr>\n",
       "    <tr>\n",
       "      <th>10605</th>\n",
       "      <td>16308779</td>\n",
       "      <td>27539941</td>\n",
       "      <td>2138-01-02 04:15:00</td>\n",
       "      <td>2138-01-04 16:35:00</td>\n",
       "      <td>NaT</td>\n",
       "      <td>EU OBSERVATION</td>\n",
       "      <td>P886Y0</td>\n",
       "      <td>EMERGENCY ROOM</td>\n",
       "      <td>NaN</td>\n",
       "      <td>Medicare</td>\n",
       "      <td>ENGLISH</td>\n",
       "      <td>WIDOWED</td>\n",
       "      <td>WHITE</td>\n",
       "      <td>2138-01-01 20:23:00</td>\n",
       "      <td>2138-01-02 04:51:00</td>\n",
       "      <td>0</td>\n",
       "    </tr>\n",
       "    <tr>\n",
       "      <th>10606</th>\n",
       "      <td>10556676</td>\n",
       "      <td>20224885</td>\n",
       "      <td>2167-04-16 15:33:00</td>\n",
       "      <td>2167-04-17 09:30:00</td>\n",
       "      <td>NaT</td>\n",
       "      <td>EU OBSERVATION</td>\n",
       "      <td>P76VMW</td>\n",
       "      <td>EMERGENCY ROOM</td>\n",
       "      <td>NaN</td>\n",
       "      <td>Other</td>\n",
       "      <td>ENGLISH</td>\n",
       "      <td>MARRIED</td>\n",
       "      <td>WHITE</td>\n",
       "      <td>2167-04-16 07:16:00</td>\n",
       "      <td>2167-04-17 09:30:00</td>\n",
       "      <td>0</td>\n",
       "    </tr>\n",
       "    <tr>\n",
       "      <th>10607</th>\n",
       "      <td>10556676</td>\n",
       "      <td>22783191</td>\n",
       "      <td>2164-02-12 04:35:00</td>\n",
       "      <td>2164-02-14 12:45:00</td>\n",
       "      <td>NaT</td>\n",
       "      <td>EW EMER.</td>\n",
       "      <td>P534S8</td>\n",
       "      <td>EMERGENCY ROOM</td>\n",
       "      <td>HOME HEALTH CARE</td>\n",
       "      <td>Other</td>\n",
       "      <td>ENGLISH</td>\n",
       "      <td>MARRIED</td>\n",
       "      <td>WHITE</td>\n",
       "      <td>2164-02-11 17:41:00</td>\n",
       "      <td>2164-02-12 05:11:00</td>\n",
       "      <td>0</td>\n",
       "    </tr>\n",
       "    <tr>\n",
       "      <th>10608</th>\n",
       "      <td>10556676</td>\n",
       "      <td>25577156</td>\n",
       "      <td>2163-10-31 21:05:00</td>\n",
       "      <td>2163-12-19 18:00:00</td>\n",
       "      <td>NaT</td>\n",
       "      <td>EW EMER.</td>\n",
       "      <td>P534S8</td>\n",
       "      <td>EMERGENCY ROOM</td>\n",
       "      <td>CHRONIC/LONG TERM ACUTE CARE</td>\n",
       "      <td>Other</td>\n",
       "      <td>ENGLISH</td>\n",
       "      <td>MARRIED</td>\n",
       "      <td>WHITE</td>\n",
       "      <td>2163-10-31 18:28:00</td>\n",
       "      <td>2163-10-31 23:48:00</td>\n",
       "      <td>0</td>\n",
       "    </tr>\n",
       "    <tr>\n",
       "      <th>10609</th>\n",
       "      <td>14458834</td>\n",
       "      <td>29475856</td>\n",
       "      <td>2161-06-20 16:25:00</td>\n",
       "      <td>2161-06-26 15:30:00</td>\n",
       "      <td>NaT</td>\n",
       "      <td>EU OBSERVATION</td>\n",
       "      <td>P13ZKD</td>\n",
       "      <td>EMERGENCY ROOM</td>\n",
       "      <td>NaN</td>\n",
       "      <td>Medicare</td>\n",
       "      <td>ENGLISH</td>\n",
       "      <td>WIDOWED</td>\n",
       "      <td>WHITE</td>\n",
       "      <td>2161-06-20 13:01:00</td>\n",
       "      <td>2161-06-20 19:12:00</td>\n",
       "      <td>0</td>\n",
       "    </tr>\n",
       "  </tbody>\n",
       "</table>\n",
       "<p>10610 rows × 16 columns</p>\n",
       "</div>"
      ],
      "text/plain": [
       "       subject_id   hadm_id           admittime           dischtime deathtime  \\\n",
       "0        10098672  21229395 2142-05-16 04:04:00 2142-05-23 14:15:00       NaT   \n",
       "1        10098672  21259834 2141-04-13 17:30:00 2141-04-17 19:17:00       NaT   \n",
       "2        10098672  21921527 2141-06-29 22:55:00 2141-07-03 16:52:00       NaT   \n",
       "3        10098672  24843492 2142-05-06 07:15:00 2142-05-11 13:39:00       NaT   \n",
       "4        10098672  26570321 2142-01-20 23:24:00 2142-01-28 18:47:00       NaT   \n",
       "...           ...       ...                 ...                 ...       ...   \n",
       "10605    16308779  27539941 2138-01-02 04:15:00 2138-01-04 16:35:00       NaT   \n",
       "10606    10556676  20224885 2167-04-16 15:33:00 2167-04-17 09:30:00       NaT   \n",
       "10607    10556676  22783191 2164-02-12 04:35:00 2164-02-14 12:45:00       NaT   \n",
       "10608    10556676  25577156 2163-10-31 21:05:00 2163-12-19 18:00:00       NaT   \n",
       "10609    14458834  29475856 2161-06-20 16:25:00 2161-06-26 15:30:00       NaT   \n",
       "\n",
       "                    admission_type admit_provider_id      admission_location  \\\n",
       "0                         EW EMER.            P30SZF          EMERGENCY ROOM   \n",
       "1                         EW EMER.            P77SO2          EMERGENCY ROOM   \n",
       "2                           URGENT            P816G0  TRANSFER FROM HOSPITAL   \n",
       "3      SURGICAL SAME DAY ADMISSION            P857XC      PHYSICIAN REFERRAL   \n",
       "4                         EW EMER.            P95PIA          EMERGENCY ROOM   \n",
       "...                            ...               ...                     ...   \n",
       "10605               EU OBSERVATION            P886Y0          EMERGENCY ROOM   \n",
       "10606               EU OBSERVATION            P76VMW          EMERGENCY ROOM   \n",
       "10607                     EW EMER.            P534S8          EMERGENCY ROOM   \n",
       "10608                     EW EMER.            P534S8          EMERGENCY ROOM   \n",
       "10609               EU OBSERVATION            P13ZKD          EMERGENCY ROOM   \n",
       "\n",
       "                 discharge_location insurance language marital_status   race  \\\n",
       "0                  HOME HEALTH CARE     Other  ENGLISH       DIVORCED  WHITE   \n",
       "1                  HOME HEALTH CARE     Other  ENGLISH       DIVORCED  WHITE   \n",
       "2                  HOME HEALTH CARE     Other  ENGLISH       DIVORCED  WHITE   \n",
       "3                  HOME HEALTH CARE     Other  ENGLISH       DIVORCED  WHITE   \n",
       "4                  HOME HEALTH CARE     Other  ENGLISH       DIVORCED  WHITE   \n",
       "...                             ...       ...      ...            ...    ...   \n",
       "10605                           NaN  Medicare  ENGLISH        WIDOWED  WHITE   \n",
       "10606                           NaN     Other  ENGLISH        MARRIED  WHITE   \n",
       "10607              HOME HEALTH CARE     Other  ENGLISH        MARRIED  WHITE   \n",
       "10608  CHRONIC/LONG TERM ACUTE CARE     Other  ENGLISH        MARRIED  WHITE   \n",
       "10609                           NaN  Medicare  ENGLISH        WIDOWED  WHITE   \n",
       "\n",
       "                edregtime           edouttime  hospital_expire_flag  \n",
       "0     2142-05-15 15:49:00 2142-05-16 05:45:00                     0  \n",
       "1     2141-04-13 12:17:00 2141-04-13 18:47:00                     0  \n",
       "2                     NaT                 NaT                     0  \n",
       "3                     NaT                 NaT                     0  \n",
       "4     2142-01-20 19:54:00 2142-01-21 01:07:00                     0  \n",
       "...                   ...                 ...                   ...  \n",
       "10605 2138-01-01 20:23:00 2138-01-02 04:51:00                     0  \n",
       "10606 2167-04-16 07:16:00 2167-04-17 09:30:00                     0  \n",
       "10607 2164-02-11 17:41:00 2164-02-12 05:11:00                     0  \n",
       "10608 2163-10-31 18:28:00 2163-10-31 23:48:00                     0  \n",
       "10609 2161-06-20 13:01:00 2161-06-20 19:12:00                     0  \n",
       "\n",
       "[10610 rows x 16 columns]"
      ]
     },
     "execution_count": 17,
     "metadata": {},
     "output_type": "execute_result"
    }
   ],
   "source": [
    "df2 = pd.read_csv('../data/admissions_ibd.csv')\n",
    "\n",
    "def parse_race(race):\n",
    "    if 'WHITE' in race:\n",
    "        return 'WHITE'\n",
    "    elif 'BLACK' in race:\n",
    "        return 'BLACK'\n",
    "    elif 'HISPANIC' in race or 'LATINO' in race:\n",
    "        return 'HISPANIC/LATINO'\n",
    "    elif 'ASIAN' in race:\n",
    "        return 'ASIAN'\n",
    "    else:\n",
    "        return 'OTHER'\n",
    "\n",
    "df2['race'] = df2['race'].apply(parse_race)\n",
    "\n",
    "df2['admittime'] = pd.to_datetime(df2['admittime']) # 入院时间\n",
    "df2['dischtime'] = pd.to_datetime(df2['dischtime']) # 出院时间\n",
    "df2['deathtime'] = pd.to_datetime(df2['deathtime']) # 死亡时间\n",
    "df2['edregtime'] = pd.to_datetime(df2['edregtime']) # 入急诊时间\n",
    "df2['edouttime'] = pd.to_datetime(df2['edouttime']) # 出急诊时间\n",
    "\n",
    "df2"
   ]
  },
  {
   "cell_type": "code",
   "execution_count": 18,
   "id": "e64d542d-b6bf-4148-8b75-782e10c6a1f1",
   "metadata": {},
   "outputs": [],
   "source": [
    "hadm_ids_dead = df2[df2['deathtime'] == df2['dischtime']]['hadm_id'] # admission 中死亡的 hadm_id"
   ]
  },
  {
   "cell_type": "code",
   "execution_count": 23,
   "id": "c86de7c1-2053-403e-b357-8332b7fdd5e6",
   "metadata": {},
   "outputs": [
    {
     "data": {
      "text/plain": [
       "((103,), (103,))"
      ]
     },
     "execution_count": 23,
     "metadata": {},
     "output_type": "execute_result"
    }
   ],
   "source": [
    "hadm_ids_dead.shape, hadm_ids_dead.unique().shape # 判断 103 是不是 unique"
   ]
  },
  {
   "cell_type": "code",
   "execution_count": 24,
   "id": "5ea1f90c-1a31-4e6e-8ced-81489a260e8b",
   "metadata": {},
   "outputs": [],
   "source": [
    "df_dead = df[df['hadm_id'].isin(hadm_ids_dead)] # icu 事件就是死亡事件的记录\n",
    "df_alive = df[~df['hadm_id'].isin(hadm_ids_dead)] # icu 事件不是死亡事件的记录"
   ]
  },
  {
   "cell_type": "code",
   "execution_count": 29,
   "id": "adb21973-b808-4f11-acaa-f4dc4f277d64",
   "metadata": {},
   "outputs": [
    {
     "data": {
      "text/plain": [
       "((1161,), (84,), (1077,))"
      ]
     },
     "execution_count": 29,
     "metadata": {},
     "output_type": "execute_result"
    }
   ],
   "source": [
    "df['hadm_id'].unique().shape, df_dead['hadm_id'].unique().shape, df_alive['hadm_id'].unique().shape"
   ]
  },
  {
   "cell_type": "code",
   "execution_count": 30,
   "id": "f9972b52-1ca2-4649-a213-c7509e6c3b26",
   "metadata": {
    "scrolled": true
   },
   "outputs": [
    {
     "data": {
      "text/plain": [
       "(84, 16)"
      ]
     },
     "execution_count": 30,
     "metadata": {},
     "output_type": "execute_result"
    }
   ],
   "source": [
    "# admissions 中有死亡事件记录\n",
    "# icustats 中有死亡事件记录\n",
    "# 推断: 死在 ICU\n",
    "df2[df2['deathtime'] == df2['dischtime']][df2[df2['deathtime'] == df2['dischtime']]['hadm_id'].isin(df_dead['hadm_id'])].shape"
   ]
  },
  {
   "cell_type": "code",
   "execution_count": 31,
   "id": "d43445ae-9f4b-459d-99ea-a5480927fe46",
   "metadata": {},
   "outputs": [
    {
     "data": {
      "text/plain": [
       "(19, 16)"
      ]
     },
     "execution_count": 31,
     "metadata": {},
     "output_type": "execute_result"
    }
   ],
   "source": [
    "# admissions 中有死亡事件记录 \n",
    "# icustats 没中有死亡事件记录\n",
    "# 推断: 不是死在 ICU\n",
    "df2[df2['deathtime'] == df2['dischtime']][~df2[df2['deathtime'] == df2['dischtime']]['hadm_id'].isin(df_dead['hadm_id'])].shape"
   ]
  },
  {
   "cell_type": "code",
   "execution_count": 129,
   "id": "892d0be5-8593-4da9-8744-ce6bb809e873",
   "metadata": {},
   "outputs": [
    {
     "data": {
      "text/html": [
       "<div>\n",
       "<style scoped>\n",
       "    .dataframe tbody tr th:only-of-type {\n",
       "        vertical-align: middle;\n",
       "    }\n",
       "\n",
       "    .dataframe tbody tr th {\n",
       "        vertical-align: top;\n",
       "    }\n",
       "\n",
       "    .dataframe thead th {\n",
       "        text-align: right;\n",
       "    }\n",
       "</style>\n",
       "<table border=\"1\" class=\"dataframe\">\n",
       "  <thead>\n",
       "    <tr style=\"text-align: right;\">\n",
       "      <th></th>\n",
       "      <th>subject_id</th>\n",
       "      <th>gender</th>\n",
       "      <th>anchor_age</th>\n",
       "      <th>anchor_year</th>\n",
       "      <th>anchor_year_group</th>\n",
       "      <th>dod</th>\n",
       "    </tr>\n",
       "  </thead>\n",
       "  <tbody>\n",
       "    <tr>\n",
       "      <th>0</th>\n",
       "      <td>10098672</td>\n",
       "      <td>M</td>\n",
       "      <td>61</td>\n",
       "      <td>2140-01-01</td>\n",
       "      <td>2011 - 2013</td>\n",
       "      <td>NaT</td>\n",
       "    </tr>\n",
       "    <tr>\n",
       "      <th>1</th>\n",
       "      <td>10303503</td>\n",
       "      <td>F</td>\n",
       "      <td>23</td>\n",
       "      <td>2144-01-01</td>\n",
       "      <td>2008 - 2010</td>\n",
       "      <td>NaT</td>\n",
       "    </tr>\n",
       "    <tr>\n",
       "      <th>2</th>\n",
       "      <td>10312715</td>\n",
       "      <td>M</td>\n",
       "      <td>39</td>\n",
       "      <td>2176-01-01</td>\n",
       "      <td>2008 - 2010</td>\n",
       "      <td>NaT</td>\n",
       "    </tr>\n",
       "    <tr>\n",
       "      <th>3</th>\n",
       "      <td>10318500</td>\n",
       "      <td>F</td>\n",
       "      <td>46</td>\n",
       "      <td>2194-01-01</td>\n",
       "      <td>2011 - 2013</td>\n",
       "      <td>NaT</td>\n",
       "    </tr>\n",
       "    <tr>\n",
       "      <th>4</th>\n",
       "      <td>10410021</td>\n",
       "      <td>M</td>\n",
       "      <td>49</td>\n",
       "      <td>2135-01-01</td>\n",
       "      <td>2011 - 2013</td>\n",
       "      <td>NaT</td>\n",
       "    </tr>\n",
       "  </tbody>\n",
       "</table>\n",
       "</div>"
      ],
      "text/plain": [
       "   subject_id gender  anchor_age anchor_year anchor_year_group dod\n",
       "0    10098672      M          61  2140-01-01       2011 - 2013 NaT\n",
       "1    10303503      F          23  2144-01-01       2008 - 2010 NaT\n",
       "2    10312715      M          39  2176-01-01       2008 - 2010 NaT\n",
       "3    10318500      F          46  2194-01-01       2011 - 2013 NaT\n",
       "4    10410021      M          49  2135-01-01       2011 - 2013 NaT"
      ]
     },
     "execution_count": 129,
     "metadata": {},
     "output_type": "execute_result"
    }
   ],
   "source": [
    "df3 = pd.read_csv('../data/patients_ibd.csv')\n",
    "df3['anchor_year'] = df3['anchor_year'].apply(lambda x: pd.to_datetime('{}-01-01'.format(x)))\n",
    "df3['dod'] = pd.to_datetime(df3['dod'])\n",
    "df3.head()"
   ]
  },
  {
   "cell_type": "code",
   "execution_count": null,
   "id": "9b8a0cc8-9d1e-4e84-a598-97995ce1207c",
   "metadata": {},
   "outputs": [],
   "source": []
  },
  {
   "cell_type": "code",
   "execution_count": 130,
   "id": "bdc4f494-f3a1-403f-aca0-fd379d69f897",
   "metadata": {
    "scrolled": true
   },
   "outputs": [
    {
     "data": {
      "text/plain": [
       "((10610, 16), (111, 16), (10499, 16))"
      ]
     },
     "execution_count": 130,
     "metadata": {},
     "output_type": "execute_result"
    }
   ],
   "source": [
    "# df2_dead = df2[df2['deathtime'] == df2['dischtime']] # admission 事件就是死亡事件\n",
    "# df2_alive = df2[~(df2['deathtime'] == df2['dischtime'])] # admission 事件不是死亡事件\n",
    "\n",
    "df2_dead = df2[~df2['deathtime'].isna()] # admission 事件就是死亡事件\n",
    "df2_alive = df2[df2['deathtime'].isna()] # admission 事件不是死亡事件\n",
    "\n",
    "df2.shape, df2_dead.shape, df2_alive.shape"
   ]
  },
  {
   "cell_type": "code",
   "execution_count": 131,
   "id": "5026f513-95df-41f5-9612-634e4742b2ef",
   "metadata": {},
   "outputs": [
    {
     "data": {
      "text/plain": [
       "(269,)"
      ]
     },
     "execution_count": 131,
     "metadata": {},
     "output_type": "execute_result"
    }
   ],
   "source": [
    "_ = df2[['subject_id', 'deathtime']].groupby('subject_id').last().reset_index()\n",
    "__ = _[\n",
    "    _['subject_id'].isin(\n",
    "        df3[~df3['dod'].isna()]['subject_id']\n",
    "    )\n",
    "]\n",
    "\n",
    "___ = __[~__['subject_id'].isin(df2_dead['subject_id'])]\n",
    "\n",
    "___['subject_id'].shape # 269 dead not in hospital"
   ]
  },
  {
   "cell_type": "code",
   "execution_count": 156,
   "id": "c18fec0e-ae95-430a-9265-b86428aaefc4",
   "metadata": {},
   "outputs": [
    {
     "name": "stderr",
     "output_type": "stream",
     "text": [
      "C:\\Users\\sitdo\\AppData\\Local\\Temp\\ipykernel_10772\\1160301568.py:2: SettingWithCopyWarning: \n",
      "A value is trying to be set on a copy of a slice from a DataFrame.\n",
      "Try using .loc[row_indexer,col_indexer] = value instead\n",
      "\n",
      "See the caveats in the documentation: https://pandas.pydata.org/pandas-docs/stable/user_guide/indexing.html#returning-a-view-versus-a-copy\n",
      "  tmp['d_age'] = (tmp['dod'] - tmp['anchor_year']).dt.days / 365 + tmp['anchor_age']\n"
     ]
    },
    {
     "data": {
      "text/plain": [
       "(72.73695746214852, 13.959149622963654, (380,))"
      ]
     },
     "execution_count": 156,
     "metadata": {},
     "output_type": "execute_result"
    }
   ],
   "source": [
    "tmp = df3[~df3['dod'].isna()]\n",
    "tmp['d_age'] = (tmp['dod'] - tmp['anchor_year']).dt.days / 365 + tmp['anchor_age']\n",
    "\n",
    "tmp['d_age'].mean(), tmp['d_age'].std(), tmp['subject_id'].unique().shape"
   ]
  },
  {
   "cell_type": "code",
   "execution_count": 132,
   "id": "29ddc28f-18fc-4b87-b94b-2b5134e28b3a",
   "metadata": {},
   "outputs": [
    {
     "data": {
      "text/plain": [
       "(70.88577070220906, 13.68585808474427, (111,))"
      ]
     },
     "execution_count": 132,
     "metadata": {},
     "output_type": "execute_result"
    }
   ],
   "source": [
    "tmp = df2_dead.merge(df3, on='subject_id')\n",
    "tmp['d_age'] = (tmp['deathtime'] - tmp['anchor_year']).dt.days / 365 + tmp['anchor_age']\n",
    "\n",
    "tmp['d_age'].mean(), tmp['d_age'].std(), tmp['subject_id'].unique().shape"
   ]
  },
  {
   "cell_type": "code",
   "execution_count": 149,
   "id": "3030dd8a-e640-46fa-8605-e76edcd0f52a",
   "metadata": {},
   "outputs": [
    {
     "name": "stderr",
     "output_type": "stream",
     "text": [
      "C:\\Users\\sitdo\\AppData\\Local\\Temp\\ipykernel_10772\\1008880505.py:6: SettingWithCopyWarning: \n",
      "A value is trying to be set on a copy of a slice from a DataFrame.\n",
      "Try using .loc[row_indexer,col_indexer] = value instead\n",
      "\n",
      "See the caveats in the documentation: https://pandas.pydata.org/pandas-docs/stable/user_guide/indexing.html#returning-a-view-versus-a-copy\n",
      "  tmp['d_age'] = (tmp['dod'] - tmp['anchor_year']).dt.days / 365 + tmp['anchor_age']\n"
     ]
    },
    {
     "data": {
      "text/plain": [
       "(73.50083006569231, 14.024297022139857, (269,))"
      ]
     },
     "execution_count": 149,
     "metadata": {},
     "output_type": "execute_result"
    }
   ],
   "source": [
    "tmp = df3[df3['subject_id'].isin(___['subject_id'])]\n",
    "# tmp['d_age'] = (tmp['dod'] - tmp['anchor_year']).dt.days / 365 + tmp['anchor_age']\n",
    "\n",
    "# tmp['d_age'].mean(), tmp['d_age'].std(), tmp['subject_id'].unique().shape\n",
    "\n",
    "tmp['d_age'] = (tmp['dod'] - tmp['anchor_year']).dt.days / 365 + tmp['anchor_age']\n",
    "tmp['d_age'].mean(), tmp['d_age'].std(), tmp['subject_id'].unique().shape"
   ]
  },
  {
   "cell_type": "markdown",
   "id": "a8d65b41-26c5-44d5-83e2-f9ba7f62175b",
   "metadata": {},
   "source": [
    "> admissions 和 icustays 两张表格\n",
    "\n",
    "admissions 中一共有 103 个病人有死亡记录\n",
    "\n",
    "- 其中 有 84 个病人是在 icustays 中有记录，暂且认为是死在了 ICU\n",
    "\n",
    "- 另外 有 19 个病人不在 icustays 中有记录，暂且认为是死在了其他地方"
   ]
  },
  {
   "cell_type": "code",
   "execution_count": null,
   "id": "e6b1b1e8-d9ca-4626-895c-f33f8956328b",
   "metadata": {},
   "outputs": [],
   "source": []
  },
  {
   "cell_type": "code",
   "execution_count": 79,
   "id": "2482ce06-c30f-463e-b539-f1a3c2a43e2d",
   "metadata": {},
   "outputs": [
    {
     "data": {
      "text/plain": [
       "(70.99500978473581, 13.239634625711627, (84,))"
      ]
     },
     "execution_count": 79,
     "metadata": {},
     "output_type": "execute_result"
    }
   ],
   "source": [
    "# 84 个死在 ICU 的平均死亡年龄\n",
    "tmp = df2_dead[df2_dead['subject_id'].isin(df_dead['subject_id'])].merge(df3, on='subject_id')\n",
    "tmp['d_age'] = (tmp['deathtime'] - tmp['anchor_year']).dt.days / 365 + tmp['anchor_age']\n",
    "\n",
    "tmp['d_age'].mean(), tmp['d_age'].std(), tmp['subject_id'].unique().shape"
   ]
  },
  {
   "cell_type": "code",
   "execution_count": 80,
   "id": "e2360a8a-72d2-4b20-baaf-b1dee2bc5633",
   "metadata": {},
   "outputs": [
    {
     "data": {
      "text/plain": [
       "(70.54591577879249, 15.254607836065965, (27,))"
      ]
     },
     "execution_count": 80,
     "metadata": {},
     "output_type": "execute_result"
    }
   ],
   "source": [
    "# 19 个不是死在 ICU 的平均死亡年龄\n",
    "tmp = df2_dead[~df2_dead['subject_id'].isin(df_dead['subject_id'])].merge(df3, on='subject_id')\n",
    "tmp['d_age'] = (tmp['deathtime'] - tmp['anchor_year']).dt.days / 365 + tmp['anchor_age']\n",
    "\n",
    "tmp['d_age'].mean(), tmp['d_age'].std(), tmp['subject_id'].unique().shape"
   ]
  },
  {
   "cell_type": "markdown",
   "id": "6464c1e3-3722-4d7d-8ce5-25e13315e832",
   "metadata": {},
   "source": [
    "**惊奇的发现，死在了 ICU 的病人和 不是死在了 ICU 的病人的平均死亡年龄非常接近！**\n",
    "\n",
    "分别是 70.99 岁和 70.85 岁"
   ]
  },
  {
   "cell_type": "code",
   "execution_count": null,
   "id": "c6b325c9-e9b5-49d5-aa55-ef461e0c8844",
   "metadata": {},
   "outputs": [],
   "source": []
  },
  {
   "cell_type": "markdown",
   "id": "52ba8600-dd96-41f0-83fb-c2ecf8aed62e",
   "metadata": {},
   "source": [
    "> Range: 683 个来过 ICU 的病人\n",
    "\n",
    "| | 没死 | 死了 | 死在 ICU | 死在别的地方 |\n",
    "|-| -- | --- | -------- | ------------- |\n",
    "|人数| 588 | 95 |  84 | 11 |\n",
    "| AVG LOS | 5.94 | 8.47   | 9.24 | 5.88 |"
   ]
  },
  {
   "cell_type": "code",
   "execution_count": 171,
   "id": "9c22fc32-7d38-4cb5-9e55-0fb9a6596d19",
   "metadata": {},
   "outputs": [],
   "source": [
    "stats = df.groupby('subject_id').agg({\n",
    "    'los': ['count', 'sum']\n",
    "}) # 用 df 标志进过 ICU\n",
    "\n",
    "stats.columns = ['count', 'sum']\n",
    "stats = stats.reset_index()"
   ]
  },
  {
   "cell_type": "code",
   "execution_count": 175,
   "id": "5ce01c37-4b2d-4925-b5ca-d77a441c2399",
   "metadata": {},
   "outputs": [
    {
     "data": {
      "text/html": [
       "<div>\n",
       "<style scoped>\n",
       "    .dataframe tbody tr th:only-of-type {\n",
       "        vertical-align: middle;\n",
       "    }\n",
       "\n",
       "    .dataframe tbody tr th {\n",
       "        vertical-align: top;\n",
       "    }\n",
       "\n",
       "    .dataframe thead th {\n",
       "        text-align: right;\n",
       "    }\n",
       "</style>\n",
       "<table border=\"1\" class=\"dataframe\">\n",
       "  <thead>\n",
       "    <tr style=\"text-align: right;\">\n",
       "      <th></th>\n",
       "      <th>subject_id</th>\n",
       "      <th>count</th>\n",
       "      <th>sum</th>\n",
       "      <th>dead</th>\n",
       "      <th>dead_icu</th>\n",
       "    </tr>\n",
       "  </thead>\n",
       "  <tbody>\n",
       "    <tr>\n",
       "      <th>0</th>\n",
       "      <td>10024331</td>\n",
       "      <td>1</td>\n",
       "      <td>4.10571</td>\n",
       "      <td>False</td>\n",
       "      <td>False</td>\n",
       "    </tr>\n",
       "    <tr>\n",
       "      <th>1</th>\n",
       "      <td>10025647</td>\n",
       "      <td>1</td>\n",
       "      <td>1.96810</td>\n",
       "      <td>False</td>\n",
       "      <td>False</td>\n",
       "    </tr>\n",
       "    <tr>\n",
       "      <th>2</th>\n",
       "      <td>10037975</td>\n",
       "      <td>1</td>\n",
       "      <td>4.87824</td>\n",
       "      <td>True</td>\n",
       "      <td>True</td>\n",
       "    </tr>\n",
       "    <tr>\n",
       "      <th>3</th>\n",
       "      <td>10048262</td>\n",
       "      <td>1</td>\n",
       "      <td>0.44588</td>\n",
       "      <td>False</td>\n",
       "      <td>False</td>\n",
       "    </tr>\n",
       "    <tr>\n",
       "      <th>4</th>\n",
       "      <td>10056223</td>\n",
       "      <td>1</td>\n",
       "      <td>5.04106</td>\n",
       "      <td>False</td>\n",
       "      <td>False</td>\n",
       "    </tr>\n",
       "  </tbody>\n",
       "</table>\n",
       "</div>"
      ],
      "text/plain": [
       "   subject_id  count      sum   dead  dead_icu\n",
       "0    10024331      1  4.10571  False     False\n",
       "1    10025647      1  1.96810  False     False\n",
       "2    10037975      1  4.87824   True      True\n",
       "3    10048262      1  0.44588  False     False\n",
       "4    10056223      1  5.04106  False     False"
      ]
     },
     "execution_count": 175,
     "metadata": {},
     "output_type": "execute_result"
    }
   ],
   "source": [
    "stats['dead'] = stats['subject_id'].isin(df2_dead['subject_id'])\n",
    "stats['dead_icu'] = stats['subject_id'].isin(df_dead['subject_id'])\n",
    "stats.head()"
   ]
  },
  {
   "cell_type": "code",
   "execution_count": 179,
   "id": "ba3ccb30-c0de-4376-92b6-43d5a6e86fee",
   "metadata": {},
   "outputs": [
    {
     "data": {
      "text/plain": [
       "((103,), (580,), (84,), (599,))"
      ]
     },
     "execution_count": 179,
     "metadata": {},
     "output_type": "execute_result"
    }
   ],
   "source": [
    "(\n",
    "    stats[stats['dead']]['count'].shape,\n",
    "    stats[~stats['dead']]['count'].shape,\n",
    "    stats[stats['dead_icu']]['count'].shape,\n",
    "    stats[~stats['dead_icu']]['count'].shape,\n",
    ")"
   ]
  },
  {
   "cell_type": "code",
   "execution_count": 180,
   "id": "6c01a4bd-3b94-4990-867a-b13c0e7bf310",
   "metadata": {},
   "outputs": [
    {
     "data": {
      "text/plain": [
       "(2.203883495145631, 1.8862068965517242, 2.3333333333333335, 1.8781302170283807)"
      ]
     },
     "execution_count": 180,
     "metadata": {},
     "output_type": "execute_result"
    }
   ],
   "source": [
    "(\n",
    "    stats[stats['dead']]['count'].mean(),\n",
    "    stats[~stats['dead']]['count'].mean(),\n",
    "    stats[stats['dead_icu']]['count'].mean(),\n",
    "    stats[~stats['dead_icu']]['count'].mean(),\n",
    ")"
   ]
  },
  {
   "cell_type": "code",
   "execution_count": 182,
   "id": "b38bd3ba-7057-4a00-976f-1efc2b57249d",
   "metadata": {},
   "outputs": [
    {
     "data": {
      "text/plain": [
       "(2.1844334451957157, 2.125789360724616, 2.3711790231526924, 2.0971805830044508)"
      ]
     },
     "execution_count": 182,
     "metadata": {},
     "output_type": "execute_result"
    }
   ],
   "source": [
    "(\n",
    "    stats[stats['dead']]['count'].std(),\n",
    "    stats[~stats['dead']]['count'].std(),\n",
    "    stats[stats['dead_icu']]['count'].std(),\n",
    "    stats[~stats['dead_icu']]['count'].std(),\n",
    ")"
   ]
  },
  {
   "cell_type": "code",
   "execution_count": 181,
   "id": "8508d07f-3a1f-459d-bb0c-6966682cfcae",
   "metadata": {},
   "outputs": [
    {
     "data": {
      "text/plain": [
       "(8.736096291262136, 5.865734888793103, 9.240651583333337, 5.886025743739566)"
      ]
     },
     "execution_count": 181,
     "metadata": {},
     "output_type": "execute_result"
    }
   ],
   "source": [
    "(\n",
    "    stats[stats['dead']]['sum'].mean(),\n",
    "    stats[~stats['dead']]['sum'].mean(),\n",
    "    stats[stats['dead_icu']]['sum'].mean(),\n",
    "    stats[~stats['dead_icu']]['sum'].mean(),\n",
    ")"
   ]
  },
  {
   "cell_type": "code",
   "execution_count": 183,
   "id": "01ee7436-c4d5-4f97-a5d1-54bda21834ae",
   "metadata": {},
   "outputs": [
    {
     "data": {
      "text/plain": [
       "(11.309263738215272, 8.9044526510451, 11.841929471773277, 8.884867451581764)"
      ]
     },
     "execution_count": 183,
     "metadata": {},
     "output_type": "execute_result"
    }
   ],
   "source": [
    "(\n",
    "    stats[stats['dead']]['sum'].std(),\n",
    "    stats[~stats['dead']]['sum'].std(),\n",
    "    stats[stats['dead_icu']]['sum'].std(),\n",
    "    stats[~stats['dead_icu']]['sum'].std(),\n",
    ")"
   ]
  },
  {
   "cell_type": "code",
   "execution_count": 202,
   "id": "77157bb8-58f8-4535-9e1c-beb1e06c6da8",
   "metadata": {},
   "outputs": [
    {
     "data": {
      "text/plain": [
       "((62.32124992478789, 16.587436666014305, (683,)),\n",
       " (49.819811663585654, 18.48115822618673, (1734,)))"
      ]
     },
     "execution_count": 202,
     "metadata": {},
     "output_type": "execute_result"
    }
   ],
   "source": [
    "tmp = df2.groupby('subject_id').first().merge(df3, on='subject_id')\n",
    "\n",
    "tmp['first_age'] = (tmp['admittime'] - tmp['anchor_year']).dt.days / 365 + tmp['anchor_age']\n",
    "\n",
    "\n",
    "(\n",
    "    (tmp[tmp['subject_id'].isin(stats['subject_id'])]['first_age'].mean(), tmp[tmp['subject_id'].isin(stats['subject_id'])]['first_age'].std(), tmp[tmp['subject_id'].isin(stats['subject_id'])]['first_age'].shape),\n",
    "    (tmp[~tmp['subject_id'].isin(stats['subject_id'])]['first_age'].mean(), tmp[~tmp['subject_id'].isin(stats['subject_id'])]['first_age'].std(), tmp[~tmp['subject_id'].isin(stats['subject_id'])]['first_age'].shape),\n",
    ")\n"
   ]
  },
  {
   "cell_type": "code",
   "execution_count": 213,
   "id": "6f3cbde8-b0be-4739-ad88-a2138aa70ffd",
   "metadata": {},
   "outputs": [
    {
     "data": {
      "text/plain": [
       "(125, 1609)"
      ]
     },
     "execution_count": 213,
     "metadata": {},
     "output_type": "execute_result"
    }
   ],
   "source": [
    "(~tmp[~tmp['subject_id'].isin(stats['subject_id'])]['dod'].isna()).sum(), tmp[~tmp['subject_id'].isin(stats['subject_id'])]['dod'].isna().sum()"
   ]
  },
  {
   "cell_type": "code",
   "execution_count": 214,
   "id": "2e7e2267-42cf-446f-befc-ec85eecd3f0d",
   "metadata": {},
   "outputs": [
    {
     "name": "stdout",
     "output_type": "stream",
     "text": [
      "- total\n",
      "language\n",
      "ENGLISH    10252\n",
      "?            358\n",
      "Name: count, dtype: int64\n",
      "language\n",
      "ENGLISH    0.966258\n",
      "?          0.033742\n",
      "Name: count, dtype: float64\n",
      "- dead\n",
      "\n",
      "- total\n",
      "marital_status\n",
      "MARRIED     4773\n",
      "SINGLE      4167\n",
      "WIDOWED      831\n",
      "DIVORCED     802\n",
      "Name: count, dtype: int64\n",
      "marital_status\n",
      "MARRIED     0.451433\n",
      "SINGLE      0.394117\n",
      "WIDOWED     0.078596\n",
      "DIVORCED    0.075854\n",
      "Name: count, dtype: float64\n",
      "- dead\n",
      "\n",
      "- total\n",
      "race\n",
      "WHITE              8776\n",
      "BLACK               931\n",
      "OTHER               495\n",
      "HISPANIC/LATINO     329\n",
      "ASIAN                79\n",
      "Name: count, dtype: int64\n",
      "race\n",
      "WHITE              0.827144\n",
      "BLACK              0.087747\n",
      "OTHER              0.046654\n",
      "HISPANIC/LATINO    0.031008\n",
      "ASIAN              0.007446\n",
      "Name: count, dtype: float64\n",
      "- dead\n",
      "\n",
      "- total\n",
      "insurance\n",
      "Other       6255\n",
      "Medicare    3673\n",
      "Medicaid     682\n",
      "Name: count, dtype: int64\n",
      "insurance\n",
      "Other       0.589538\n",
      "Medicare    0.346183\n",
      "Medicaid    0.064279\n",
      "Name: count, dtype: float64\n",
      "- dead\n",
      "\n"
     ]
    }
   ],
   "source": [
    "for col in ['language', 'marital_status', 'race', 'insurance']:\n",
    "    print('- total')\n",
    "    print(df2[col].value_counts())\n",
    "    print(df2[col].value_counts() / df2[col].value_counts().sum())\n",
    "    print('- dead')\n",
    "    # print(df2_dead[col].value_counts())\n",
    "    # print(df2_dead[col].value_counts() / df2_dead[col].value_counts().sum())\n",
    "    print()"
   ]
  },
  {
   "cell_type": "code",
   "execution_count": 166,
   "id": "77d4687d-44d1-45c9-b829-e7e714889d53",
   "metadata": {},
   "outputs": [
    {
     "data": {
      "text/plain": [
       "(2306, 111)"
      ]
     },
     "execution_count": 166,
     "metadata": {},
     "output_type": "execute_result"
    }
   ],
   "source": [
    "(\n",
    "    (df2[['subject_id', 'deathtime']].groupby('subject_id').last().reset_index()['deathtime'].isna()).sum(),\n",
    "    (~df2[['subject_id', 'deathtime']].groupby('subject_id').last().reset_index()['deathtime'].isna()).sum()\n",
    ")"
   ]
  },
  {
   "cell_type": "code",
   "execution_count": 167,
   "id": "0dbac05a-3025-432c-b04a-ad6fcde318ab",
   "metadata": {},
   "outputs": [
    {
     "data": {
      "text/plain": [
       "(2401,)"
      ]
     },
     "execution_count": 167,
     "metadata": {},
     "output_type": "execute_result"
    }
   ],
   "source": [
    "df2[df2['deathtime'].isna()]['subject_id'].unique().shape"
   ]
  },
  {
   "cell_type": "code",
   "execution_count": 168,
   "id": "11b79c34-7e08-4159-87bc-7ccc7006097e",
   "metadata": {},
   "outputs": [
    {
     "data": {
      "text/plain": [
       "2037"
      ]
     },
     "execution_count": 168,
     "metadata": {},
     "output_type": "execute_result"
    }
   ],
   "source": [
    "(df3['dod'].isna()).sum()"
   ]
  },
  {
   "cell_type": "code",
   "execution_count": 169,
   "id": "6e7a0279-5609-4935-8e8a-4fe2c12132e8",
   "metadata": {},
   "outputs": [
    {
     "data": {
      "text/plain": [
       "(103, 8)"
      ]
     },
     "execution_count": 169,
     "metadata": {},
     "output_type": "execute_result"
    }
   ],
   "source": [
    "_ = df2[~df2['deathtime'].isna()]\n",
    "\n",
    "(_['deathtime'] == _['dischtime']).sum(), (_['deathtime'] != _['dischtime']).sum()"
   ]
  },
  {
   "cell_type": "code",
   "execution_count": 170,
   "id": "fbcb6909-b87f-44cc-9b5c-d9bb0fabcf94",
   "metadata": {},
   "outputs": [
    {
     "data": {
      "text/html": [
       "<div>\n",
       "<style scoped>\n",
       "    .dataframe tbody tr th:only-of-type {\n",
       "        vertical-align: middle;\n",
       "    }\n",
       "\n",
       "    .dataframe tbody tr th {\n",
       "        vertical-align: top;\n",
       "    }\n",
       "\n",
       "    .dataframe thead th {\n",
       "        text-align: right;\n",
       "    }\n",
       "</style>\n",
       "<table border=\"1\" class=\"dataframe\">\n",
       "  <thead>\n",
       "    <tr style=\"text-align: right;\">\n",
       "      <th></th>\n",
       "      <th>subject_id</th>\n",
       "      <th>hadm_id</th>\n",
       "      <th>admittime</th>\n",
       "      <th>dischtime</th>\n",
       "      <th>deathtime</th>\n",
       "      <th>admission_type</th>\n",
       "      <th>admit_provider_id</th>\n",
       "      <th>admission_location</th>\n",
       "      <th>discharge_location</th>\n",
       "      <th>insurance</th>\n",
       "      <th>language</th>\n",
       "      <th>marital_status</th>\n",
       "      <th>race</th>\n",
       "      <th>edregtime</th>\n",
       "      <th>edouttime</th>\n",
       "      <th>hospital_expire_flag</th>\n",
       "    </tr>\n",
       "  </thead>\n",
       "  <tbody>\n",
       "    <tr>\n",
       "      <th>5077</th>\n",
       "      <td>12486920</td>\n",
       "      <td>20344681</td>\n",
       "      <td>2140-08-06 11:33:00</td>\n",
       "      <td>2140-08-19 04:30:00</td>\n",
       "      <td>2140-08-19 03:00:00</td>\n",
       "      <td>DIRECT EMER.</td>\n",
       "      <td>P86FCY</td>\n",
       "      <td>CLINIC REFERRAL</td>\n",
       "      <td>DIED</td>\n",
       "      <td>Medicare</td>\n",
       "      <td>ENGLISH</td>\n",
       "      <td>SINGLE</td>\n",
       "      <td>HISPANIC/LATINO</td>\n",
       "      <td>NaT</td>\n",
       "      <td>NaT</td>\n",
       "      <td>1</td>\n",
       "    </tr>\n",
       "    <tr>\n",
       "      <th>5522</th>\n",
       "      <td>17995700</td>\n",
       "      <td>23971774</td>\n",
       "      <td>2149-06-16 16:02:00</td>\n",
       "      <td>2149-06-19 04:21:00</td>\n",
       "      <td>2149-06-19 23:45:00</td>\n",
       "      <td>URGENT</td>\n",
       "      <td>P17MK7</td>\n",
       "      <td>TRANSFER FROM HOSPITAL</td>\n",
       "      <td>DIED</td>\n",
       "      <td>Medicare</td>\n",
       "      <td>ENGLISH</td>\n",
       "      <td>MARRIED</td>\n",
       "      <td>WHITE</td>\n",
       "      <td>NaT</td>\n",
       "      <td>NaT</td>\n",
       "      <td>1</td>\n",
       "    </tr>\n",
       "    <tr>\n",
       "      <th>6001</th>\n",
       "      <td>13358539</td>\n",
       "      <td>26097204</td>\n",
       "      <td>2138-03-04 22:11:00</td>\n",
       "      <td>2138-03-17 00:00:00</td>\n",
       "      <td>2138-03-17 22:45:00</td>\n",
       "      <td>EW EMER.</td>\n",
       "      <td>P27PNT</td>\n",
       "      <td>EMERGENCY ROOM</td>\n",
       "      <td>DIED</td>\n",
       "      <td>Other</td>\n",
       "      <td>ENGLISH</td>\n",
       "      <td>SINGLE</td>\n",
       "      <td>OTHER</td>\n",
       "      <td>2138-03-04 14:33:00</td>\n",
       "      <td>2138-03-05 00:52:00</td>\n",
       "      <td>1</td>\n",
       "    </tr>\n",
       "    <tr>\n",
       "      <th>6467</th>\n",
       "      <td>19940147</td>\n",
       "      <td>23739599</td>\n",
       "      <td>2129-12-28 16:21:00</td>\n",
       "      <td>2130-01-15 00:31:00</td>\n",
       "      <td>2130-01-15 19:31:00</td>\n",
       "      <td>DIRECT EMER.</td>\n",
       "      <td>P55Z20</td>\n",
       "      <td>PHYSICIAN REFERRAL</td>\n",
       "      <td>DIED</td>\n",
       "      <td>Medicare</td>\n",
       "      <td>ENGLISH</td>\n",
       "      <td>MARRIED</td>\n",
       "      <td>WHITE</td>\n",
       "      <td>NaT</td>\n",
       "      <td>NaT</td>\n",
       "      <td>1</td>\n",
       "    </tr>\n",
       "    <tr>\n",
       "      <th>7833</th>\n",
       "      <td>15071757</td>\n",
       "      <td>29776979</td>\n",
       "      <td>2132-06-27 22:58:00</td>\n",
       "      <td>2132-06-29 00:00:00</td>\n",
       "      <td>2132-06-29 20:00:00</td>\n",
       "      <td>EW EMER.</td>\n",
       "      <td>P3529J</td>\n",
       "      <td>EMERGENCY ROOM</td>\n",
       "      <td>DIED</td>\n",
       "      <td>Other</td>\n",
       "      <td>ENGLISH</td>\n",
       "      <td>MARRIED</td>\n",
       "      <td>WHITE</td>\n",
       "      <td>2132-06-27 15:36:00</td>\n",
       "      <td>2132-06-27 23:46:00</td>\n",
       "      <td>1</td>\n",
       "    </tr>\n",
       "    <tr>\n",
       "      <th>8044</th>\n",
       "      <td>10701573</td>\n",
       "      <td>24314052</td>\n",
       "      <td>2181-11-24 19:30:00</td>\n",
       "      <td>2181-12-09 00:00:00</td>\n",
       "      <td>2181-12-09 17:15:00</td>\n",
       "      <td>EW EMER.</td>\n",
       "      <td>P38TI6</td>\n",
       "      <td>EMERGENCY ROOM</td>\n",
       "      <td>DIED</td>\n",
       "      <td>Medicaid</td>\n",
       "      <td>ENGLISH</td>\n",
       "      <td>WIDOWED</td>\n",
       "      <td>BLACK</td>\n",
       "      <td>2181-11-24 15:30:00</td>\n",
       "      <td>2181-11-24 20:59:00</td>\n",
       "      <td>1</td>\n",
       "    </tr>\n",
       "    <tr>\n",
       "      <th>9303</th>\n",
       "      <td>15342986</td>\n",
       "      <td>24280081</td>\n",
       "      <td>2134-02-13 13:05:00</td>\n",
       "      <td>2134-02-17 01:40:00</td>\n",
       "      <td>2134-02-17 22:30:00</td>\n",
       "      <td>EW EMER.</td>\n",
       "      <td>P79SJ2</td>\n",
       "      <td>EMERGENCY ROOM</td>\n",
       "      <td>DIED</td>\n",
       "      <td>Medicare</td>\n",
       "      <td>ENGLISH</td>\n",
       "      <td>MARRIED</td>\n",
       "      <td>WHITE</td>\n",
       "      <td>2134-02-13 11:44:00</td>\n",
       "      <td>2134-02-13 15:20:00</td>\n",
       "      <td>1</td>\n",
       "    </tr>\n",
       "    <tr>\n",
       "      <th>10090</th>\n",
       "      <td>11735934</td>\n",
       "      <td>20948812</td>\n",
       "      <td>2138-07-10 16:18:00</td>\n",
       "      <td>2138-07-17 00:48:00</td>\n",
       "      <td>2138-07-17 21:50:00</td>\n",
       "      <td>EW EMER.</td>\n",
       "      <td>P30KEH</td>\n",
       "      <td>EMERGENCY ROOM</td>\n",
       "      <td>DIED</td>\n",
       "      <td>Medicare</td>\n",
       "      <td>ENGLISH</td>\n",
       "      <td>WIDOWED</td>\n",
       "      <td>WHITE</td>\n",
       "      <td>2138-07-10 14:06:00</td>\n",
       "      <td>2138-07-10 17:20:00</td>\n",
       "      <td>1</td>\n",
       "    </tr>\n",
       "  </tbody>\n",
       "</table>\n",
       "</div>"
      ],
      "text/plain": [
       "       subject_id   hadm_id           admittime           dischtime  \\\n",
       "5077     12486920  20344681 2140-08-06 11:33:00 2140-08-19 04:30:00   \n",
       "5522     17995700  23971774 2149-06-16 16:02:00 2149-06-19 04:21:00   \n",
       "6001     13358539  26097204 2138-03-04 22:11:00 2138-03-17 00:00:00   \n",
       "6467     19940147  23739599 2129-12-28 16:21:00 2130-01-15 00:31:00   \n",
       "7833     15071757  29776979 2132-06-27 22:58:00 2132-06-29 00:00:00   \n",
       "8044     10701573  24314052 2181-11-24 19:30:00 2181-12-09 00:00:00   \n",
       "9303     15342986  24280081 2134-02-13 13:05:00 2134-02-17 01:40:00   \n",
       "10090    11735934  20948812 2138-07-10 16:18:00 2138-07-17 00:48:00   \n",
       "\n",
       "                deathtime admission_type admit_provider_id  \\\n",
       "5077  2140-08-19 03:00:00   DIRECT EMER.            P86FCY   \n",
       "5522  2149-06-19 23:45:00         URGENT            P17MK7   \n",
       "6001  2138-03-17 22:45:00       EW EMER.            P27PNT   \n",
       "6467  2130-01-15 19:31:00   DIRECT EMER.            P55Z20   \n",
       "7833  2132-06-29 20:00:00       EW EMER.            P3529J   \n",
       "8044  2181-12-09 17:15:00       EW EMER.            P38TI6   \n",
       "9303  2134-02-17 22:30:00       EW EMER.            P79SJ2   \n",
       "10090 2138-07-17 21:50:00       EW EMER.            P30KEH   \n",
       "\n",
       "           admission_location discharge_location insurance language  \\\n",
       "5077          CLINIC REFERRAL               DIED  Medicare  ENGLISH   \n",
       "5522   TRANSFER FROM HOSPITAL               DIED  Medicare  ENGLISH   \n",
       "6001           EMERGENCY ROOM               DIED     Other  ENGLISH   \n",
       "6467       PHYSICIAN REFERRAL               DIED  Medicare  ENGLISH   \n",
       "7833           EMERGENCY ROOM               DIED     Other  ENGLISH   \n",
       "8044           EMERGENCY ROOM               DIED  Medicaid  ENGLISH   \n",
       "9303           EMERGENCY ROOM               DIED  Medicare  ENGLISH   \n",
       "10090          EMERGENCY ROOM               DIED  Medicare  ENGLISH   \n",
       "\n",
       "      marital_status             race           edregtime           edouttime  \\\n",
       "5077          SINGLE  HISPANIC/LATINO                 NaT                 NaT   \n",
       "5522         MARRIED            WHITE                 NaT                 NaT   \n",
       "6001          SINGLE            OTHER 2138-03-04 14:33:00 2138-03-05 00:52:00   \n",
       "6467         MARRIED            WHITE                 NaT                 NaT   \n",
       "7833         MARRIED            WHITE 2132-06-27 15:36:00 2132-06-27 23:46:00   \n",
       "8044         WIDOWED            BLACK 2181-11-24 15:30:00 2181-11-24 20:59:00   \n",
       "9303         MARRIED            WHITE 2134-02-13 11:44:00 2134-02-13 15:20:00   \n",
       "10090        WIDOWED            WHITE 2138-07-10 14:06:00 2138-07-10 17:20:00   \n",
       "\n",
       "       hospital_expire_flag  \n",
       "5077                      1  \n",
       "5522                      1  \n",
       "6001                      1  \n",
       "6467                      1  \n",
       "7833                      1  \n",
       "8044                      1  \n",
       "9303                      1  \n",
       "10090                     1  "
      ]
     },
     "execution_count": 170,
     "metadata": {},
     "output_type": "execute_result"
    }
   ],
   "source": [
    "_[_['deathtime'] != _['dischtime']]"
   ]
  },
  {
   "cell_type": "code",
   "execution_count": null,
   "id": "f05f6e8d-50ba-4f99-822f-362f845b2ccd",
   "metadata": {},
   "outputs": [],
   "source": []
  }
 ],
 "metadata": {
  "kernelspec": {
   "display_name": "Python 3 (ipykernel)",
   "language": "python",
   "name": "python3"
  },
  "language_info": {
   "codemirror_mode": {
    "name": "ipython",
    "version": 3
   },
   "file_extension": ".py",
   "mimetype": "text/x-python",
   "name": "python",
   "nbconvert_exporter": "python",
   "pygments_lexer": "ipython3",
   "version": "3.12.1"
  }
 },
 "nbformat": 4,
 "nbformat_minor": 5
}
