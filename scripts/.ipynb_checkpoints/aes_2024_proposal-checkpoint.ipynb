{
 "cells": [
  {
   "cell_type": "code",
   "execution_count": 17,
   "metadata": {},
   "outputs": [],
   "source": [
    "import seaborn as sns\n",
    "import matplotlib.pyplot as plt\n",
    "import pandas as pd"
   ]
  },
  {
   "cell_type": "code",
   "execution_count": 18,
   "metadata": {},
   "outputs": [],
   "source": [
    "df = pd.read_csv('../data/icu_ibd_all_table.csv')"
   ]
  },
  {
   "cell_type": "code",
   "execution_count": 19,
   "metadata": {
    "scrolled": true
   },
   "outputs": [
    {
     "name": "stdout",
     "output_type": "stream",
     "text": [
      "hadm_id 0\n",
      "subject_id 0\n",
      "intime 0\n",
      "outtime 0\n",
      "los 0\n",
      "mortality 0\n",
      "gender 0\n",
      "age 0\n",
      "weight 1066\n",
      "bmi 1070\n",
      "heart_rate 1\n",
      "systolic_pressure 1099\n",
      "diastolic_pressure 1099\n",
      "respiratory_rate 1\n",
      "temperature 962\n",
      "white_blood_cell 1155\n",
      "hematocrit 18\n",
      "red_blood_cell 705\n",
      "rdw 17\n",
      "platelet 18\n",
      "mcv 17\n",
      "mch 17\n",
      "hemoglobin 16\n",
      "CRP 1161\n",
      "race 18\n",
      "language 18\n",
      "marital_status 32\n",
      "insurance 18\n",
      "die_in_icu 0\n",
      "uc_only 0\n",
      "cd_only 0\n",
      "uc_cd 0\n"
     ]
    }
   ],
   "source": [
    "for col in df.columns:\n",
    "    print(col, end=' ')\n",
    "    print(df[col].isna().sum())"
   ]
  },
  {
   "cell_type": "code",
   "execution_count": 12,
   "metadata": {},
   "outputs": [
    {
     "data": {
      "text/plain": [
       "(1161, 32)"
      ]
     },
     "execution_count": 12,
     "metadata": {},
     "output_type": "execute_result"
    }
   ],
   "source": [
    "df.shape"
   ]
  },
  {
   "cell_type": "code",
   "execution_count": 13,
   "metadata": {},
   "outputs": [
    {
     "data": {
      "text/plain": [
       "160"
      ]
     },
     "execution_count": 13,
     "metadata": {},
     "output_type": "execute_result"
    }
   ],
   "source": [
    "(df['die_in_icu'] == 1).sum()"
   ]
  },
  {
   "cell_type": "code",
   "execution_count": 16,
   "metadata": {},
   "outputs": [
    {
     "data": {
      "text/html": [
       "<div>\n",
       "<style scoped>\n",
       "    .dataframe tbody tr th:only-of-type {\n",
       "        vertical-align: middle;\n",
       "    }\n",
       "\n",
       "    .dataframe tbody tr th {\n",
       "        vertical-align: top;\n",
       "    }\n",
       "\n",
       "    .dataframe thead th {\n",
       "        text-align: right;\n",
       "    }\n",
       "</style>\n",
       "<table border=\"1\" class=\"dataframe\">\n",
       "  <thead>\n",
       "    <tr style=\"text-align: right;\">\n",
       "      <th>die_in_icu</th>\n",
       "      <th>0</th>\n",
       "      <th>1</th>\n",
       "    </tr>\n",
       "    <tr>\n",
       "      <th>type</th>\n",
       "      <th></th>\n",
       "      <th></th>\n",
       "    </tr>\n",
       "  </thead>\n",
       "  <tbody>\n",
       "    <tr>\n",
       "      <th>cd_only</th>\n",
       "      <td>283</td>\n",
       "      <td>72</td>\n",
       "    </tr>\n",
       "    <tr>\n",
       "      <th>uc_cd</th>\n",
       "      <td>31</td>\n",
       "      <td>4</td>\n",
       "    </tr>\n",
       "    <tr>\n",
       "      <th>uc_only</th>\n",
       "      <td>283</td>\n",
       "      <td>74</td>\n",
       "    </tr>\n",
       "  </tbody>\n",
       "</table>\n",
       "</div>"
      ],
      "text/plain": [
       "die_in_icu    0   1\n",
       "type               \n",
       "cd_only     283  72\n",
       "uc_cd        31   4\n",
       "uc_only     283  74"
      ]
     },
     "execution_count": 16,
     "metadata": {},
     "output_type": "execute_result"
    }
   ],
   "source": [
    "pd.pivot_table(df, values='subject_id', index=['type'], \n",
    "               columns=['die_in_icu'], aggfunc=lambda series: series.unique().shape[0])"
   ]
  },
  {
   "cell_type": "code",
   "execution_count": 15,
   "metadata": {
    "scrolled": true
   },
   "outputs": [],
   "source": [
    "df['type'] = df[['uc_only', 'cd_only', 'uc_cd']].apply(lambda s: s.idxmax(), axis=1)"
   ]
  },
  {
   "cell_type": "code",
   "execution_count": null,
   "metadata": {},
   "outputs": [],
   "source": [
    "pd.pivot_table(df, values='subject_id', index=['type'], \n",
    "               columns=['gender'], aggfunc=lambda series: series.unique().shape[0])"
   ]
  },
  {
   "cell_type": "code",
   "execution_count": null,
   "metadata": {},
   "outputs": [],
   "source": [
    "pd.pivot_table(df, values='subject_id', index=['type'], \n",
    "               columns=['insurance'], aggfunc=lambda series: series.unique().shape[0])"
   ]
  },
  {
   "cell_type": "code",
   "execution_count": null,
   "metadata": {},
   "outputs": [],
   "source": [
    "174+146+20+14+162+167, df['subject_id'].unique().shape[0]"
   ]
  },
  {
   "cell_type": "code",
   "execution_count": null,
   "metadata": {
    "scrolled": true
   },
   "outputs": [],
   "source": [
    "sns.set(style=\"whitegrid\")\n",
    "\n",
    "variables = ['age', 'weight', 'bmi', 'heart_rate', 'systolic_pressure',\n",
    "       'diastolic_pressure', 'respiratory_rate', 'temperature',\n",
    "       'white_blood_cell', 'hematocrit', 'red_blood_cell', 'rdw', 'platelet',\n",
    "       'mcv', 'mch', 'hemoglobin']\n",
    "\n",
    "for var in variables:\n",
    "    plt.figure(figsize=(4, 3), dpi=300)  # 设置图形大小\n",
    "    sns.boxplot(x='type', y=var, data=df)\n",
    "    # plt.yscale('log')\n",
    "    plt.title(f'Boxplot of {var} by Type')\n",
    "    plt.show()"
   ]
  },
  {
   "cell_type": "code",
   "execution_count": null,
   "metadata": {},
   "outputs": [],
   "source": [
    "len(variables)"
   ]
  },
  {
   "cell_type": "code",
   "execution_count": null,
   "metadata": {},
   "outputs": [],
   "source": [
    "import seaborn as sns\n",
    "import matplotlib.pyplot as plt\n",
    "\n",
    "# 设置Seaborn的样式\n",
    "sns.set(style=\"whitegrid\")\n",
    "\n",
    "# 定义变量\n",
    "variables = ['age', 'weight', 'bmi', 'heart_rate', 'systolic_pressure',\n",
    "             'diastolic_pressure', 'respiratory_rate', 'temperature',\n",
    "             'white_blood_cell', 'hematocrit', 'red_blood_cell', 'rdw', 'platelet',\n",
    "             'mcv', 'mch', 'hemoglobin']\n",
    "\n",
    "col_except = ['systolic_pressure', 'diastolic_pressure', 'temperature', 'white_blood_cell', 'red_blood_cell']\n",
    "\n",
    "# 创建一个4x4的图表网格\n",
    "fig, axes = plt.subplots(nrows=3, ncols=4, figsize=(16, 9), dpi=300)\n",
    "fig.tight_layout(pad=5.0)\n",
    "\n",
    "# 遍历变量和子图位置\n",
    "for i, var in enumerate([col for col in variables if col not in col_except]):\n",
    "    row, col = divmod(i, 4)\n",
    "    ax = axes[row, col]\n",
    "    # sns.boxplot(x='type', y=var, data=df, ax=ax, palette=\"Set2\")  # 使用ax参数绘制到指定的子图\n",
    "    sns.boxplot(x='type', y=var, hue='type', data=df, ax=ax, palette=\"Set2\", legend=False, showfliers=False)  \n",
    "\n",
    "    ax.set_title(f'Boxplot of {var} by Type', fontsize=10)\n",
    "    ax.set_xlabel('')  # 清除x轴标签以节省空间\n",
    "    ax.set_ylabel('')  # 清除y轴标签以节省空间\n",
    "    ax.tick_params(axis='x', labelsize=8)  # 调整x轴标签大小\n",
    "    ax.tick_params(axis='y', labelsize=8)  # 调整y轴标签大小\n",
    "\n",
    "\n",
    "# 如果变量不是16的倍数，隐藏多余的子图\n",
    "for j in range(i + 1, 12):\n",
    "    row, col = divmod(j, 4)\n",
    "    axes[row, col].axis('off')\n",
    "\n",
    "plt.savefig('../img/obs.png')"
   ]
  },
  {
   "cell_type": "code",
   "execution_count": null,
   "metadata": {},
   "outputs": [],
   "source": []
  },
  {
   "cell_type": "code",
   "execution_count": null,
   "metadata": {},
   "outputs": [],
   "source": []
  },
  {
   "cell_type": "code",
   "execution_count": null,
   "metadata": {},
   "outputs": [],
   "source": []
  }
 ],
 "metadata": {
  "kernelspec": {
   "display_name": "Python 3 (ipykernel)",
   "language": "python",
   "name": "python3"
  },
  "language_info": {
   "codemirror_mode": {
    "name": "ipython",
    "version": 3
   },
   "file_extension": ".py",
   "mimetype": "text/x-python",
   "name": "python",
   "nbconvert_exporter": "python",
   "pygments_lexer": "ipython3",
   "version": "3.12.1"
  },
  "widgets": {
   "application/vnd.jupyter.widget-state+json": {
    "state": {},
    "version_major": 2,
    "version_minor": 0
   }
  }
 },
 "nbformat": 4,
 "nbformat_minor": 4
}
