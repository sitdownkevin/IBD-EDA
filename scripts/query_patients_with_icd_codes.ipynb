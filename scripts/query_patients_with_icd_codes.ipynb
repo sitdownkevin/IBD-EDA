{
 "cells": [
  {
   "cell_type": "code",
   "execution_count": 1,
   "metadata": {},
   "outputs": [
    {
     "name": "stdout",
     "output_type": "stream",
     "text": [
      "load env file\n",
      "  root dir:\n",
      "    /Users/k/Repo/gp-ibd\n",
      "  current system:\n",
      "    Darwin\n",
      "  loaded env file:\n",
      "    .env.darwin\n",
      "  loaded data dir:\n",
      "    /Users/k/Nutstore Files/毕设-EHR/DB\n",
      "done.\n"
     ]
    }
   ],
   "source": [
    "import os\n",
    "import json\n",
    "import numpy as np\n",
    "import pandas as pd\n",
    "import matplotlib.pyplot as plt\n",
    "\n",
    "import sys\n",
    "sys.path.append('./utils')\n",
    "from env import load_env_file\n",
    "from stats import plot_distribution\n",
    "from tqdm import tqdm\n",
    "\n",
    "DATA_DIR = load_env_file()"
   ]
  },
  {
   "cell_type": "code",
   "execution_count": 2,
   "metadata": {},
   "outputs": [
    {
     "name": "stdout",
     "output_type": "stream",
     "text": [
      "total patients num:\n",
      "  2417\n",
      "both uc and cd:\n",
      "  85\n",
      "only uc:\n",
      "  1052\n",
      "only cd:\n",
      "  1280\n"
     ]
    }
   ],
   "source": [
    "'''读取患者列表\n",
    "    p_lists: dict\n",
    "    - both_ibd\n",
    "    - only_uc\n",
    "    - only_cd\n",
    "'''\n",
    "with open(os.path.join(DATA_DIR, 'data', 'patients_lists.json'), 'r') as f:\n",
    "    p_lists = json.loads(f.read())\n",
    "\n",
    "print('total patients num:\\n  {}'.format(len(p_lists['both_ibd'] + p_lists['only_uc'] + p_lists['only_cd'])))\n",
    "print('both uc and cd:\\n  {}'.format(len(p_lists['both_ibd'])))\n",
    "print('only uc:\\n  {}'.format(len(p_lists['only_uc'])))\n",
    "print('only cd:\\n  {}'.format(len(p_lists['only_cd'])))"
   ]
  },
  {
   "cell_type": "code",
   "execution_count": null,
   "metadata": {},
   "outputs": [],
   "source": [
    "'''IBD 病患的人口学数据\n",
    "    rows\n",
    "    - subject_id\n",
    "    columns\n",
    "    - gender\n",
    "    - anchor_age\n",
    "    - anchor_year_group\n",
    "    - dod\n",
    "'''\n",
    "df = pd.read_csv(os.path.join(DATA_DIR, 'complication', 'Complications_Patients.csv'))\n",
    "df_demography = df.groupby('subject_id').agg({\n",
    "    'gender': 'first',\n",
    "    'anchor_age': 'first',\n",
    "    'anchor_year_group': 'first',\n",
    "    'dod': 'first',\n",
    "})\n",
    "\n",
    "df_demography = df_demography.loc[p_lists['only_cd'], :]\n",
    "df_demography.shape"
   ]
  },
  {
   "cell_type": "code",
   "execution_count": null,
   "metadata": {},
   "outputs": [],
   "source": [
    "'''同一种 icd code 有多少 IBD 病患的诊断记录\n",
    "    row\n",
    "    - icd_code\n",
    "    - count\n",
    "'''\n",
    "stats = df.groupby(['subject_id', 'icd_code']).agg({\n",
    "    'icd_code': ['count'],\n",
    "})\n",
    "stats.columns = ['count']\n",
    "stats = stats.reset_index()\n",
    "\n",
    "icd_code_counts = stats.groupby('icd_code').agg({\n",
    "    'subject_id': ['nunique']\n",
    "})\n",
    "icd_code_counts.columns = ['count']\n",
    "icd_code_counts.head()"
   ]
  },
  {
   "cell_type": "code",
   "execution_count": null,
   "metadata": {},
   "outputs": [],
   "source": [
    "'''获取所有 count 超过阈值的 icd code list\n",
    "'''\n",
    "def get_suspect_icd_code(threshold=300) -> list:\n",
    "    ibd_icd_codes = ['5550', '5551', '5552', '5559', '5560', '5561', '5562', '5563', '5564', '5565', '5566', '5568', '5569']\n",
    "    suspect_icd_code = [_ for _ in icd_code_counts[icd_code_counts['count'] > threshold].index.tolist() if _ not in ibd_icd_codes]\n",
    "    return suspect_icd_code"
   ]
  },
  {
   "cell_type": "code",
   "execution_count": null,
   "metadata": {},
   "outputs": [],
   "source": [
    "'''X (2417, 2 + len(suspect_icd_code))\n",
    "\n",
    "    从 df 中根据 suspect icd code 提取\n",
    "    X > rows\n",
    "    - subject_id\n",
    "    X > columns\n",
    "    - gender \n",
    "    - age\n",
    "    - icd code A\n",
    "    - icd code B\n",
    "    - icd code C\n",
    "    - ...\n",
    "'''\n",
    "suspect_icd_code = get_suspect_icd_code(120)\n",
    "patients_subject_id = df_demography.index.to_list()\n",
    "\n",
    "X = np.zeros((len(patients_subject_id), 2 + len(suspect_icd_code)))\n",
    "for i in tqdm(range(len(patients_subject_id))):\n",
    "    subject_id = patients_subject_id[i]\n",
    "    filtered_df = df[df['subject_id'] == subject_id]\n",
    "    \n",
    "    X[i, 0] = 1 if df_demography.loc[subject_id, 'gender'] == 'M' else 0\n",
    "    X[i, 1] = 1 if int(df_demography.loc[subject_id, 'anchor_age']) >= 60 else 0\n",
    "\n",
    "    for j in range(len(suspect_icd_code)):\n",
    "        X[i, 2 + j] = 1 if (filtered_df['icd_code'] == suspect_icd_code[j]).any() else 0\n",
    "\n",
    "X.shape"
   ]
  },
  {
   "cell_type": "code",
   "execution_count": null,
   "metadata": {},
   "outputs": [],
   "source": [
    "'''y (2417,)\n",
    "'''\n",
    "y = np.array(pd.notnull(df_demography.dod).astype(int))\n",
    "print('  dead nums: {} live nums: {}'.format(y[y == 1].shape, y[y == 0].shape))"
   ]
  },
  {
   "cell_type": "code",
   "execution_count": null,
   "metadata": {},
   "outputs": [],
   "source": [
    "'''保存 X 和 y 至 R 项目目录\n",
    "'''\n",
    "np.savetxt('../r scripts/data/X.csv', \n",
    "           X, \n",
    "           delimiter=',', \n",
    "           header=','.join(['gender', 'age'] + [str(_) for _ in suspect_icd_code]), \n",
    "           comments='')\n",
    "np.savetxt('../r scripts/data/y.csv', \n",
    "           y, \n",
    "           delimiter=',', \n",
    "           header='dod', \n",
    "           comments='')"
   ]
  },
  {
   "cell_type": "code",
   "execution_count": null,
   "metadata": {},
   "outputs": [],
   "source": []
  }
 ],
 "metadata": {
  "kernelspec": {
   "display_name": "ibd",
   "language": "python",
   "name": "python3"
  },
  "language_info": {
   "codemirror_mode": {
    "name": "ipython",
    "version": 3
   },
   "file_extension": ".py",
   "mimetype": "text/x-python",
   "name": "python",
   "nbconvert_exporter": "python",
   "pygments_lexer": "ipython3",
   "version": "3.9.18"
  }
 },
 "nbformat": 4,
 "nbformat_minor": 2
}
