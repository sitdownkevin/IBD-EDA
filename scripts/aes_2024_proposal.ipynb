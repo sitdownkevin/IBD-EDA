{
 "cells": [
  {
   "cell_type": "code",
   "execution_count": 49,
   "metadata": {},
   "outputs": [],
   "source": [
    "import seaborn as sns\n",
    "import matplotlib.pyplot as plt\n",
    "import pandas as pd\n",
    "import numpy as np"
   ]
  },
  {
   "cell_type": "code",
   "execution_count": 50,
   "metadata": {
    "scrolled": true
   },
   "outputs": [
    {
     "data": {
      "text/plain": [
       "(1161, 32)"
      ]
     },
     "execution_count": 50,
     "metadata": {},
     "output_type": "execute_result"
    }
   ],
   "source": [
    "df = pd.read_csv('../data/icu_ibd_all_table.csv')\n",
    "df['intime'] = pd.to_datetime(df['intime'])\n",
    "df.shape"
   ]
  },
  {
   "cell_type": "code",
   "execution_count": 51,
   "metadata": {},
   "outputs": [
    {
     "data": {
      "text/plain": [
       "(2417, 6)"
      ]
     },
     "execution_count": 51,
     "metadata": {},
     "output_type": "execute_result"
    }
   ],
   "source": [
    "df2 = pd.read_csv('../data/patients_ibd.csv')\n",
    "\n",
    "\n",
    "func = lambda x: pd.to_datetime('{}-01-01'.format(x))\n",
    "df2['anchor_year'] = df2['anchor_year'].apply(func)\n",
    "\n",
    "df2.shape"
   ]
  },
  {
   "cell_type": "code",
   "execution_count": 52,
   "metadata": {},
   "outputs": [],
   "source": [
    "data = df.merge(df2[['subject_id', 'anchor_year']], on='subject_id', how='left')\n",
    "data['age'] = ((data['intime'] - data['anchor_year']).dt.days) / 365 + data['age']"
   ]
  },
  {
   "cell_type": "code",
   "execution_count": 5,
   "metadata": {
    "scrolled": true
   },
   "outputs": [
    {
     "name": "stdout",
     "output_type": "stream",
     "text": [
      "hadm_id 0 - 1161\n",
      "subject_id 0 - 683\n",
      "intime 0 - 1161\n",
      "outtime 0 - 1161\n",
      "los 0 - 1159\n",
      "mortality 0 - 2\n",
      "gender 0 - 2\n",
      "age 0 - 1128\n",
      "weight 1066 - 28\n",
      "bmi 1070 - 25\n",
      "heart_rate 1 - 108\n",
      "systolic_pressure 1099 - 17\n",
      "diastolic_pressure 1099 - 15\n",
      "respiratory_rate 1 - 37\n",
      "temperature 962 - 45\n",
      "white_blood_cell 1155 - 5\n",
      "hematocrit 18 - 252\n",
      "red_blood_cell 705 - 68\n",
      "rdw 17 - 122\n",
      "platelet 18 - 454\n",
      "mcv 17 - 57\n",
      "mch 17 - 157\n",
      "hemoglobin 16 - 102\n",
      "CRP 1161 - 1\n",
      "race 18 - 25\n",
      "language 18 - 3\n",
      "marital_status 32 - 5\n",
      "insurance 18 - 4\n",
      "die_in_icu 0 - 2\n",
      "uc_only 0 - 2\n",
      "cd_only 0 - 2\n",
      "uc_cd 0 - 2\n",
      "anchor_year 0 - 93\n"
     ]
    }
   ],
   "source": [
    "for col in data.columns:\n",
    "    print(col, end=' ')\n",
    "    print(data[col].isna().sum(), end=' - ')\n",
    "    print(len(data[col].unique()))"
   ]
  },
  {
   "cell_type": "code",
   "execution_count": 6,
   "metadata": {
    "scrolled": true
   },
   "outputs": [],
   "source": [
    "cols_except = [\n",
    "    'hadm_id',\n",
    "    'subject_id',\n",
    "    'intime',\n",
    "    'outtime',\n",
    "    # 'los',\n",
    "    'mortality',\n",
    "    'weight',\n",
    "    'bmi',\n",
    "    'systolic_pressure',\n",
    "    'diastolic_pressure',\n",
    "    'temperature',\n",
    "    'white_blood_cell',\n",
    "    'red_blood_cell',\n",
    "    'CRP',\n",
    "    'die_in_icu',\n",
    "    'anchor_year',\n",
    "    'uc_cd'\n",
    "]\n",
    "\n",
    "cols_include = [col for col in data.columns if col not in cols_except]\n",
    "\n",
    "data = data[cols_include]"
   ]
  },
  {
   "cell_type": "code",
   "execution_count": 7,
   "metadata": {},
   "outputs": [
    {
     "name": "stdout",
     "output_type": "stream",
     "text": [
      "language\n",
      "ENGLISH    1056\n",
      "?            52\n",
      "Name: count, dtype: int64\n",
      "race\n",
      "WHITE              918\n",
      "BLACK              101\n",
      "OTHER               61\n",
      "HISPANIC/LATINO     21\n",
      "ASIAN                7\n",
      "Name: count, dtype: int64\n",
      "marital_status\n",
      "MARRIED     510\n",
      "SINGLE      367\n",
      "WIDOWED     136\n",
      "DIVORCED     95\n",
      "Name: count, dtype: int64\n",
      "insurance\n",
      "Medicare    516\n",
      "Other       505\n",
      "Medicaid     87\n",
      "Name: count, dtype: int64\n"
     ]
    }
   ],
   "source": [
    "X = data[ ~data[cols_include].isna().any(axis=1) ]\n",
    "\n",
    "\n",
    "def parse_race(race):\n",
    "    if 'WHITE' in race:\n",
    "        return 'WHITE'\n",
    "    elif 'BLACK' in race:\n",
    "        return 'BLACK'\n",
    "    elif 'HISPANIC' in race or 'LATINO' in race:\n",
    "        return 'HISPANIC/LATINO'\n",
    "    elif 'ASIAN' in race:\n",
    "        return 'ASIAN'\n",
    "    else:\n",
    "        return 'OTHER'\n",
    "\n",
    "\n",
    "X.loc[:, 'race'] = X['race'].apply(parse_race)\n",
    "\n",
    "for col in ['language', 'race', 'marital_status', 'insurance']:\n",
    "    print(X[col].value_counts())\n",
    "\n",
    "X = pd.get_dummies(X, columns=['race', 'language', 'marital_status', 'insurance'], prefix=['race', 'language', 'marital_status', 'insurance'])"
   ]
  },
  {
   "cell_type": "code",
   "execution_count": 123,
   "metadata": {},
   "outputs": [],
   "source": [
    "cols = ['age', 'heart_rate', 'respiratory_rate', 'hematocrit', 'rdw',\n",
    "       'platelet', 'mcv', 'mch', 'hemoglobin',]\n",
    "\n",
    "tmp = X.loc[:, cols]\n",
    "\n",
    "# tmp = ( tmp - tmp.mean() ) / ( tmp.std() )\n",
    "tmp = ( tmp - tmp.min() ) / ( tmp.max() - tmp.min() )\n",
    "\n",
    "X.loc[:, cols] = tmp"
   ]
  },
  {
   "cell_type": "code",
   "execution_count": 124,
   "metadata": {
    "scrolled": true
   },
   "outputs": [
    {
     "name": "stderr",
     "output_type": "stream",
     "text": [
      "C:\\Users\\sitdo\\AppData\\Local\\Temp\\ipykernel_24428\\2195305398.py:1: FutureWarning: Setting an item of incompatible dtype is deprecated and will raise in a future error of pandas. Value '[0 0 0 ... 0 0 0]' has dtype incompatible with bool, please explicitly cast to a compatible dtype first.\n",
      "  X.loc[:, [col for col in X.columns if col not in cols+['los']]] = \\\n",
      "C:\\Users\\sitdo\\AppData\\Local\\Temp\\ipykernel_24428\\2195305398.py:1: FutureWarning: Setting an item of incompatible dtype is deprecated and will raise in a future error of pandas. Value '[0 0 0 ... 0 0 0]' has dtype incompatible with bool, please explicitly cast to a compatible dtype first.\n",
      "  X.loc[:, [col for col in X.columns if col not in cols+['los']]] = \\\n",
      "C:\\Users\\sitdo\\AppData\\Local\\Temp\\ipykernel_24428\\2195305398.py:1: FutureWarning: Setting an item of incompatible dtype is deprecated and will raise in a future error of pandas. Value '[0 0 0 ... 0 0 0]' has dtype incompatible with bool, please explicitly cast to a compatible dtype first.\n",
      "  X.loc[:, [col for col in X.columns if col not in cols+['los']]] = \\\n",
      "C:\\Users\\sitdo\\AppData\\Local\\Temp\\ipykernel_24428\\2195305398.py:1: FutureWarning: Setting an item of incompatible dtype is deprecated and will raise in a future error of pandas. Value '[0 0 0 ... 0 0 0]' has dtype incompatible with bool, please explicitly cast to a compatible dtype first.\n",
      "  X.loc[:, [col for col in X.columns if col not in cols+['los']]] = \\\n",
      "C:\\Users\\sitdo\\AppData\\Local\\Temp\\ipykernel_24428\\2195305398.py:1: FutureWarning: Setting an item of incompatible dtype is deprecated and will raise in a future error of pandas. Value '[1 1 1 ... 1 1 1]' has dtype incompatible with bool, please explicitly cast to a compatible dtype first.\n",
      "  X.loc[:, [col for col in X.columns if col not in cols+['los']]] = \\\n",
      "C:\\Users\\sitdo\\AppData\\Local\\Temp\\ipykernel_24428\\2195305398.py:1: FutureWarning: Setting an item of incompatible dtype is deprecated and will raise in a future error of pandas. Value '[0 0 0 ... 0 0 0]' has dtype incompatible with bool, please explicitly cast to a compatible dtype first.\n",
      "  X.loc[:, [col for col in X.columns if col not in cols+['los']]] = \\\n",
      "C:\\Users\\sitdo\\AppData\\Local\\Temp\\ipykernel_24428\\2195305398.py:1: FutureWarning: Setting an item of incompatible dtype is deprecated and will raise in a future error of pandas. Value '[1 1 1 ... 1 1 1]' has dtype incompatible with bool, please explicitly cast to a compatible dtype first.\n",
      "  X.loc[:, [col for col in X.columns if col not in cols+['los']]] = \\\n",
      "C:\\Users\\sitdo\\AppData\\Local\\Temp\\ipykernel_24428\\2195305398.py:1: FutureWarning: Setting an item of incompatible dtype is deprecated and will raise in a future error of pandas. Value '[1 1 0 ... 0 0 0]' has dtype incompatible with bool, please explicitly cast to a compatible dtype first.\n",
      "  X.loc[:, [col for col in X.columns if col not in cols+['los']]] = \\\n",
      "C:\\Users\\sitdo\\AppData\\Local\\Temp\\ipykernel_24428\\2195305398.py:1: FutureWarning: Setting an item of incompatible dtype is deprecated and will raise in a future error of pandas. Value '[0 0 1 ... 0 1 0]' has dtype incompatible with bool, please explicitly cast to a compatible dtype first.\n",
      "  X.loc[:, [col for col in X.columns if col not in cols+['los']]] = \\\n",
      "C:\\Users\\sitdo\\AppData\\Local\\Temp\\ipykernel_24428\\2195305398.py:1: FutureWarning: Setting an item of incompatible dtype is deprecated and will raise in a future error of pandas. Value '[0 0 0 ... 1 0 1]' has dtype incompatible with bool, please explicitly cast to a compatible dtype first.\n",
      "  X.loc[:, [col for col in X.columns if col not in cols+['los']]] = \\\n",
      "C:\\Users\\sitdo\\AppData\\Local\\Temp\\ipykernel_24428\\2195305398.py:1: FutureWarning: Setting an item of incompatible dtype is deprecated and will raise in a future error of pandas. Value '[0 0 0 ... 0 0 0]' has dtype incompatible with bool, please explicitly cast to a compatible dtype first.\n",
      "  X.loc[:, [col for col in X.columns if col not in cols+['los']]] = \\\n",
      "C:\\Users\\sitdo\\AppData\\Local\\Temp\\ipykernel_24428\\2195305398.py:1: FutureWarning: Setting an item of incompatible dtype is deprecated and will raise in a future error of pandas. Value '[0 0 0 ... 0 0 0]' has dtype incompatible with bool, please explicitly cast to a compatible dtype first.\n",
      "  X.loc[:, [col for col in X.columns if col not in cols+['los']]] = \\\n",
      "C:\\Users\\sitdo\\AppData\\Local\\Temp\\ipykernel_24428\\2195305398.py:1: FutureWarning: Setting an item of incompatible dtype is deprecated and will raise in a future error of pandas. Value '[0 0 0 ... 1 1 1]' has dtype incompatible with bool, please explicitly cast to a compatible dtype first.\n",
      "  X.loc[:, [col for col in X.columns if col not in cols+['los']]] = \\\n",
      "C:\\Users\\sitdo\\AppData\\Local\\Temp\\ipykernel_24428\\2195305398.py:1: FutureWarning: Setting an item of incompatible dtype is deprecated and will raise in a future error of pandas. Value '[1 1 1 ... 0 0 0]' has dtype incompatible with bool, please explicitly cast to a compatible dtype first.\n",
      "  X.loc[:, [col for col in X.columns if col not in cols+['los']]] = \\\n"
     ]
    }
   ],
   "source": [
    "X.loc[:, [col for col in X.columns if col not in cols+['los']]] = \\\n",
    "    X.loc[:, [col for col in X.columns if col not in cols+['los']]].astype(int)"
   ]
  },
  {
   "cell_type": "code",
   "execution_count": null,
   "metadata": {},
   "outputs": [],
   "source": []
  },
  {
   "cell_type": "code",
   "execution_count": 125,
   "metadata": {},
   "outputs": [],
   "source": [
    "X['los'] = np.log(X['los'] + 1)\n",
    "\n",
    "X.to_csv('../new r scripts/data_norm.csv')"
   ]
  },
  {
   "cell_type": "code",
   "execution_count": 126,
   "metadata": {},
   "outputs": [
    {
     "data": {
      "text/html": [
       "<div>\n",
       "<style scoped>\n",
       "    .dataframe tbody tr th:only-of-type {\n",
       "        vertical-align: middle;\n",
       "    }\n",
       "\n",
       "    .dataframe tbody tr th {\n",
       "        vertical-align: top;\n",
       "    }\n",
       "\n",
       "    .dataframe thead th {\n",
       "        text-align: right;\n",
       "    }\n",
       "</style>\n",
       "<table border=\"1\" class=\"dataframe\">\n",
       "  <thead>\n",
       "    <tr style=\"text-align: right;\">\n",
       "      <th></th>\n",
       "      <th>los</th>\n",
       "      <th>gender</th>\n",
       "      <th>age</th>\n",
       "      <th>heart_rate</th>\n",
       "      <th>respiratory_rate</th>\n",
       "      <th>hematocrit</th>\n",
       "      <th>rdw</th>\n",
       "      <th>platelet</th>\n",
       "      <th>mcv</th>\n",
       "      <th>mch</th>\n",
       "      <th>...</th>\n",
       "      <th>race_WHITE</th>\n",
       "      <th>language_?</th>\n",
       "      <th>language_ENGLISH</th>\n",
       "      <th>marital_status_DIVORCED</th>\n",
       "      <th>marital_status_MARRIED</th>\n",
       "      <th>marital_status_SINGLE</th>\n",
       "      <th>marital_status_WIDOWED</th>\n",
       "      <th>insurance_Medicaid</th>\n",
       "      <th>insurance_Medicare</th>\n",
       "      <th>insurance_Other</th>\n",
       "    </tr>\n",
       "  </thead>\n",
       "  <tbody>\n",
       "    <tr>\n",
       "      <th>count</th>\n",
       "      <td>1108.000000</td>\n",
       "      <td>1108.000000</td>\n",
       "      <td>1108.000000</td>\n",
       "      <td>1108.000000</td>\n",
       "      <td>1108.000000</td>\n",
       "      <td>1108.000000</td>\n",
       "      <td>1108.000000</td>\n",
       "      <td>1108.000000</td>\n",
       "      <td>1108.000000</td>\n",
       "      <td>1108.000000</td>\n",
       "      <td>...</td>\n",
       "      <td>1108.000000</td>\n",
       "      <td>1108.000000</td>\n",
       "      <td>1108.000000</td>\n",
       "      <td>1108.000000</td>\n",
       "      <td>1108.000000</td>\n",
       "      <td>1108.000000</td>\n",
       "      <td>1108.000000</td>\n",
       "      <td>1108.000000</td>\n",
       "      <td>1108.000000</td>\n",
       "      <td>1108.000000</td>\n",
       "    </tr>\n",
       "    <tr>\n",
       "      <th>mean</th>\n",
       "      <td>1.189588</td>\n",
       "      <td>0.456679</td>\n",
       "      <td>0.560737</td>\n",
       "      <td>0.400874</td>\n",
       "      <td>0.384928</td>\n",
       "      <td>0.452366</td>\n",
       "      <td>0.610529</td>\n",
       "      <td>0.214194</td>\n",
       "      <td>0.742558</td>\n",
       "      <td>0.726275</td>\n",
       "      <td>...</td>\n",
       "      <td>0.828520</td>\n",
       "      <td>0.046931</td>\n",
       "      <td>0.953069</td>\n",
       "      <td>0.085740</td>\n",
       "      <td>0.460289</td>\n",
       "      <td>0.331227</td>\n",
       "      <td>0.122744</td>\n",
       "      <td>0.078520</td>\n",
       "      <td>0.465704</td>\n",
       "      <td>0.455776</td>\n",
       "    </tr>\n",
       "    <tr>\n",
       "      <th>std</th>\n",
       "      <td>0.614112</td>\n",
       "      <td>0.498345</td>\n",
       "      <td>0.201272</td>\n",
       "      <td>0.123302</td>\n",
       "      <td>0.115351</td>\n",
       "      <td>0.133196</td>\n",
       "      <td>0.095449</td>\n",
       "      <td>0.138624</td>\n",
       "      <td>0.070521</td>\n",
       "      <td>0.077567</td>\n",
       "      <td>...</td>\n",
       "      <td>0.377098</td>\n",
       "      <td>0.211587</td>\n",
       "      <td>0.211587</td>\n",
       "      <td>0.280106</td>\n",
       "      <td>0.498646</td>\n",
       "      <td>0.470867</td>\n",
       "      <td>0.328291</td>\n",
       "      <td>0.269109</td>\n",
       "      <td>0.499048</td>\n",
       "      <td>0.498265</td>\n",
       "    </tr>\n",
       "    <tr>\n",
       "      <th>min</th>\n",
       "      <td>0.143188</td>\n",
       "      <td>0.000000</td>\n",
       "      <td>0.000000</td>\n",
       "      <td>0.000000</td>\n",
       "      <td>0.000000</td>\n",
       "      <td>0.000000</td>\n",
       "      <td>0.000000</td>\n",
       "      <td>0.000000</td>\n",
       "      <td>0.000000</td>\n",
       "      <td>0.000000</td>\n",
       "      <td>...</td>\n",
       "      <td>0.000000</td>\n",
       "      <td>0.000000</td>\n",
       "      <td>0.000000</td>\n",
       "      <td>0.000000</td>\n",
       "      <td>0.000000</td>\n",
       "      <td>0.000000</td>\n",
       "      <td>0.000000</td>\n",
       "      <td>0.000000</td>\n",
       "      <td>0.000000</td>\n",
       "      <td>0.000000</td>\n",
       "    </tr>\n",
       "    <tr>\n",
       "      <th>25%</th>\n",
       "      <td>0.735428</td>\n",
       "      <td>0.000000</td>\n",
       "      <td>0.428045</td>\n",
       "      <td>0.312500</td>\n",
       "      <td>0.300000</td>\n",
       "      <td>0.355140</td>\n",
       "      <td>0.541667</td>\n",
       "      <td>0.122449</td>\n",
       "      <td>0.704918</td>\n",
       "      <td>0.683047</td>\n",
       "      <td>...</td>\n",
       "      <td>1.000000</td>\n",
       "      <td>0.000000</td>\n",
       "      <td>1.000000</td>\n",
       "      <td>0.000000</td>\n",
       "      <td>0.000000</td>\n",
       "      <td>0.000000</td>\n",
       "      <td>0.000000</td>\n",
       "      <td>0.000000</td>\n",
       "      <td>0.000000</td>\n",
       "      <td>0.000000</td>\n",
       "    </tr>\n",
       "    <tr>\n",
       "      <th>50%</th>\n",
       "      <td>1.058509</td>\n",
       "      <td>0.000000</td>\n",
       "      <td>0.561921</td>\n",
       "      <td>0.393750</td>\n",
       "      <td>0.370000</td>\n",
       "      <td>0.441589</td>\n",
       "      <td>0.594697</td>\n",
       "      <td>0.189885</td>\n",
       "      <td>0.737705</td>\n",
       "      <td>0.729730</td>\n",
       "      <td>...</td>\n",
       "      <td>1.000000</td>\n",
       "      <td>0.000000</td>\n",
       "      <td>1.000000</td>\n",
       "      <td>0.000000</td>\n",
       "      <td>0.000000</td>\n",
       "      <td>0.000000</td>\n",
       "      <td>0.000000</td>\n",
       "      <td>0.000000</td>\n",
       "      <td>0.000000</td>\n",
       "      <td>0.000000</td>\n",
       "    </tr>\n",
       "    <tr>\n",
       "      <th>75%</th>\n",
       "      <td>1.474313</td>\n",
       "      <td>1.000000</td>\n",
       "      <td>0.723528</td>\n",
       "      <td>0.475000</td>\n",
       "      <td>0.440000</td>\n",
       "      <td>0.535047</td>\n",
       "      <td>0.659091</td>\n",
       "      <td>0.267968</td>\n",
       "      <td>0.780738</td>\n",
       "      <td>0.771499</td>\n",
       "      <td>...</td>\n",
       "      <td>1.000000</td>\n",
       "      <td>0.000000</td>\n",
       "      <td>1.000000</td>\n",
       "      <td>0.000000</td>\n",
       "      <td>1.000000</td>\n",
       "      <td>1.000000</td>\n",
       "      <td>0.000000</td>\n",
       "      <td>0.000000</td>\n",
       "      <td>1.000000</td>\n",
       "      <td>1.000000</td>\n",
       "    </tr>\n",
       "    <tr>\n",
       "      <th>max</th>\n",
       "      <td>3.958028</td>\n",
       "      <td>1.000000</td>\n",
       "      <td>1.000000</td>\n",
       "      <td>1.000000</td>\n",
       "      <td>1.000000</td>\n",
       "      <td>1.000000</td>\n",
       "      <td>1.000000</td>\n",
       "      <td>1.000000</td>\n",
       "      <td>1.000000</td>\n",
       "      <td>1.000000</td>\n",
       "      <td>...</td>\n",
       "      <td>1.000000</td>\n",
       "      <td>1.000000</td>\n",
       "      <td>1.000000</td>\n",
       "      <td>1.000000</td>\n",
       "      <td>1.000000</td>\n",
       "      <td>1.000000</td>\n",
       "      <td>1.000000</td>\n",
       "      <td>1.000000</td>\n",
       "      <td>1.000000</td>\n",
       "      <td>1.000000</td>\n",
       "    </tr>\n",
       "  </tbody>\n",
       "</table>\n",
       "<p>8 rows × 27 columns</p>\n",
       "</div>"
      ],
      "text/plain": [
       "               los       gender          age   heart_rate  respiratory_rate  \\\n",
       "count  1108.000000  1108.000000  1108.000000  1108.000000       1108.000000   \n",
       "mean      1.189588     0.456679     0.560737     0.400874          0.384928   \n",
       "std       0.614112     0.498345     0.201272     0.123302          0.115351   \n",
       "min       0.143188     0.000000     0.000000     0.000000          0.000000   \n",
       "25%       0.735428     0.000000     0.428045     0.312500          0.300000   \n",
       "50%       1.058509     0.000000     0.561921     0.393750          0.370000   \n",
       "75%       1.474313     1.000000     0.723528     0.475000          0.440000   \n",
       "max       3.958028     1.000000     1.000000     1.000000          1.000000   \n",
       "\n",
       "        hematocrit          rdw     platelet          mcv          mch  ...  \\\n",
       "count  1108.000000  1108.000000  1108.000000  1108.000000  1108.000000  ...   \n",
       "mean      0.452366     0.610529     0.214194     0.742558     0.726275  ...   \n",
       "std       0.133196     0.095449     0.138624     0.070521     0.077567  ...   \n",
       "min       0.000000     0.000000     0.000000     0.000000     0.000000  ...   \n",
       "25%       0.355140     0.541667     0.122449     0.704918     0.683047  ...   \n",
       "50%       0.441589     0.594697     0.189885     0.737705     0.729730  ...   \n",
       "75%       0.535047     0.659091     0.267968     0.780738     0.771499  ...   \n",
       "max       1.000000     1.000000     1.000000     1.000000     1.000000  ...   \n",
       "\n",
       "        race_WHITE   language_?  language_ENGLISH  marital_status_DIVORCED  \\\n",
       "count  1108.000000  1108.000000       1108.000000              1108.000000   \n",
       "mean      0.828520     0.046931          0.953069                 0.085740   \n",
       "std       0.377098     0.211587          0.211587                 0.280106   \n",
       "min       0.000000     0.000000          0.000000                 0.000000   \n",
       "25%       1.000000     0.000000          1.000000                 0.000000   \n",
       "50%       1.000000     0.000000          1.000000                 0.000000   \n",
       "75%       1.000000     0.000000          1.000000                 0.000000   \n",
       "max       1.000000     1.000000          1.000000                 1.000000   \n",
       "\n",
       "       marital_status_MARRIED  marital_status_SINGLE  marital_status_WIDOWED  \\\n",
       "count             1108.000000            1108.000000             1108.000000   \n",
       "mean                 0.460289               0.331227                0.122744   \n",
       "std                  0.498646               0.470867                0.328291   \n",
       "min                  0.000000               0.000000                0.000000   \n",
       "25%                  0.000000               0.000000                0.000000   \n",
       "50%                  0.000000               0.000000                0.000000   \n",
       "75%                  1.000000               1.000000                0.000000   \n",
       "max                  1.000000               1.000000                1.000000   \n",
       "\n",
       "       insurance_Medicaid  insurance_Medicare  insurance_Other  \n",
       "count         1108.000000         1108.000000      1108.000000  \n",
       "mean             0.078520            0.465704         0.455776  \n",
       "std              0.269109            0.499048         0.498265  \n",
       "min              0.000000            0.000000         0.000000  \n",
       "25%              0.000000            0.000000         0.000000  \n",
       "50%              0.000000            0.000000         0.000000  \n",
       "75%              0.000000            1.000000         1.000000  \n",
       "max              1.000000            1.000000         1.000000  \n",
       "\n",
       "[8 rows x 27 columns]"
      ]
     },
     "execution_count": 126,
     "metadata": {},
     "output_type": "execute_result"
    }
   ],
   "source": [
    "X.describe()"
   ]
  },
  {
   "cell_type": "code",
   "execution_count": 127,
   "metadata": {
    "scrolled": true
   },
   "outputs": [
    {
     "data": {
      "image/png": "[encoded data removed]",
      "text/plain": [
       "<Figure size 640x480 with 1 Axes>"
      ]
     },
     "metadata": {},
     "output_type": "display_data"
    },
    {
     "data": {
      "image/png": "[encoded data removed]",
      "text/plain": [
       "<Figure size 640x480 with 1 Axes>"
      ]
     },
     "metadata": {},
     "output_type": "display_data"
    },
    {
     "data": {
      "image/png": "[encoded data removed]",
      "text/plain": [
       "<Figure size 640x480 with 1 Axes>"
      ]
     },
     "metadata": {},
     "output_type": "display_data"
    },
    {
     "data": {
      "image/png": "[encoded data removed]",
      "text/plain": [
       "<Figure size 640x480 with 1 Axes>"
      ]
     },
     "metadata": {},
     "output_type": "display_data"
    },
    {
     "data": {
      "image/png": "[encoded data removed]",
      "text/plain": [
       "<Figure size 640x480 with 1 Axes>"
      ]
     },
     "metadata": {},
     "output_type": "display_data"
    },
    {
     "data": {
      "image/png": "[encoded data removed]",
      "text/plain": [
       "<Figure size 640x480 with 1 Axes>"
      ]
     },
     "metadata": {},
     "output_type": "display_data"
    },
    {
     "data": {
      "image/png": "[encoded data removed]",
      "text/plain": [
       "<Figure size 640x480 with 1 Axes>"
      ]
     },
     "metadata": {},
     "output_type": "display_data"
    },
    {
     "data": {
      "image/png": "[encoded data removed]",
      "text/plain": [
       "<Figure size 640x480 with 1 Axes>"
      ]
     },
     "metadata": {},
     "output_type": "display_data"
    },
    {
     "data": {
      "image/png": "[encoded data removed]",
      "text/plain": [
       "<Figure size 640x480 with 1 Axes>"
      ]
     },
     "metadata": {},
     "output_type": "display_data"
    },
    {
     "data": {
      "image/png": "[encoded data removed]",
      "text/plain": [
       "<Figure size 640x480 with 1 Axes>"
      ]
     },
     "metadata": {},
     "output_type": "display_data"
    }
   ],
   "source": [
    "for col in cols+['los']:\n",
    "    # plt.boxplot(X[col])\n",
    "    X[col].hist(bins=20)\n",
    "    plt.title(col)\n",
    "    plt.show()"
   ]
  },
  {
   "cell_type": "code",
   "execution_count": 47,
   "metadata": {},
   "outputs": [
    {
     "data": {
      "text/plain": [
       "<Axes: >"
      ]
     },
     "execution_count": 47,
     "metadata": {},
     "output_type": "execute_result"
    },
    {
     "data": {
      "image/png": "[encoded data removed]",
      "text/plain": [
       "<Figure size 640x480 with 1 Axes>"
      ]
     },
     "metadata": {},
     "output_type": "display_data"
    }
   ],
   "source": [
    "data['los'].hist(bins=100)"
   ]
  },
  {
   "cell_type": "code",
   "execution_count": 43,
   "metadata": {},
   "outputs": [],
   "source": [
    "data['los'] = np.log(data['los']+1)"
   ]
  },
  {
   "cell_type": "code",
   "execution_count": 44,
   "metadata": {},
   "outputs": [],
   "source": [
    "_ = (data['los'] - data['los'].mean()) / data['los'].std()\n",
    "_ = _[~((_ > 3) | (_ < -3))]"
   ]
  },
  {
   "cell_type": "code",
   "execution_count": 45,
   "metadata": {},
   "outputs": [
    {
     "name": "stdout",
     "output_type": "stream",
     "text": [
      "0      -0.564868\n",
      "1      -0.306223\n",
      "2       0.103936\n",
      "3      -0.199492\n",
      "4       0.363980\n",
      "          ...   \n",
      "1156    0.275207\n",
      "1157    0.835922\n",
      "1158   -0.426044\n",
      "1159   -0.317920\n",
      "1160   -0.226149\n",
      "Name: los, Length: 1161, dtype: float64\n",
      "找到的lambda值: 0.25802751636860205\n"
     ]
    }
   ],
   "source": [
    "import pandas as pd\n",
    "from scipy import stats\n",
    "\n",
    "# 假设你已经有了一个Pandas DataFrame `df` 和一个列名 `column_name`\n",
    "\n",
    "# 确保这一列中的所有值都大于0\n",
    "# 如果有零或负数，你需要先对数据进行平移\n",
    "# 例如：df['column_name'] = df['column_name'] + 1\n",
    "\n",
    "# 应用Box-Cox转换\n",
    "data['los'], fitted_lambda = stats.boxcox(data['los'])\n",
    "\n",
    "# 打印转换后的列和找到的lambda值\n",
    "print(data['los'])\n",
    "print(f\"找到的lambda值: {fitted_lambda}\")\n"
   ]
  },
  {
   "cell_type": "code",
   "execution_count": 46,
   "metadata": {},
   "outputs": [
    {
     "name": "stdout",
     "output_type": "stream",
     "text": [
      "Statistics=8.862, p=0.012\n",
      "样本看起来不是正态分布的\n"
     ]
    }
   ],
   "source": [
    "from scipy.stats import normaltest\n",
    "\n",
    "stat, p = normaltest(data['los'])\n",
    "print('Statistics=%.3f, p=%.3f' % (stat, p))\n",
    "\n",
    "# 解读结果\n",
    "if p > 0.05:\n",
    "    print('样本看起来是正态分布的')\n",
    "else:\n",
    "    print('样本看起来不是正态分布的')\n"
   ]
  },
  {
   "cell_type": "code",
   "execution_count": 48,
   "metadata": {},
   "outputs": [
    {
     "data": {
      "text/html": [
       "<div>\n",
       "<style scoped>\n",
       "    .dataframe tbody tr th:only-of-type {\n",
       "        vertical-align: middle;\n",
       "    }\n",
       "\n",
       "    .dataframe tbody tr th {\n",
       "        vertical-align: top;\n",
       "    }\n",
       "\n",
       "    .dataframe thead th {\n",
       "        text-align: right;\n",
       "    }\n",
       "</style>\n",
       "<table border=\"1\" class=\"dataframe\">\n",
       "  <thead>\n",
       "    <tr style=\"text-align: right;\">\n",
       "      <th></th>\n",
       "      <th>hadm_id</th>\n",
       "      <th>subject_id</th>\n",
       "      <th>intime</th>\n",
       "      <th>outtime</th>\n",
       "      <th>los</th>\n",
       "      <th>mortality</th>\n",
       "      <th>gender</th>\n",
       "      <th>age</th>\n",
       "      <th>weight</th>\n",
       "      <th>bmi</th>\n",
       "      <th>...</th>\n",
       "      <th>CRP</th>\n",
       "      <th>race</th>\n",
       "      <th>language</th>\n",
       "      <th>marital_status</th>\n",
       "      <th>insurance</th>\n",
       "      <th>die_in_icu</th>\n",
       "      <th>uc_only</th>\n",
       "      <th>cd_only</th>\n",
       "      <th>uc_cd</th>\n",
       "      <th>anchor_year</th>\n",
       "    </tr>\n",
       "  </thead>\n",
       "  <tbody>\n",
       "    <tr>\n",
       "      <th>0</th>\n",
       "      <td>20004577</td>\n",
       "      <td>14583219</td>\n",
       "      <td>2164-07-15 04:11:42</td>\n",
       "      <td>2164-07-15 21:30:20</td>\n",
       "      <td>-0.564868</td>\n",
       "      <td>0</td>\n",
       "      <td>0</td>\n",
       "      <td>34.539726</td>\n",
       "      <td>NaN</td>\n",
       "      <td>NaN</td>\n",
       "      <td>...</td>\n",
       "      <td>NaN</td>\n",
       "      <td>WHITE</td>\n",
       "      <td>ENGLISH</td>\n",
       "      <td>MARRIED</td>\n",
       "      <td>Other</td>\n",
       "      <td>0</td>\n",
       "      <td>1</td>\n",
       "      <td>0</td>\n",
       "      <td>0</td>\n",
       "      <td>2160-01-01</td>\n",
       "    </tr>\n",
       "    <tr>\n",
       "      <th>1</th>\n",
       "      <td>20007037</td>\n",
       "      <td>16147352</td>\n",
       "      <td>2129-11-14 14:43:18</td>\n",
       "      <td>2129-11-15 16:22:06</td>\n",
       "      <td>-0.306223</td>\n",
       "      <td>0</td>\n",
       "      <td>1</td>\n",
       "      <td>58.868493</td>\n",
       "      <td>153.00</td>\n",
       "      <td>NaN</td>\n",
       "      <td>...</td>\n",
       "      <td>NaN</td>\n",
       "      <td>WHITE</td>\n",
       "      <td>ENGLISH</td>\n",
       "      <td>DIVORCED</td>\n",
       "      <td>Other</td>\n",
       "      <td>0</td>\n",
       "      <td>1</td>\n",
       "      <td>0</td>\n",
       "      <td>0</td>\n",
       "      <td>2129-01-01</td>\n",
       "    </tr>\n",
       "    <tr>\n",
       "      <th>2</th>\n",
       "      <td>20030062</td>\n",
       "      <td>14887253</td>\n",
       "      <td>2127-06-05 14:10:01</td>\n",
       "      <td>2127-06-07 14:50:49</td>\n",
       "      <td>0.103936</td>\n",
       "      <td>1</td>\n",
       "      <td>0</td>\n",
       "      <td>63.427397</td>\n",
       "      <td>NaN</td>\n",
       "      <td>NaN</td>\n",
       "      <td>...</td>\n",
       "      <td>NaN</td>\n",
       "      <td>WHITE</td>\n",
       "      <td>ENGLISH</td>\n",
       "      <td>DIVORCED</td>\n",
       "      <td>Other</td>\n",
       "      <td>0</td>\n",
       "      <td>0</td>\n",
       "      <td>1</td>\n",
       "      <td>0</td>\n",
       "      <td>2121-01-01</td>\n",
       "    </tr>\n",
       "    <tr>\n",
       "      <th>3</th>\n",
       "      <td>20033189</td>\n",
       "      <td>14685940</td>\n",
       "      <td>2127-07-31 14:46:00</td>\n",
       "      <td>2127-08-01 20:58:34</td>\n",
       "      <td>-0.199492</td>\n",
       "      <td>1</td>\n",
       "      <td>0</td>\n",
       "      <td>77.578082</td>\n",
       "      <td>147.30</td>\n",
       "      <td>28.8</td>\n",
       "      <td>...</td>\n",
       "      <td>NaN</td>\n",
       "      <td>WHITE</td>\n",
       "      <td>ENGLISH</td>\n",
       "      <td>MARRIED</td>\n",
       "      <td>Other</td>\n",
       "      <td>0</td>\n",
       "      <td>1</td>\n",
       "      <td>0</td>\n",
       "      <td>0</td>\n",
       "      <td>2126-01-01</td>\n",
       "    </tr>\n",
       "    <tr>\n",
       "      <th>4</th>\n",
       "      <td>20033924</td>\n",
       "      <td>13158454</td>\n",
       "      <td>2196-04-28 11:28:47</td>\n",
       "      <td>2196-05-01 14:22:54</td>\n",
       "      <td>0.363980</td>\n",
       "      <td>1</td>\n",
       "      <td>0</td>\n",
       "      <td>75.328767</td>\n",
       "      <td>184.08</td>\n",
       "      <td>33.7</td>\n",
       "      <td>...</td>\n",
       "      <td>NaN</td>\n",
       "      <td>BLACK/AFRICAN AMERICAN</td>\n",
       "      <td>ENGLISH</td>\n",
       "      <td>SINGLE</td>\n",
       "      <td>Other</td>\n",
       "      <td>0</td>\n",
       "      <td>0</td>\n",
       "      <td>1</td>\n",
       "      <td>0</td>\n",
       "      <td>2185-01-01</td>\n",
       "    </tr>\n",
       "    <tr>\n",
       "      <th>...</th>\n",
       "      <td>...</td>\n",
       "      <td>...</td>\n",
       "      <td>...</td>\n",
       "      <td>...</td>\n",
       "      <td>...</td>\n",
       "      <td>...</td>\n",
       "      <td>...</td>\n",
       "      <td>...</td>\n",
       "      <td>...</td>\n",
       "      <td>...</td>\n",
       "      <td>...</td>\n",
       "      <td>...</td>\n",
       "      <td>...</td>\n",
       "      <td>...</td>\n",
       "      <td>...</td>\n",
       "      <td>...</td>\n",
       "      <td>...</td>\n",
       "      <td>...</td>\n",
       "      <td>...</td>\n",
       "      <td>...</td>\n",
       "      <td>...</td>\n",
       "    </tr>\n",
       "    <tr>\n",
       "      <th>1156</th>\n",
       "      <td>29968343</td>\n",
       "      <td>13050725</td>\n",
       "      <td>2167-09-23 10:56:17</td>\n",
       "      <td>2167-09-26 03:24:17</td>\n",
       "      <td>0.275207</td>\n",
       "      <td>1</td>\n",
       "      <td>0</td>\n",
       "      <td>67.728767</td>\n",
       "      <td>162.00</td>\n",
       "      <td>27.8</td>\n",
       "      <td>...</td>\n",
       "      <td>NaN</td>\n",
       "      <td>WHITE</td>\n",
       "      <td>ENGLISH</td>\n",
       "      <td>SINGLE</td>\n",
       "      <td>Medicare</td>\n",
       "      <td>1</td>\n",
       "      <td>0</td>\n",
       "      <td>1</td>\n",
       "      <td>0</td>\n",
       "      <td>2161-01-01</td>\n",
       "    </tr>\n",
       "    <tr>\n",
       "      <th>1157</th>\n",
       "      <td>29978132</td>\n",
       "      <td>12626863</td>\n",
       "      <td>2172-11-25 18:52:00</td>\n",
       "      <td>2172-12-03 05:10:40</td>\n",
       "      <td>0.835922</td>\n",
       "      <td>1</td>\n",
       "      <td>1</td>\n",
       "      <td>75.901370</td>\n",
       "      <td>NaN</td>\n",
       "      <td>NaN</td>\n",
       "      <td>...</td>\n",
       "      <td>NaN</td>\n",
       "      <td>NaN</td>\n",
       "      <td>NaN</td>\n",
       "      <td>NaN</td>\n",
       "      <td>NaN</td>\n",
       "      <td>1</td>\n",
       "      <td>1</td>\n",
       "      <td>0</td>\n",
       "      <td>0</td>\n",
       "      <td>2172-01-01</td>\n",
       "    </tr>\n",
       "    <tr>\n",
       "      <th>1158</th>\n",
       "      <td>29984287</td>\n",
       "      <td>12251785</td>\n",
       "      <td>2179-01-10 18:40:00</td>\n",
       "      <td>2179-01-11 16:02:09</td>\n",
       "      <td>-0.426044</td>\n",
       "      <td>0</td>\n",
       "      <td>0</td>\n",
       "      <td>59.027397</td>\n",
       "      <td>112.70</td>\n",
       "      <td>23.2</td>\n",
       "      <td>...</td>\n",
       "      <td>NaN</td>\n",
       "      <td>WHITE</td>\n",
       "      <td>ENGLISH</td>\n",
       "      <td>SINGLE</td>\n",
       "      <td>Medicare</td>\n",
       "      <td>1</td>\n",
       "      <td>0</td>\n",
       "      <td>1</td>\n",
       "      <td>0</td>\n",
       "      <td>2175-01-01</td>\n",
       "    </tr>\n",
       "    <tr>\n",
       "      <th>1159</th>\n",
       "      <td>29988959</td>\n",
       "      <td>12845930</td>\n",
       "      <td>2118-11-08 12:07:00</td>\n",
       "      <td>2118-11-09 13:18:33</td>\n",
       "      <td>-0.317920</td>\n",
       "      <td>1</td>\n",
       "      <td>1</td>\n",
       "      <td>73.852055</td>\n",
       "      <td>NaN</td>\n",
       "      <td>NaN</td>\n",
       "      <td>...</td>\n",
       "      <td>NaN</td>\n",
       "      <td>WHITE</td>\n",
       "      <td>ENGLISH</td>\n",
       "      <td>MARRIED</td>\n",
       "      <td>Medicare</td>\n",
       "      <td>1</td>\n",
       "      <td>1</td>\n",
       "      <td>0</td>\n",
       "      <td>0</td>\n",
       "      <td>2118-01-01</td>\n",
       "    </tr>\n",
       "    <tr>\n",
       "      <th>1160</th>\n",
       "      <td>29989657</td>\n",
       "      <td>17397284</td>\n",
       "      <td>2180-07-12 18:57:50</td>\n",
       "      <td>2180-07-13 23:57:32</td>\n",
       "      <td>-0.226149</td>\n",
       "      <td>0</td>\n",
       "      <td>0</td>\n",
       "      <td>50.528767</td>\n",
       "      <td>NaN</td>\n",
       "      <td>NaN</td>\n",
       "      <td>...</td>\n",
       "      <td>NaN</td>\n",
       "      <td>WHITE</td>\n",
       "      <td>ENGLISH</td>\n",
       "      <td>SINGLE</td>\n",
       "      <td>Medicare</td>\n",
       "      <td>1</td>\n",
       "      <td>0</td>\n",
       "      <td>1</td>\n",
       "      <td>0</td>\n",
       "      <td>2180-01-01</td>\n",
       "    </tr>\n",
       "  </tbody>\n",
       "</table>\n",
       "<p>1161 rows × 33 columns</p>\n",
       "</div>"
      ],
      "text/plain": [
       "       hadm_id  subject_id              intime              outtime       los  \\\n",
       "0     20004577    14583219 2164-07-15 04:11:42  2164-07-15 21:30:20 -0.564868   \n",
       "1     20007037    16147352 2129-11-14 14:43:18  2129-11-15 16:22:06 -0.306223   \n",
       "2     20030062    14887253 2127-06-05 14:10:01  2127-06-07 14:50:49  0.103936   \n",
       "3     20033189    14685940 2127-07-31 14:46:00  2127-08-01 20:58:34 -0.199492   \n",
       "4     20033924    13158454 2196-04-28 11:28:47  2196-05-01 14:22:54  0.363980   \n",
       "...        ...         ...                 ...                  ...       ...   \n",
       "1156  29968343    13050725 2167-09-23 10:56:17  2167-09-26 03:24:17  0.275207   \n",
       "1157  29978132    12626863 2172-11-25 18:52:00  2172-12-03 05:10:40  0.835922   \n",
       "1158  29984287    12251785 2179-01-10 18:40:00  2179-01-11 16:02:09 -0.426044   \n",
       "1159  29988959    12845930 2118-11-08 12:07:00  2118-11-09 13:18:33 -0.317920   \n",
       "1160  29989657    17397284 2180-07-12 18:57:50  2180-07-13 23:57:32 -0.226149   \n",
       "\n",
       "      mortality  gender        age  weight   bmi  ...  CRP  \\\n",
       "0             0       0  34.539726     NaN   NaN  ...  NaN   \n",
       "1             0       1  58.868493  153.00   NaN  ...  NaN   \n",
       "2             1       0  63.427397     NaN   NaN  ...  NaN   \n",
       "3             1       0  77.578082  147.30  28.8  ...  NaN   \n",
       "4             1       0  75.328767  184.08  33.7  ...  NaN   \n",
       "...         ...     ...        ...     ...   ...  ...  ...   \n",
       "1156          1       0  67.728767  162.00  27.8  ...  NaN   \n",
       "1157          1       1  75.901370     NaN   NaN  ...  NaN   \n",
       "1158          0       0  59.027397  112.70  23.2  ...  NaN   \n",
       "1159          1       1  73.852055     NaN   NaN  ...  NaN   \n",
       "1160          0       0  50.528767     NaN   NaN  ...  NaN   \n",
       "\n",
       "                        race  language  marital_status  insurance  die_in_icu  \\\n",
       "0                      WHITE   ENGLISH         MARRIED      Other           0   \n",
       "1                      WHITE   ENGLISH        DIVORCED      Other           0   \n",
       "2                      WHITE   ENGLISH        DIVORCED      Other           0   \n",
       "3                      WHITE   ENGLISH         MARRIED      Other           0   \n",
       "4     BLACK/AFRICAN AMERICAN   ENGLISH          SINGLE      Other           0   \n",
       "...                      ...       ...             ...        ...         ...   \n",
       "1156                   WHITE   ENGLISH          SINGLE   Medicare           1   \n",
       "1157                     NaN       NaN             NaN        NaN           1   \n",
       "1158                   WHITE   ENGLISH          SINGLE   Medicare           1   \n",
       "1159                   WHITE   ENGLISH         MARRIED   Medicare           1   \n",
       "1160                   WHITE   ENGLISH          SINGLE   Medicare           1   \n",
       "\n",
       "      uc_only  cd_only  uc_cd  anchor_year  \n",
       "0           1        0      0   2160-01-01  \n",
       "1           1        0      0   2129-01-01  \n",
       "2           0        1      0   2121-01-01  \n",
       "3           1        0      0   2126-01-01  \n",
       "4           0        1      0   2185-01-01  \n",
       "...       ...      ...    ...          ...  \n",
       "1156        0        1      0   2161-01-01  \n",
       "1157        1        0      0   2172-01-01  \n",
       "1158        0        1      0   2175-01-01  \n",
       "1159        1        0      0   2118-01-01  \n",
       "1160        0        1      0   2180-01-01  \n",
       "\n",
       "[1161 rows x 33 columns]"
      ]
     },
     "execution_count": 48,
     "metadata": {},
     "output_type": "execute_result"
    }
   ],
   "source": [
    "data"
   ]
  },
  {
   "cell_type": "markdown",
   "metadata": {},
   "source": [
    "1. 总共的 los mean, std | UC nums, los mean std | CD nums, los mean std , gender"
   ]
  },
  {
   "cell_type": "code",
   "execution_count": 54,
   "metadata": {},
   "outputs": [
    {
     "data": {
      "text/plain": [
       "(683,)"
      ]
     },
     "execution_count": 54,
     "metadata": {},
     "output_type": "execute_result"
    }
   ],
   "source": [
    "data['subject_id'].unique().shape"
   ]
  },
  {
   "cell_type": "code",
   "execution_count": 82,
   "metadata": {},
   "outputs": [
    {
     "data": {
      "text/html": [
       "<div>\n",
       "<style scoped>\n",
       "    .dataframe tbody tr th:only-of-type {\n",
       "        vertical-align: middle;\n",
       "    }\n",
       "\n",
       "    .dataframe tbody tr th {\n",
       "        vertical-align: top;\n",
       "    }\n",
       "\n",
       "    .dataframe thead tr th {\n",
       "        text-align: left;\n",
       "    }\n",
       "\n",
       "    .dataframe thead tr:last-of-type th {\n",
       "        text-align: right;\n",
       "    }\n",
       "</style>\n",
       "<table border=\"1\" class=\"dataframe\">\n",
       "  <thead>\n",
       "    <tr>\n",
       "      <th></th>\n",
       "      <th>mean</th>\n",
       "      <th>std</th>\n",
       "    </tr>\n",
       "    <tr>\n",
       "      <th></th>\n",
       "      <th>los</th>\n",
       "      <th>los</th>\n",
       "    </tr>\n",
       "    <tr>\n",
       "      <th>uc_only</th>\n",
       "      <th></th>\n",
       "      <th></th>\n",
       "    </tr>\n",
       "  </thead>\n",
       "  <tbody>\n",
       "    <tr>\n",
       "      <th>0</th>\n",
       "      <td>2.981618</td>\n",
       "      <td>3.970484</td>\n",
       "    </tr>\n",
       "    <tr>\n",
       "      <th>1</th>\n",
       "      <td>3.421070</td>\n",
       "      <td>4.850756</td>\n",
       "    </tr>\n",
       "  </tbody>\n",
       "</table>\n",
       "</div>"
      ],
      "text/plain": [
       "             mean       std\n",
       "              los       los\n",
       "uc_only                    \n",
       "0        2.981618  3.970484\n",
       "1        3.421070  4.850756"
      ]
     },
     "execution_count": 82,
     "metadata": {},
     "output_type": "execute_result"
    }
   ],
   "source": [
    "pd.pivot_table(data, values='los', index='uc_only', aggfunc=['mean', 'std'])"
   ]
  },
  {
   "cell_type": "code",
   "execution_count": 66,
   "metadata": {},
   "outputs": [
    {
     "data": {
      "text/plain": [
       "(34,)"
      ]
     },
     "execution_count": 66,
     "metadata": {},
     "output_type": "execute_result"
    }
   ],
   "source": [
    "data[data['uc_cd'] == 1]['subject_id'].unique().shape"
   ]
  },
  {
   "cell_type": "code",
   "execution_count": 68,
   "metadata": {},
   "outputs": [
    {
     "data": {
      "text/plain": [
       "(los    3.124294\n",
       " dtype: float64,\n",
       " los    3.472483\n",
       " dtype: float64)"
      ]
     },
     "execution_count": 68,
     "metadata": {},
     "output_type": "execute_result"
    }
   ],
   "source": [
    "data.groupby('subject_id').agg({\n",
    "    'los': 'mean'\n",
    "}).mean(), data.groupby('subject_id').agg({\n",
    "    'los': 'mean'\n",
    "}).std()"
   ]
  },
  {
   "cell_type": "code",
   "execution_count": 69,
   "metadata": {},
   "outputs": [
    {
     "data": {
      "text/plain": [
       "(3.179958045994832, 4.393176753010088)"
      ]
     },
     "execution_count": 69,
     "metadata": {},
     "output_type": "execute_result"
    }
   ],
   "source": [
    "data['los'].mean(), data['los'].std(), "
   ]
  },
  {
   "cell_type": "code",
   "execution_count": 83,
   "metadata": {},
   "outputs": [
    {
     "data": {
      "text/plain": [
       "gender\n",
       "0         356\n",
       "1         327\n",
       "Name: count, dtype: int64"
      ]
     },
     "execution_count": 83,
     "metadata": {},
     "output_type": "execute_result"
    }
   ],
   "source": [
    "data.groupby('subject_id').agg({\n",
    "    'gender': 'first'\n",
    "}).value_counts()"
   ]
  },
  {
   "cell_type": "code",
   "execution_count": 77,
   "metadata": {},
   "outputs": [
    {
     "data": {
      "text/plain": [
       "160"
      ]
     },
     "execution_count": 77,
     "metadata": {},
     "output_type": "execute_result"
    }
   ],
   "source": [
    "data['die_in_icu'].sum()"
   ]
  },
  {
   "cell_type": "code",
   "execution_count": 78,
   "metadata": {},
   "outputs": [],
   "source": [
    "x1 = data[data['uc_only'] == 1]['los']\n",
    "x2 = data[data['cd_only'] == 1]['los']"
   ]
  },
  {
   "cell_type": "code",
   "execution_count": 79,
   "metadata": {},
   "outputs": [],
   "source": [
    "x1 = np.array(x1)\n",
    "x2 = np.array(x2)"
   ]
  },
  {
   "cell_type": "code",
   "execution_count": 80,
   "metadata": {},
   "outputs": [
    {
     "name": "stdout",
     "output_type": "stream",
     "text": [
      "U统计量: 156294.0\n",
      "P值: 0.20052941885702036\n",
      "两组数据的中位数不存在显著差异。\n"
     ]
    }
   ],
   "source": [
    "import numpy as np\n",
    "from scipy import stats\n",
    "\n",
    "# 假设x1和x2是两个numpy数组，代表两组独立的观察值\n",
    "#x1 = np.array([...])\n",
    "#x2 = np.array([...])\n",
    "\n",
    "# 曼-惠特尼U检验\n",
    "u_statistic, p_value = stats.mannwhitneyu(x1, x2, alternative='two-sided')\n",
    "\n",
    "print(f\"U统计量: {u_statistic}\")\n",
    "print(f\"P值: {p_value}\")\n",
    "\n",
    "# 根据P值判断显著性\n",
    "if p_value < 0.05:\n",
    "    print(\"两组数据的中位数存在显著差异。\")\n",
    "else:\n",
    "    print(\"两组数据的中位数不存在显著差异。\")\n"
   ]
  },
  {
   "cell_type": "code",
   "execution_count": 84,
   "metadata": {},
   "outputs": [
    {
     "name": "stdout",
     "output_type": "stream",
     "text": [
      "t统计量: 1.5910403708286358\n",
      "P值: 0.11191213446977967\n",
      "两组数据的均值不存在显著差异。\n"
     ]
    }
   ],
   "source": [
    "import numpy as np\n",
    "from scipy import stats\n",
    "\n",
    "# 假设x1和x2是两个numpy数组，代表两组独立的观察值\n",
    "#x1 = np.array([...])\n",
    "#x2 = np.array([...])\n",
    "\n",
    "# 进行独立样本t检验\n",
    "t_statistic, p_value = stats.ttest_ind(x1, x2, equal_var=False)\n",
    "\n",
    "print(f\"t统计量: {t_statistic}\")\n",
    "print(f\"P值: {p_value}\")\n",
    "\n",
    "# 根据P值判断显著性\n",
    "if p_value < 0.05:\n",
    "    print(\"两组数据的均值存在显著差异。\")\n",
    "else:\n",
    "    print(\"两组数据的均值不存在显著差异。\")\n"
   ]
  },
  {
   "cell_type": "code",
   "execution_count": null,
   "metadata": {},
   "outputs": [],
   "source": []
  }
 ],
 "metadata": {
  "kernelspec": {
   "display_name": "Python 3 (ipykernel)",
   "language": "python",
   "name": "python3"
  },
  "language_info": {
   "codemirror_mode": {
    "name": "ipython",
    "version": 3
   },
   "file_extension": ".py",
   "mimetype": "text/x-python",
   "name": "python",
   "nbconvert_exporter": "python",
   "pygments_lexer": "ipython3",
   "version": "3.12.1"
  },
  "widgets": {
   "application/vnd.jupyter.widget-state+json": {
    "state": {},
    "version_major": 2,
    "version_minor": 0
   }
  }
 },
 "nbformat": 4,
 "nbformat_minor": 4
}
