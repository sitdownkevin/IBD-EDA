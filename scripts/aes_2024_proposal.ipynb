{
 "cells": [
  {
   "cell_type": "code",
   "execution_count": 87,
   "metadata": {},
   "outputs": [],
   "source": [
    "import seaborn as sns\n",
    "import matplotlib.pyplot as plt\n",
    "import pandas as pd"
   ]
  },
  {
   "cell_type": "code",
   "execution_count": 88,
   "metadata": {
    "scrolled": true
   },
   "outputs": [
    {
     "data": {
      "text/plain": [
       "(1161, 32)"
      ]
     },
     "execution_count": 88,
     "metadata": {},
     "output_type": "execute_result"
    }
   ],
   "source": [
    "df = pd.read_csv('../data/icu_ibd_all_table.csv')\n",
    "df['intime'] = pd.to_datetime(df['intime'])\n",
    "df.shape"
   ]
  },
  {
   "cell_type": "code",
   "execution_count": 89,
   "metadata": {},
   "outputs": [
    {
     "data": {
      "text/plain": [
       "(2417, 6)"
      ]
     },
     "execution_count": 89,
     "metadata": {},
     "output_type": "execute_result"
    }
   ],
   "source": [
    "df2 = pd.read_csv('../data/patients_ibd.csv')\n",
    "\n",
    "\n",
    "func = lambda x: pd.to_datetime('{}-01-01'.format(x))\n",
    "df2['anchor_year'] = df2['anchor_year'].apply(func)\n",
    "\n",
    "df2.shape"
   ]
  },
  {
   "cell_type": "code",
   "execution_count": 118,
   "metadata": {},
   "outputs": [],
   "source": [
    "data = df.merge(df2[['subject_id', 'anchor_year']], on='subject_id', how='left')\n",
    "data['age'] = ((data['intime'] - data['anchor_year']).dt.days) / 365 + data['age']"
   ]
  },
  {
   "cell_type": "code",
   "execution_count": 119,
   "metadata": {
    "scrolled": true
   },
   "outputs": [
    {
     "name": "stdout",
     "output_type": "stream",
     "text": [
      "hadm_id 0 - 1161\n",
      "subject_id 0 - 683\n",
      "intime 0 - 1161\n",
      "outtime 0 - 1161\n",
      "los 0 - 1159\n",
      "mortality 0 - 2\n",
      "gender 0 - 2\n",
      "age 0 - 1128\n",
      "weight 1066 - 28\n",
      "bmi 1070 - 25\n",
      "heart_rate 1 - 108\n",
      "systolic_pressure 1099 - 17\n",
      "diastolic_pressure 1099 - 15\n",
      "respiratory_rate 1 - 37\n",
      "temperature 962 - 45\n",
      "white_blood_cell 1155 - 5\n",
      "hematocrit 18 - 252\n",
      "red_blood_cell 705 - 68\n",
      "rdw 17 - 122\n",
      "platelet 18 - 454\n",
      "mcv 17 - 57\n",
      "mch 17 - 157\n",
      "hemoglobin 16 - 102\n",
      "CRP 1161 - 1\n",
      "race 18 - 25\n",
      "language 18 - 3\n",
      "marital_status 32 - 5\n",
      "insurance 18 - 4\n",
      "die_in_icu 0 - 2\n",
      "uc_only 0 - 2\n",
      "cd_only 0 - 2\n",
      "uc_cd 0 - 2\n",
      "anchor_year 0 - 93\n"
     ]
    }
   ],
   "source": [
    "for col in data.columns:\n",
    "    print(col, end=' ')\n",
    "    print(data[col].isna().sum(), end=' - ')\n",
    "    print(len(data[col].unique()))"
   ]
  },
  {
   "cell_type": "code",
   "execution_count": 120,
   "metadata": {
    "scrolled": true
   },
   "outputs": [],
   "source": [
    "cols_except = [\n",
    "    'hadm_id',\n",
    "    'subject_id',\n",
    "    'intime',\n",
    "    'outtime',\n",
    "    # 'los',\n",
    "    'mortality',\n",
    "    'weight',\n",
    "    'bmi',\n",
    "    'systolic_pressure',\n",
    "    'diastolic_pressure',\n",
    "    'temperature',\n",
    "    'white_blood_cell',\n",
    "    'red_blood_cell',\n",
    "    'CRP',\n",
    "    'die_in_icu',\n",
    "    'anchor_year',\n",
    "    'uc_cd'\n",
    "]\n",
    "\n",
    "cols_include = [col for col in data.columns if col not in cols_except]\n",
    "\n",
    "data = data[cols_include]"
   ]
  },
  {
   "cell_type": "code",
   "execution_count": 121,
   "metadata": {},
   "outputs": [
    {
     "name": "stdout",
     "output_type": "stream",
     "text": [
      "language\n",
      "ENGLISH    1056\n",
      "?            52\n",
      "Name: count, dtype: int64\n",
      "race\n",
      "WHITE              918\n",
      "BLACK              101\n",
      "OTHER               61\n",
      "HISPANIC/LATINO     21\n",
      "ASIAN                7\n",
      "Name: count, dtype: int64\n",
      "marital_status\n",
      "MARRIED     510\n",
      "SINGLE      367\n",
      "WIDOWED     136\n",
      "DIVORCED     95\n",
      "Name: count, dtype: int64\n",
      "insurance\n",
      "Medicare    516\n",
      "Other       505\n",
      "Medicaid     87\n",
      "Name: count, dtype: int64\n"
     ]
    }
   ],
   "source": [
    "X = data[ ~data[cols_include].isna().any(axis=1) ]\n",
    "\n",
    "\n",
    "def parse_race(race):\n",
    "    if 'WHITE' in race:\n",
    "        return 'WHITE'\n",
    "    elif 'BLACK' in race:\n",
    "        return 'BLACK'\n",
    "    elif 'HISPANIC' in race or 'LATINO' in race:\n",
    "        return 'HISPANIC/LATINO'\n",
    "    elif 'ASIAN' in race:\n",
    "        return 'ASIAN'\n",
    "    else:\n",
    "        return 'OTHER'\n",
    "\n",
    "\n",
    "X.loc[:, 'race'] = X['race'].apply(parse_race)\n",
    "\n",
    "for col in ['language', 'race', 'marital_status', 'insurance']:\n",
    "    print(X[col].value_counts())\n",
    "\n",
    "X = pd.get_dummies(X, columns=['race', 'language', 'marital_status', 'insurance'], prefix=['race', 'language', 'marital_status', 'insurance'])"
   ]
  },
  {
   "cell_type": "code",
   "execution_count": 122,
   "metadata": {},
   "outputs": [],
   "source": [
    "cols_min_max = ['age', 'heart_rate', 'respiratory_rate', 'hematocrit', 'rdw',\n",
    "       'platelet', 'mcv', 'mch', 'hemoglobin']\n",
    "\n",
    "tmp = X.loc[:, cols_min_max]\n",
    "\n",
    "tmp = ( tmp - tmp.min() ) / ( tmp.max() - tmp.min() )\n",
    "\n",
    "X.loc[:, col_min_max] = tmp"
   ]
  },
  {
   "cell_type": "code",
   "execution_count": 123,
   "metadata": {
    "scrolled": true
   },
   "outputs": [
    {
     "name": "stderr",
     "output_type": "stream",
     "text": [
      "C:\\Users\\sitdo\\AppData\\Local\\Temp\\ipykernel_27556\\164024701.py:1: FutureWarning: Setting an item of incompatible dtype is deprecated and will raise in a future error of pandas. Value '[0 0 0 ... 0 0 0]' has dtype incompatible with bool, please explicitly cast to a compatible dtype first.\n",
      "  X.loc[:, [col for col in X.columns if col not in cols_min_max+['los']]] = \\\n",
      "C:\\Users\\sitdo\\AppData\\Local\\Temp\\ipykernel_27556\\164024701.py:1: FutureWarning: Setting an item of incompatible dtype is deprecated and will raise in a future error of pandas. Value '[0 0 0 ... 0 0 0]' has dtype incompatible with bool, please explicitly cast to a compatible dtype first.\n",
      "  X.loc[:, [col for col in X.columns if col not in cols_min_max+['los']]] = \\\n",
      "C:\\Users\\sitdo\\AppData\\Local\\Temp\\ipykernel_27556\\164024701.py:1: FutureWarning: Setting an item of incompatible dtype is deprecated and will raise in a future error of pandas. Value '[0 0 0 ... 0 0 0]' has dtype incompatible with bool, please explicitly cast to a compatible dtype first.\n",
      "  X.loc[:, [col for col in X.columns if col not in cols_min_max+['los']]] = \\\n",
      "C:\\Users\\sitdo\\AppData\\Local\\Temp\\ipykernel_27556\\164024701.py:1: FutureWarning: Setting an item of incompatible dtype is deprecated and will raise in a future error of pandas. Value '[0 0 0 ... 0 0 0]' has dtype incompatible with bool, please explicitly cast to a compatible dtype first.\n",
      "  X.loc[:, [col for col in X.columns if col not in cols_min_max+['los']]] = \\\n",
      "C:\\Users\\sitdo\\AppData\\Local\\Temp\\ipykernel_27556\\164024701.py:1: FutureWarning: Setting an item of incompatible dtype is deprecated and will raise in a future error of pandas. Value '[1 1 1 ... 1 1 1]' has dtype incompatible with bool, please explicitly cast to a compatible dtype first.\n",
      "  X.loc[:, [col for col in X.columns if col not in cols_min_max+['los']]] = \\\n",
      "C:\\Users\\sitdo\\AppData\\Local\\Temp\\ipykernel_27556\\164024701.py:1: FutureWarning: Setting an item of incompatible dtype is deprecated and will raise in a future error of pandas. Value '[0 0 0 ... 0 0 0]' has dtype incompatible with bool, please explicitly cast to a compatible dtype first.\n",
      "  X.loc[:, [col for col in X.columns if col not in cols_min_max+['los']]] = \\\n",
      "C:\\Users\\sitdo\\AppData\\Local\\Temp\\ipykernel_27556\\164024701.py:1: FutureWarning: Setting an item of incompatible dtype is deprecated and will raise in a future error of pandas. Value '[1 1 1 ... 1 1 1]' has dtype incompatible with bool, please explicitly cast to a compatible dtype first.\n",
      "  X.loc[:, [col for col in X.columns if col not in cols_min_max+['los']]] = \\\n",
      "C:\\Users\\sitdo\\AppData\\Local\\Temp\\ipykernel_27556\\164024701.py:1: FutureWarning: Setting an item of incompatible dtype is deprecated and will raise in a future error of pandas. Value '[1 1 0 ... 0 0 0]' has dtype incompatible with bool, please explicitly cast to a compatible dtype first.\n",
      "  X.loc[:, [col for col in X.columns if col not in cols_min_max+['los']]] = \\\n",
      "C:\\Users\\sitdo\\AppData\\Local\\Temp\\ipykernel_27556\\164024701.py:1: FutureWarning: Setting an item of incompatible dtype is deprecated and will raise in a future error of pandas. Value '[0 0 1 ... 0 1 0]' has dtype incompatible with bool, please explicitly cast to a compatible dtype first.\n",
      "  X.loc[:, [col for col in X.columns if col not in cols_min_max+['los']]] = \\\n",
      "C:\\Users\\sitdo\\AppData\\Local\\Temp\\ipykernel_27556\\164024701.py:1: FutureWarning: Setting an item of incompatible dtype is deprecated and will raise in a future error of pandas. Value '[0 0 0 ... 1 0 1]' has dtype incompatible with bool, please explicitly cast to a compatible dtype first.\n",
      "  X.loc[:, [col for col in X.columns if col not in cols_min_max+['los']]] = \\\n",
      "C:\\Users\\sitdo\\AppData\\Local\\Temp\\ipykernel_27556\\164024701.py:1: FutureWarning: Setting an item of incompatible dtype is deprecated and will raise in a future error of pandas. Value '[0 0 0 ... 0 0 0]' has dtype incompatible with bool, please explicitly cast to a compatible dtype first.\n",
      "  X.loc[:, [col for col in X.columns if col not in cols_min_max+['los']]] = \\\n",
      "C:\\Users\\sitdo\\AppData\\Local\\Temp\\ipykernel_27556\\164024701.py:1: FutureWarning: Setting an item of incompatible dtype is deprecated and will raise in a future error of pandas. Value '[0 0 0 ... 0 0 0]' has dtype incompatible with bool, please explicitly cast to a compatible dtype first.\n",
      "  X.loc[:, [col for col in X.columns if col not in cols_min_max+['los']]] = \\\n",
      "C:\\Users\\sitdo\\AppData\\Local\\Temp\\ipykernel_27556\\164024701.py:1: FutureWarning: Setting an item of incompatible dtype is deprecated and will raise in a future error of pandas. Value '[0 0 0 ... 1 1 1]' has dtype incompatible with bool, please explicitly cast to a compatible dtype first.\n",
      "  X.loc[:, [col for col in X.columns if col not in cols_min_max+['los']]] = \\\n",
      "C:\\Users\\sitdo\\AppData\\Local\\Temp\\ipykernel_27556\\164024701.py:1: FutureWarning: Setting an item of incompatible dtype is deprecated and will raise in a future error of pandas. Value '[1 1 1 ... 0 0 0]' has dtype incompatible with bool, please explicitly cast to a compatible dtype first.\n",
      "  X.loc[:, [col for col in X.columns if col not in cols_min_max+['los']]] = \\\n"
     ]
    }
   ],
   "source": [
    "X.loc[:, [col for col in X.columns if col not in cols_min_max+['los']]] = \\\n",
    "    X.loc[:, [col for col in X.columns if col not in cols_min_max+['los']]].astype(int)"
   ]
  },
  {
   "cell_type": "code",
   "execution_count": 127,
   "metadata": {},
   "outputs": [],
   "source": [
    "X.to_csv('../new r scripts/data.csv')"
   ]
  },
  {
   "cell_type": "code",
   "execution_count": null,
   "metadata": {},
   "outputs": [],
   "source": []
  }
 ],
 "metadata": {
  "kernelspec": {
   "display_name": "Python 3 (ipykernel)",
   "language": "python",
   "name": "python3"
  },
  "language_info": {
   "codemirror_mode": {
    "name": "ipython",
    "version": 3
   },
   "file_extension": ".py",
   "mimetype": "text/x-python",
   "name": "python",
   "nbconvert_exporter": "python",
   "pygments_lexer": "ipython3",
   "version": "3.12.1"
  },
  "widgets": {
   "application/vnd.jupyter.widget-state+json": {
    "state": {},
    "version_major": 2,
    "version_minor": 0
   }
  }
 },
 "nbformat": 4,
 "nbformat_minor": 4
}
