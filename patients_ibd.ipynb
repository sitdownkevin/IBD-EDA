{
 "cells": [
  {
   "cell_type": "code",
   "execution_count": null,
   "metadata": {},
   "outputs": [],
   "source": [
    "import numpy as np\n",
    "import pandas as pd\n",
    "import matplotlib.pyplot as plt\n",
    "\n",
    "import os"
   ]
  },
  {
   "cell_type": "code",
   "execution_count": null,
   "metadata": {},
   "outputs": [],
   "source": [
    "## info of patients with ibd\n",
    "file_path = os.path.join('data', 'patients_ibd.csv')\n",
    "\n",
    "patients_ibd = pd.read_csv(file_path)\n",
    "patients_ibd.head()"
   ]
  },
  {
   "cell_type": "code",
   "execution_count": null,
   "metadata": {},
   "outputs": [],
   "source": [
    "# Mortality: live or death\n",
    "live_patients = patients_ibd[~pd.notna(patients_ibd.dod)]\n",
    "dead_patients = patients_ibd[pd.notna(patients_ibd.dod)]\n",
    "\n",
    "print('Number of live patients:', live_patients.shape[0])\n",
    "print('Number of dead patients:', dead_patients.shape[0])\n",
    "mortality_rate = dead_patients.shape[0] / (live_patients.shape[0] + dead_patients.shape[0])\n",
    "print('Mortality rate:', round(mortality_rate, 2))"
   ]
  },
  {
   "cell_type": "code",
   "execution_count": null,
   "metadata": {},
   "outputs": [],
   "source": [
    "def describe_each_attr(df: pd.DataFrame, not_needed=['subject_id', 'anchor_age', 'anchor_year', 'dod']) -> None:\n",
    "    for col_name in df.columns:\n",
    "        if col_name in not_needed: continue\n",
    "        print(df[col_name].value_counts())\n",
    "        print()\n",
    "\n",
    "describe_each_attr(patients_ibd)"
   ]
  },
  {
   "cell_type": "code",
   "execution_count": null,
   "metadata": {},
   "outputs": [],
   "source": [
    "# How long patients who would die could live? \n",
    "days_since_anchor = pd.to_datetime(dead_patients.dod, format='%Y-%m-%d') - pd.to_datetime(dead_patients.anchor_year, format='%Y')\n",
    "dead_patients.loc[:, 'days_since_anchor'] = days_since_anchor"
   ]
  },
  {
   "cell_type": "code",
   "execution_count": null,
   "metadata": {},
   "outputs": [],
   "source": [
    "# Group by ... from days_since_anchor\n",
    "def groupby_a_from_b(df, a, b):\n",
    "    return df.loc[:, [a, b]].groupby(a).mean()\n",
    "\n",
    "print(groupby_a_from_b(dead_patients, 'gender', 'days_since_anchor'))\n",
    "print(groupby_a_from_b(dead_patients, 'anchor_year_group', 'days_since_anchor'))\n",
    "print(groupby_a_from_b(dead_patients, 'anchor_age', 'days_since_anchor'))"
   ]
  },
  {
   "cell_type": "code",
   "execution_count": null,
   "metadata": {},
   "outputs": [],
   "source": [
    "groupby_age_from_days_since_anchor = groupby_a_from_b(dead_patients, 'anchor_age', 'days_since_anchor')\n",
    "x = groupby_age_from_days_since_anchor.index\n",
    "y = groupby_age_from_days_since_anchor.days_since_anchor.dt.days\n",
    "\n",
    "plt.figure(figsize=(10, 5), dpi=300)\n",
    "plt.bar(x, y, width=1)\n",
    "plt.ylabel('mean days since anchor', fontsize=12)\n",
    "plt.xlabel('anchor age', fontsize=12)\n",
    "\n",
    "plt.rcParams['font.family'] = 'Times New Roman'\n",
    "plt.rcParams['font.serif'] = [r'C:\\Windows\\Fonts\\Times New Roman.ttf']\n",
    "plt.show()"
   ]
  },
  {
   "cell_type": "code",
   "execution_count": null,
   "metadata": {},
   "outputs": [],
   "source": []
  }
 ],
 "metadata": {
  "kernelspec": {
   "display_name": ".venv",
   "language": "python",
   "name": "python3"
  },
  "language_info": {
   "codemirror_mode": {
    "name": "ipython",
    "version": 3
   },
   "file_extension": ".py",
   "mimetype": "text/x-python",
   "name": "python",
   "nbconvert_exporter": "python",
   "pygments_lexer": "ipython3",
   "version": "3.10.11"
  }
 },
 "nbformat": 4,
 "nbformat_minor": 2
}
