{
 "cells": [
  {
   "cell_type": "code",
   "execution_count": 1,
   "metadata": {},
   "outputs": [],
   "source": [
    "import numpy as np\n",
    "import pandas as pd\n",
    "import xgboost as xgb\n",
    "from sklearn.model_selection import train_test_split, GridSearchCV, RandomizedSearchCV\n",
    "from sklearn.metrics import mean_squared_error, r2_score\n",
    "\n",
    "from sklearn.feature_selection import VarianceThreshold, SelectFromModel\n",
    "from sklearn.linear_model import LassoCV"
   ]
  },
  {
   "cell_type": "markdown",
   "metadata": {},
   "source": [
    "# 加载数据"
   ]
  },
  {
   "cell_type": "code",
   "execution_count": 2,
   "metadata": {},
   "outputs": [],
   "source": [
    "data = pd.read_csv('./data_processed/data_norm_log.csv', index_col=0)\n",
    "data.fillna(data.mean(), inplace=True)\n",
    "\n",
    "X = data.loc[:, data.columns != 'los']\n",
    "y = data.loc[:, data.columns == 'los']"
   ]
  },
  {
   "cell_type": "markdown",
   "metadata": {},
   "source": [
    "# 特征选择"
   ]
  },
  {
   "cell_type": "code",
   "execution_count": 3,
   "metadata": {},
   "outputs": [],
   "source": [
    "# # 使用带L1正则化的逻辑回归进行特征选择\n",
    "# lasso = LassoCV(cv=5, random_state=42).fit(X, y)\n",
    "\n",
    "# selector = SelectFromModel(lasso, prefit=True)\n",
    "\n",
    "# selected_features = selector.get_support(indices=True)\n",
    "\n",
    "# X.columns[selected_features]\n",
    "\n",
    "# X = X.iloc[:, selected_features]"
   ]
  },
  {
   "cell_type": "markdown",
   "metadata": {},
   "source": [
    "# XGBoost"
   ]
  },
  {
   "cell_type": "code",
   "execution_count": 4,
   "metadata": {},
   "outputs": [],
   "source": [
    "X_train, X_test, y_train, y_test = train_test_split(X, y, test_size=0.2, random_state=42)"
   ]
  },
  {
   "cell_type": "code",
   "execution_count": 5,
   "metadata": {},
   "outputs": [],
   "source": [
    "xg_reg = xgb.XGBRegressor(objective ='reg:squarederror')"
   ]
  },
  {
   "cell_type": "markdown",
   "metadata": {},
   "source": [
    "## Find Parameters\n",
    "\n",
    "### GridSearchCV"
   ]
  },
  {
   "cell_type": "code",
   "execution_count": 6,
   "metadata": {},
   "outputs": [],
   "source": [
    "# param_grid = {\n",
    "#     'n_estimators': [50, 100, 200, 300, 400, 500, 700, 1000],\n",
    "#     'learning_rate': [0.005, 0.01, 0.05, 0.1, 0.2, 0.3],\n",
    "#     'max_depth': [3, 4, 6, 8, 10, 12, 15],\n",
    "#     'colsample_bytree': [0.3, 0.5, 0.7, 0.9, 1.0],\n",
    "#     'subsample': [0.5, 0.7, 0.9, 1.0],\n",
    "#     'gamma': [0, 0.1, 0.2, 0.3, 0.4, 0.5],\n",
    "#     'min_child_weight': [1, 3, 5, 7],\n",
    "#     'reg_alpha': [0, 0.01, 0.1, 1, 10],\n",
    "#     'reg_lambda': [10, 1, 0.01, 0.1, 0]\n",
    "# }\n",
    "\n",
    "\n",
    "# # 配置GridSearchCV\n",
    "# grid_search = GridSearchCV(estimator=xg_reg, \n",
    "#                            param_grid=param_grid,\n",
    "#                            scoring='r2', \n",
    "#                            cv=5, \n",
    "#                            verbose=3,\n",
    "#                            random_state=42,\n",
    "#                            n_jobs=-1)\n",
    "\n",
    "# # 拟合模型\n",
    "# grid_search.fit(X_train, y_train)\n",
    "\n",
    "# # 查看最佳参数和最佳分数\n",
    "# print(f\"Best params: {grid_search.best_params_}\")\n",
    "# print(f\"Best score: {grid_search.best_score_}\")"
   ]
  },
  {
   "cell_type": "markdown",
   "metadata": {},
   "source": [
    "### Randomized search on hyper parameters"
   ]
  },
  {
   "cell_type": "code",
   "execution_count": 7,
   "metadata": {},
   "outputs": [
    {
     "name": "stdout",
     "output_type": "stream",
     "text": [
      "Fitting 3 folds for each of 100 candidates, totalling 300 fits\n",
      "Best params: {'subsample': 0.9, 'reg_lambda': 10, 'reg_alpha': 10, 'n_estimators': 400, 'min_child_weight': 5, 'max_depth': 6, 'learning_rate': 0.05, 'gamma': 0.4, 'colsample_bytree': 0.7}\n",
      "Best score: 0.0031041243322843157\n"
     ]
    }
   ],
   "source": [
    "param_distributions = {\n",
    "    'n_estimators': [50, 100, 200, 300, 400, 500, 700, 1000],\n",
    "    'learning_rate': [0.005, 0.01, 0.05, 0.1, 0.2, 0.3],\n",
    "    'max_depth': [3, 4, 6, 8, 10, 12, 15],\n",
    "    'colsample_bytree': [0.3, 0.5, 0.7, 0.9, 1.0],\n",
    "    'subsample': [0.5, 0.7, 0.9, 1.0],\n",
    "    'gamma': [0, 0.1, 0.2, 0.3, 0.4, 0.5],\n",
    "    'min_child_weight': [1, 3, 5, 7],\n",
    "    'reg_alpha': [0, 0.01, 0.1, 1, 10],\n",
    "    'reg_lambda': [10, 1, 0.01, 0.1, 0]\n",
    "}\n",
    "\n",
    "\n",
    "# 配置GridSearchCV\n",
    "random_search = RandomizedSearchCV(estimator=xg_reg, \n",
    "                                   param_distributions=param_distributions, \n",
    "                                   n_iter=100,\n",
    "                                   scoring='r2', \n",
    "                                   cv=3, \n",
    "                                   verbose=3, \n",
    "                                   random_state=42, \n",
    "                                   n_jobs=6)\n",
    "\n",
    "\n",
    "# 拟合模型\n",
    "random_search.fit(X_train, y_train)\n",
    "\n",
    "# 查看最佳参数和最佳分数\n",
    "print(f\"Best params: {random_search.best_params_}\")\n",
    "print(f\"Best score: {random_search.best_score_}\")"
   ]
  },
  {
   "cell_type": "code",
   "execution_count": 8,
   "metadata": {},
   "outputs": [
    {
     "name": "stdout",
     "output_type": "stream",
     "text": [
      "RMSE: 0.5672752479627018\n",
      "R2 Score: 0.009335038397020878\n"
     ]
    }
   ],
   "source": [
    "final_model = xgb.XGBRegressor(**random_search.best_params_)\n",
    "\n",
    "final_model.fit(X_train, y_train)\n",
    "\n",
    "y_pred = final_model.predict(X_test)\n",
    "\n",
    "\n",
    "print(\"RMSE:\", np.sqrt(mean_squared_error(y_test, y_pred)))\n",
    "print(\"R2 Score:\", r2_score(y_test, y_pred))"
   ]
  },
  {
   "cell_type": "code",
   "execution_count": 9,
   "metadata": {},
   "outputs": [
    {
     "data": {
      "text/plain": [
       "0.11527966815321622"
      ]
     },
     "execution_count": 9,
     "metadata": {},
     "output_type": "execute_result"
    }
   ],
   "source": [
    "y_train_pred = final_model.predict(X_train)\n",
    "\n",
    "r2_score(y_train, y_train_pred)"
   ]
  },
  {
   "cell_type": "code",
   "execution_count": null,
   "metadata": {},
   "outputs": [],
   "source": []
  }
 ],
 "metadata": {
  "kernelspec": {
   "display_name": "ibd",
   "language": "python",
   "name": "python3"
  },
  "language_info": {
   "codemirror_mode": {
    "name": "ipython",
    "version": 3
   },
   "file_extension": ".py",
   "mimetype": "text/x-python",
   "name": "python",
   "nbconvert_exporter": "python",
   "pygments_lexer": "ipython3",
   "version": "3.11.8"
  }
 },
 "nbformat": 4,
 "nbformat_minor": 2
}
