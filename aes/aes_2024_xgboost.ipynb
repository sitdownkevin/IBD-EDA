{
 "cells": [
  {
   "cell_type": "code",
   "execution_count": null,
   "metadata": {},
   "outputs": [],
   "source": [
    "import numpy as np\n",
    "import pandas as pd\n",
    "import xgboost as xgb\n",
    "from sklearn.model_selection import train_test_split, GridSearchCV, RandomizedSearchCV\n",
    "from sklearn.metrics import mean_squared_error, r2_score\n"
   ]
  },
  {
   "cell_type": "code",
   "execution_count": 49,
   "metadata": {},
   "outputs": [],
   "source": [
    "data = pd.read_csv('./data_processed/data.csv', index_col=0)\n",
    "\n",
    "X = data.loc[:, data.columns != 'los']\n",
    "y = data.loc[:, data.columns == 'los']\n",
    "\n",
    "X_train, X_test, y_train, y_test = train_test_split(X, y, test_size=0.2, random_state=42)"
   ]
  },
  {
   "cell_type": "code",
   "execution_count": 50,
   "metadata": {},
   "outputs": [],
   "source": [
    "xg_reg = xgb.XGBRegressor(objective ='reg:squarederror')"
   ]
  },
  {
   "cell_type": "code",
   "execution_count": 52,
   "metadata": {},
   "outputs": [
    {
     "name": "stdout",
     "output_type": "stream",
     "text": [
      "Fitting 5 folds for each of 480000 candidates, totalling 2400000 fits\n"
     ]
    }
   ],
   "source": [
    "param_grid = {\n",
    "    'n_estimators': [100, 200, 300, 400, 500],\n",
    "    'learning_rate': [0.01, 0.05, 0.1, 0.2, 0.3],\n",
    "    'max_depth': [3, 4, 6, 8, 10],\n",
    "    'colsample_bytree': [0.3, 0.5, 0.7, 1.0],\n",
    "    'subsample': [0.5, 0.7, 1.0],\n",
    "    'gamma': [0, 0.1, 0.2, 0.3, 0.4],\n",
    "    'min_child_weight': [1, 3, 5, 7],\n",
    "    'reg_alpha': [0, 0.01, 0.1, 1],\n",
    "    'reg_lambda': [1, 0.01, 0.1, 0]\n",
    "}\n",
    "\n",
    "# 配置GridSearchCV\n",
    "grid_search = GridSearchCV(estimator=xg_reg, \n",
    "                           param_grid=param_grid, \n",
    "                           scoring='r2', \n",
    "                           cv=5, \n",
    "                           verbose=1)\n",
    "\n",
    "# 拟合模型\n",
    "grid_search.fit(X_train, y_train)\n",
    "\n",
    "# 查看最佳参数和最佳分数\n",
    "print(\"最佳参数：\", grid_search.best_params_)\n",
    "print(\"最佳分数（负均方误差）：\", grid_search.best_score_)"
   ]
  },
  {
   "cell_type": "code",
   "execution_count": null,
   "metadata": {},
   "outputs": [],
   "source": [
    "# param_grid = {\n",
    "#     'n_estimators': [100, 200, 300, 400, 500],\n",
    "#     'learning_rate': [0.01, 0.05, 0.1, 0.2, 0.3],\n",
    "#     'max_depth': [3, 4, 6, 8, 10],\n",
    "#     'colsample_bytree': [0.3, 0.5, 0.7, 1.0],\n",
    "#     'subsample': [0.5, 0.7, 1.0],\n",
    "#     'gamma': [0, 0.1, 0.2, 0.3, 0.4],\n",
    "#     'min_child_weight': [1, 3, 5, 7],\n",
    "#     'reg_alpha': [0, 0.01, 0.1, 1],\n",
    "#     'reg_lambda': [1, 0.01, 0.1, 0]\n",
    "# }\n",
    "\n",
    "# 设置参数字典\n",
    "param_distributions = {\n",
    "    'n_estimators': [100, 200, 300, 400, 500],\n",
    "    'learning_rate': [0.01, 0.05, 0.1, 0.2, 0.3],\n",
    "    'max_depth': [3, 4, 6, 8, 10],\n",
    "    'colsample_bytree': [0.3, 0.5, 0.7, 1.0],\n",
    "    'subsample': [0.5, 0.7, 1.0]\n",
    "}\n",
    "\n",
    "# 配置GridSearchCV\n",
    "random_search = RandomizedSearchCV(estimator=xg_reg, param_distributions=param_distributions, n_iter=100, scoring='r2', cv=5, verbose=3, random_state=42, n_jobs=-1)\n",
    "\n",
    "\n",
    "# 拟合模型\n",
    "random_search.fit(X_train, y_train)\n",
    "\n",
    "# 查看最佳参数和最佳分数\n",
    "print(\"最佳参数：\", random_search.best_params_)\n",
    "print(\"最佳分数（R2）：\", random_search.best_score_)"
   ]
  }
 ],
 "metadata": {
  "kernelspec": {
   "display_name": "ibd",
   "language": "python",
   "name": "python3"
  },
  "language_info": {
   "codemirror_mode": {
    "name": "ipython",
    "version": 3
   },
   "file_extension": ".py",
   "mimetype": "text/x-python",
   "name": "python",
   "nbconvert_exporter": "python",
   "pygments_lexer": "ipython3",
   "version": "3.11.8"
  }
 },
 "nbformat": 4,
 "nbformat_minor": 2
}
