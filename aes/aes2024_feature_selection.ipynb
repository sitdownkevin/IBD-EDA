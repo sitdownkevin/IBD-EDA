{
 "cells": [
  {
   "cell_type": "code",
   "execution_count": 1,
   "metadata": {},
   "outputs": [],
   "source": [
    "import numpy as np\n",
    "import pandas as pd\n",
    "from sklearn.feature_selection import VarianceThreshold, SelectFromModel\n",
    "from sklearn.linear_model import LassoCV"
   ]
  },
  {
   "cell_type": "code",
   "execution_count": 2,
   "metadata": {},
   "outputs": [],
   "source": [
    "data = pd.read_csv('./data_processed/data_norm_log.csv', index_col=0)\n",
    "data.fillna(data.mean(), inplace=True)\n",
    "\n",
    "X = data.loc[:, data.columns != 'los']\n",
    "y = data.loc[:, data.columns == 'los']"
   ]
  },
  {
   "cell_type": "code",
   "execution_count": 3,
   "metadata": {},
   "outputs": [
    {
     "name": "stdout",
     "output_type": "stream",
     "text": [
      "原始特征数量: 22\n",
      "方差阈值法选择后的特征数量: 9\n"
     ]
    }
   ],
   "source": [
    "# 使用方差阈值法进行特征选择\n",
    "selector = VarianceThreshold(threshold=0.5)  # 设定阈值\n",
    "X_selected = selector.fit_transform(X)\n",
    "\n",
    "print(f\"原始特征数量: {X.shape[1]}\")\n",
    "print(f\"方差阈值法选择后的特征数量: {X_selected.shape[1]}\")"
   ]
  },
  {
   "cell_type": "code",
   "execution_count": 5,
   "metadata": {},
   "outputs": [
    {
     "name": "stdout",
     "output_type": "stream",
     "text": [
      "被选择的特征的索引: [1 2 3 4 5 8]\n",
      "被选择的特征的系数: [ 0.00585107  0.00989388  0.08942967 -0.02470985  0.02983032  0.01269654]\n"
     ]
    },
    {
     "name": "stderr",
     "output_type": "stream",
     "text": [
      "c:\\Users\\sitdo\\.conda\\envs\\ibd\\Lib\\site-packages\\sklearn\\linear_model\\_coordinate_descent.py:1623: DataConversionWarning: A column-vector y was passed when a 1d array was expected. Please change the shape of y to (n_samples, ), for example using ravel().\n",
      "  y = column_or_1d(y, warn=True)\n"
     ]
    }
   ],
   "source": [
    "# 使用带L1正则化的逻辑回归进行特征选择\n",
    "lasso = LassoCV(cv=5, random_state=42).fit(X, y)\n",
    "selector = SelectFromModel(lasso, prefit=True)\n",
    "\n",
    "selected_features = selector.get_support(indices=True)\n",
    "\n",
    "# 查看被选择的特征的索引\n",
    "print(f\"被选择的特征的索引: {selected_features}\")\n",
    "\n",
    "# 查看被选择的特征的系数\n",
    "print(f\"被选择的特征的系数: {lasso.coef_[selected_features]}\")"
   ]
  },
  {
   "cell_type": "markdown",
   "metadata": {},
   "source": []
  },
  {
   "cell_type": "code",
   "execution_count": 8,
   "metadata": {},
   "outputs": [
    {
     "data": {
      "text/plain": [
       "Index(['age', 'heart_rate', 'respiratory_rate', 'hematocrit', 'rdw', 'mch'], dtype='object')"
      ]
     },
     "execution_count": 8,
     "metadata": {},
     "output_type": "execute_result"
    }
   ],
   "source": [
    "X.columns[selected_features]"
   ]
  },
  {
   "cell_type": "code",
   "execution_count": null,
   "metadata": {},
   "outputs": [],
   "source": []
  }
 ],
 "metadata": {
  "kernelspec": {
   "display_name": "ibd",
   "language": "python",
   "name": "python3"
  },
  "language_info": {
   "codemirror_mode": {
    "name": "ipython",
    "version": 3
   },
   "file_extension": ".py",
   "mimetype": "text/x-python",
   "name": "python",
   "nbconvert_exporter": "python",
   "pygments_lexer": "ipython3",
   "version": "3.11.8"
  }
 },
 "nbformat": 4,
 "nbformat_minor": 2
}
