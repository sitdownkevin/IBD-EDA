{
 "cells": [
  {
   "cell_type": "code",
   "execution_count": null,
   "metadata": {},
   "outputs": [],
   "source": [
    "import seaborn as sns\n",
    "import matplotlib.pyplot as plt\n",
    "import pandas as pd\n",
    "import numpy as np\n",
    "\n",
    "from sklearn.preprocessing import StandardScaler, MinMaxScaler\n",
    "from scipy import stats"
   ]
  },
  {
   "cell_type": "markdown",
   "metadata": {},
   "source": [
    "# Loading Data"
   ]
  },
  {
   "cell_type": "code",
   "execution_count": null,
   "metadata": {},
   "outputs": [],
   "source": [
    "df = (\n",
    "    pd.read_csv('./data/icu_ibd_all_table.csv')\n",
    "    .assign(intime = lambda x: pd.to_datetime(x['intime']))\n",
    ")\n",
    "\n",
    "print(df.shape)\n",
    "print(df.head())"
   ]
  },
  {
   "cell_type": "code",
   "execution_count": null,
   "metadata": {},
   "outputs": [],
   "source": [
    "df2 = (\n",
    "    pd.read_csv('./data/patients_ibd.csv')\n",
    "    .assign(anchor_year=lambda x: pd.to_datetime(x['anchor_year'].astype(str) + '-01-01'))\n",
    ")\n",
    "\n",
    "print(df2.shape)\n",
    "print(df2.head())"
   ]
  },
  {
   "cell_type": "markdown",
   "metadata": {},
   "source": [
    "# Preprocess Data"
   ]
  },
  {
   "cell_type": "markdown",
   "metadata": {},
   "source": [
    "## Make a Combination"
   ]
  },
  {
   "cell_type": "code",
   "execution_count": null,
   "metadata": {},
   "outputs": [],
   "source": [
    "data = (\n",
    "    df.merge(\n",
    "        df2[['subject_id', 'anchor_year']], \n",
    "        on='subject_id', \n",
    "        how='left',\n",
    "    ) # 需要 df2 的 anchor_year 信息\n",
    "    .sort_values(by=['subject_id', 'intime'],) # 每个 subject_id 按照入院时间 intime 排序\n",
    "    .assign(\n",
    "        age = lambda x: ((x['intime'] - x['anchor_year']).dt.days) / 365 + x['age']\n",
    "    )\n",
    "    .drop(columns=['outtime', 'anchor_year'])\n",
    ")\n",
    "\n",
    "print(data.shape)\n",
    "print(data.head())"
   ]
  },
  {
   "cell_type": "markdown",
   "metadata": {},
   "source": [
    "## Drop Columns (Missing Value + Useless)"
   ]
  },
  {
   "cell_type": "code",
   "execution_count": null,
   "metadata": {},
   "outputs": [],
   "source": [
    "# 删除缺失值过多的字段\n",
    "cols_missing = []\n",
    "\n",
    "for col in data.columns:\n",
    "    if data[col].isna().sum() / data.shape[0]*100 > 5:\n",
    "        cols_missing.append(col)\n",
    "        # print(\n",
    "        #     f'{col} => '\n",
    "        #     f'NA Count: {data[col].isna().sum()} ({data[col].isna().sum() / data.shape[0]*100:.2f}%)'\n",
    "        #     '\\n'\n",
    "        # )\n",
    "\n",
    "print('缺失值过多的字段')\n",
    "print(cols_missing)"
   ]
  },
  {
   "cell_type": "code",
   "execution_count": null,
   "metadata": {},
   "outputs": [],
   "source": [
    "# 删除不需要的字段\n",
    "cols_useless = [\n",
    "    'hadm_id',\n",
    "    'mortality',\n",
    "]\n",
    "\n",
    "print('手动删除的字段')\n",
    "print(cols_useless)"
   ]
  },
  {
   "cell_type": "code",
   "execution_count": null,
   "metadata": {},
   "outputs": [],
   "source": [
    "cols_except = cols_missing + cols_useless\n",
    "\n",
    "print(f'Cols (before): {data.shape[1]}')\n",
    "data.drop(columns=cols_except, inplace=True)\n",
    "print(f'Cols (after): {data.shape[1]}')"
   ]
  },
  {
   "cell_type": "markdown",
   "metadata": {},
   "source": [
    "## Drop Rows (Missing Value)"
   ]
  },
  {
   "cell_type": "code",
   "execution_count": null,
   "metadata": {},
   "outputs": [],
   "source": [
    "# 删除缺失值过多的行\n",
    "print(f'Rows (before): {data.shape[0]}')\n",
    "data = data[~(data.isna().sum(axis=1) > (data.shape[1]+1)*0.05)]\n",
    "print(f'Rows (after): {data.shape[0]}')"
   ]
  },
  {
   "cell_type": "markdown",
   "metadata": {},
   "source": [
    "## Process Race"
   ]
  },
  {
   "cell_type": "code",
   "execution_count": null,
   "metadata": {},
   "outputs": [],
   "source": [
    "def parse_race(race):\n",
    "    if 'WHITE' in race:\n",
    "        return 'WHITE'\n",
    "    elif 'BLACK' in race:\n",
    "        return 'BLACK'\n",
    "    elif 'HISPANIC' in race or 'LATINO' in race:\n",
    "        return 'HISPANIC/LATINO'\n",
    "    elif 'ASIAN' in race:\n",
    "        return 'ASIAN'\n",
    "    else:\n",
    "        return 'OTHER'\n",
    "\n",
    "data.loc[:, 'race'] = data.loc[:, 'race'].apply(parse_race)"
   ]
  },
  {
   "cell_type": "markdown",
   "metadata": {},
   "source": [
    "## Format Dummy Variables"
   ]
  },
  {
   "cell_type": "code",
   "execution_count": null,
   "metadata": {},
   "outputs": [],
   "source": [
    "# 对 type 做 drop_first\n",
    "data.drop(columns=['uc_cd'], inplace=True)"
   ]
  },
  {
   "cell_type": "code",
   "execution_count": null,
   "metadata": {},
   "outputs": [],
   "source": [
    "# 需要转换为 dummy variable 的字段\n",
    "cols = ['language', 'race', 'marital_status', 'insurance']\n",
    "\n",
    "for col in cols:\n",
    "    tmp = data[col].value_counts(dropna=False)\n",
    "    res = pd.DataFrame({'index': tmp.index, 'count': tmp.values, 'percentage': tmp.values/tmp.sum()*100})\n",
    "    print(f'{res.set_index(\"index\")}')\n",
    "    print()"
   ]
  },
  {
   "cell_type": "code",
   "execution_count": null,
   "metadata": {},
   "outputs": [],
   "source": [
    "# 处理 dummy variables\n",
    "data = pd.get_dummies(data=data, \n",
    "                      columns=cols, \n",
    "                      prefix=cols, \n",
    "                      drop_first=True)\n",
    "\n",
    "data.columns"
   ]
  },
  {
   "cell_type": "markdown",
   "metadata": {},
   "source": [
    "## Add ICU Count"
   ]
  },
  {
   "cell_type": "code",
   "execution_count": null,
   "metadata": {},
   "outputs": [],
   "source": [
    "data['icu_count'] = (\n",
    "    data.sort_values(by=['subject_id', 'intime'])\n",
    "    .groupby('subject_id').cumcount() + 1\n",
    ")"
   ]
  },
  {
   "cell_type": "markdown",
   "metadata": {},
   "source": [
    "# Normalization"
   ]
  },
  {
   "cell_type": "code",
   "execution_count": null,
   "metadata": {},
   "outputs": [],
   "source": [
    "cols = ['age', 'heart_rate', 'respiratory_rate', 'hematocrit', 'rdw', 'platelet', 'mcv', 'mch', 'hemoglobin', 'icu_count']\n",
    "\n",
    "# scaler = StandardScaler()\n",
    "scaler = MinMaxScaler()\n",
    "\n",
    "data[cols] = scaler.fit_transform(data[cols])"
   ]
  },
  {
   "cell_type": "code",
   "execution_count": null,
   "metadata": {},
   "outputs": [],
   "source": [
    "# 转换所有 bool 类型为 int\n",
    "for k, v in data.dtypes.items():\n",
    "    if v == bool:\n",
    "        data[k] = data[k].astype(int)"
   ]
  },
  {
   "cell_type": "markdown",
   "metadata": {},
   "source": [
    "# Export Data"
   ]
  },
  {
   "cell_type": "markdown",
   "metadata": {},
   "source": [
    "## First ICU Record"
   ]
  },
  {
   "cell_type": "code",
   "execution_count": null,
   "metadata": {},
   "outputs": [],
   "source": [
    "(\n",
    "    data\n",
    "    # .drop_duplicates(subset='subject_id', keep='first',)\n",
    "    # .drop(columns=['die_in_icu'])\n",
    "    .to_csv('./data_processed/data_first_record_.csv')\n",
    "    # .columns\n",
    ")"
   ]
  },
  {
   "cell_type": "code",
   "execution_count": null,
   "metadata": {},
   "outputs": [],
   "source": [
    "plt.figure(figsize=(12, 6))\n",
    "\n",
    "plt.scatter(data['los'],\n",
    "            data['subject_id'], \n",
    "            alpha=0.9, \n",
    "            s=data['icu_count']*100,\n",
    "            c=data['subject_id'].astype('category').cat.codes,\n",
    "            cmap='viridis'\n",
    "            )  # alpha用于设置点的透明度\n",
    "\n",
    "plt.xticks(rotation=45)"
   ]
  },
  {
   "cell_type": "code",
   "execution_count": null,
   "metadata": {},
   "outputs": [],
   "source": [
    "from mpl_toolkits.mplot3d import Axes3D\n",
    "\n",
    "fig = plt.figure(figsize=(12, 8), dpi=300)\n",
    "ax = fig.add_subplot(111, projection='3d')\n",
    "\n",
    "color_labels = data['subject_id'].astype('category').cat.codes\n",
    "\n",
    "scatter = ax.scatter(data['los'], \n",
    "                     data['subject_id'], \n",
    "                     data['icu_count'],  # 将icu_count作为第三个维度\n",
    "                     alpha=0.9, \n",
    "                     s=np.exp(data['icu_count']*5),  # 也可以使用icu_count调整点的大小\n",
    "                     c=color_labels, \n",
    "                     cmap='jet')\n",
    "\n",
    "\n",
    "ax.set_xlabel('Length of Stay (days)')\n",
    "ax.set_ylabel('Subject ID')\n",
    "ax.set_zlabel('ICU Count')\n",
    "ax.set_title('3D Plot of ICU Data')\n",
    "\n",
    "plt.colorbar(scatter, ax=ax, label='Subject ID')\n"
   ]
  },
  {
   "cell_type": "code",
   "execution_count": null,
   "metadata": {},
   "outputs": [],
   "source": [
    "data.merge(df2[['subject_id', 'anchor_year_group']],\n",
    "           on='subject_id', how='left').anchor_year_group.value_counts()"
   ]
  },
  {
   "cell_type": "code",
   "execution_count": null,
   "metadata": {},
   "outputs": [],
   "source": [
    "data"
   ]
  },
  {
   "cell_type": "code",
   "execution_count": null,
   "metadata": {},
   "outputs": [],
   "source": []
  }
 ],
 "metadata": {
  "kernelspec": {
   "display_name": "Python 3 (ipykernel)",
   "language": "python",
   "name": "python3"
  },
  "language_info": {
   "codemirror_mode": {
    "name": "ipython",
    "version": 3
   },
   "file_extension": ".py",
   "mimetype": "text/x-python",
   "name": "python",
   "nbconvert_exporter": "python",
   "pygments_lexer": "ipython3",
   "version": "3.11.9"
  },
  "widgets": {
   "application/vnd.jupyter.widget-state+json": {
    "state": {},
    "version_major": 2,
    "version_minor": 0
   }
  }
 },
 "nbformat": 4,
 "nbformat_minor": 4
}
