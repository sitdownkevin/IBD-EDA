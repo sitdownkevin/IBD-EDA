{
 "cells": [
  {
   "cell_type": "code",
   "execution_count": 29,
   "metadata": {},
   "outputs": [],
   "source": [
    "import seaborn as sns\n",
    "import matplotlib.pyplot as plt\n",
    "import pandas as pd\n",
    "import numpy as np\n",
    "from sklearn.preprocessing import StandardScaler, MinMaxScaler\n",
    "from scipy import stats"
   ]
  },
  {
   "cell_type": "markdown",
   "metadata": {},
   "source": [
    "# Loading Data"
   ]
  },
  {
   "cell_type": "code",
   "execution_count": 3,
   "metadata": {
    "scrolled": true
   },
   "outputs": [
    {
     "data": {
      "text/plain": [
       "(1161, 32)"
      ]
     },
     "execution_count": 3,
     "metadata": {},
     "output_type": "execute_result"
    }
   ],
   "source": [
    "df = pd.read_csv('./data/icu_ibd_all_table.csv')\n",
    "df['intime'] = pd.to_datetime(df['intime'])\n",
    "df.shape"
   ]
  },
  {
   "cell_type": "code",
   "execution_count": 4,
   "metadata": {},
   "outputs": [
    {
     "data": {
      "text/plain": [
       "(2417, 6)"
      ]
     },
     "execution_count": 4,
     "metadata": {},
     "output_type": "execute_result"
    }
   ],
   "source": [
    "df2 = pd.read_csv('./data/patients_ibd.csv')\n",
    "\n",
    "func = lambda x: pd.to_datetime('{}-01-01'.format(x))\n",
    "df2['anchor_year'] = df2['anchor_year'].apply(func)\n",
    "\n",
    "df2.shape"
   ]
  },
  {
   "cell_type": "markdown",
   "metadata": {},
   "source": [
    "# Make a Combination"
   ]
  },
  {
   "cell_type": "code",
   "execution_count": 5,
   "metadata": {},
   "outputs": [],
   "source": [
    "data = df.merge(df2[['subject_id', 'anchor_year']], on='subject_id', how='left')\n",
    "data.sort_values(by=['subject_id', 'intime'], inplace=True)\n",
    "data['age'] = ((data['intime'] - data['anchor_year']).dt.days) / 365 + data['age']"
   ]
  },
  {
   "cell_type": "markdown",
   "metadata": {},
   "source": [
    "# Checking Missing Value"
   ]
  },
  {
   "cell_type": "code",
   "execution_count": 6,
   "metadata": {
    "scrolled": true
   },
   "outputs": [
    {
     "name": "stdout",
     "output_type": "stream",
     "text": [
      "weight:\n",
      "  NA count: 1066 (91.82%)\n",
      "\n",
      "bmi:\n",
      "  NA count: 1070 (92.16%)\n",
      "\n",
      "systolic_pressure:\n",
      "  NA count: 1099 (94.66%)\n",
      "\n",
      "diastolic_pressure:\n",
      "  NA count: 1099 (94.66%)\n",
      "\n",
      "temperature:\n",
      "  NA count: 962 (82.86%)\n",
      "\n",
      "white_blood_cell:\n",
      "  NA count: 1155 (99.48%)\n",
      "\n",
      "red_blood_cell:\n",
      "  NA count: 705 (60.72%)\n",
      "\n",
      "CRP:\n",
      "  NA count: 1161 (100.00%)\n",
      "\n"
     ]
    }
   ],
   "source": [
    "# 检查缺失值\n",
    "cols_missing = []\n",
    "\n",
    "for col in data.columns:\n",
    "    if data[col].isna().sum() / data.shape[0]*100 > 5:\n",
    "        cols_missing.append(col)\n",
    "        print(f'{col}:\\n  NA count: {data[col].isna().sum()} ({data[col].isna().sum() / data.shape[0]*100:.2f}%)\\n')"
   ]
  },
  {
   "cell_type": "markdown",
   "metadata": {},
   "source": [
    "# Delete Useless Columns"
   ]
  },
  {
   "cell_type": "code",
   "execution_count": 7,
   "metadata": {
    "scrolled": true
   },
   "outputs": [],
   "source": [
    "# 删除不需要的列\n",
    "\n",
    "cols_useless = [\n",
    "    'hadm_id',\n",
    "    'intime',\n",
    "    'outtime',\n",
    "    'mortality',\n",
    "    'die_in_icu',\n",
    "    'anchor_year',\n",
    "]\n",
    "\n",
    "cols_except = cols_missing + cols_useless\n",
    "\n",
    "\n",
    "data.drop(columns=cols_except, inplace=True)"
   ]
  },
  {
   "cell_type": "code",
   "execution_count": 8,
   "metadata": {},
   "outputs": [
    {
     "name": "stdout",
     "output_type": "stream",
     "text": [
      "Index(['subject_id', 'los', 'gender', 'age', 'heart_rate', 'respiratory_rate',\n",
      "       'hematocrit', 'rdw', 'platelet', 'mcv', 'mch', 'hemoglobin', 'race',\n",
      "       'language', 'marital_status', 'insurance', 'uc_only', 'cd_only',\n",
      "       'uc_cd'],\n",
      "      dtype='object')\n"
     ]
    }
   ],
   "source": [
    "print(data.columns)"
   ]
  },
  {
   "cell_type": "markdown",
   "metadata": {},
   "source": [
    "# Keeping One ICU Record for Each Patient"
   ]
  },
  {
   "cell_type": "code",
   "execution_count": 9,
   "metadata": {},
   "outputs": [],
   "source": [
    "data = data[~(data.isna().sum(axis=1) > (data.shape[1]+1)*0.05)]\n",
    "\n",
    "# 只保留每个病人的第一次 ICU 记录\n",
    "data.drop_duplicates(subset='subject_id', keep='first', inplace=True)"
   ]
  },
  {
   "cell_type": "code",
   "execution_count": 10,
   "metadata": {},
   "outputs": [
    {
     "name": "stdout",
     "output_type": "stream",
     "text": [
      "(652,)\n"
     ]
    }
   ],
   "source": [
    "print(data.subject_id.unique().shape)"
   ]
  },
  {
   "cell_type": "markdown",
   "metadata": {},
   "source": [
    "# Formatting Race"
   ]
  },
  {
   "cell_type": "code",
   "execution_count": 11,
   "metadata": {},
   "outputs": [],
   "source": [
    "def parse_race(race):\n",
    "    if 'WHITE' in race:\n",
    "        return 'WHITE'\n",
    "    elif 'BLACK' in race:\n",
    "        return 'BLACK'\n",
    "    elif 'HISPANIC' in race or 'LATINO' in race:\n",
    "        return 'HISPANIC/LATINO'\n",
    "    elif 'ASIAN' in race:\n",
    "        return 'ASIAN'\n",
    "    else:\n",
    "        return 'OTHER'\n",
    "\n",
    "\n",
    "data.loc[:, 'race'] = data.loc[:, 'race'].apply(parse_race)"
   ]
  },
  {
   "cell_type": "code",
   "execution_count": null,
   "metadata": {},
   "outputs": [],
   "source": [
    "data.drop(columns=['subject_id', 'uc_cd'], inplace=True)"
   ]
  },
  {
   "cell_type": "markdown",
   "metadata": {},
   "source": [
    "# Formatting Dummy Variables"
   ]
  },
  {
   "cell_type": "code",
   "execution_count": null,
   "metadata": {},
   "outputs": [],
   "source": [
    "# # 处理 dummy variables\n",
    "# cols = ['language', 'race', 'marital_status', 'insurance']\n",
    "\n",
    "# for col in cols:\n",
    "#     tmp = data[col].value_counts()\n",
    "#     res = pd.DataFrame({'index': tmp.index, 'count': tmp.values, 'percentage': tmp.values/tmp.sum()*100})\n",
    "#     print(f'{res.set_index(\"index\")}')\n",
    "#     print()\n",
    "    \n",
    "\n",
    "# data = pd.get_dummies(data=data, \n",
    "#                       columns=cols, \n",
    "#                       prefix=cols, \n",
    "#                       drop_first=True)\n",
    "\n",
    "# data.columns"
   ]
  },
  {
   "cell_type": "markdown",
   "metadata": {},
   "source": [
    "# Standalization"
   ]
  },
  {
   "cell_type": "code",
   "execution_count": null,
   "metadata": {},
   "outputs": [],
   "source": [
    "# cols = ['age', 'heart_rate', 'respiratory_rate', 'hematocrit', 'rdw', 'platelet', 'mcv', 'mch', 'hemoglobin',]\n",
    "\n",
    "# scaler = StandardScaler()\n",
    "\n",
    "# scaler = MinMaxScaler()\n",
    "\n",
    "# data[cols] = scaler.fit_transform(data[cols])"
   ]
  },
  {
   "cell_type": "code",
   "execution_count": null,
   "metadata": {},
   "outputs": [],
   "source": [
    "# 转换所有 bool 类型为 int\n",
    "# for k, v in data.dtypes.items():\n",
    "#     if v == bool:\n",
    "#         data.loc[:, k] = data.loc[:, k].astype(int)"
   ]
  },
  {
   "cell_type": "markdown",
   "metadata": {},
   "source": [
    "# Export Data"
   ]
  },
  {
   "cell_type": "code",
   "execution_count": null,
   "metadata": {},
   "outputs": [],
   "source": [
    "# data['los'] = np.log(data['los'] + 1)\n",
    "data.to_csv('./data.csv')"
   ]
  },
  {
   "cell_type": "markdown",
   "metadata": {},
   "source": [
    "# Statistcs"
   ]
  },
  {
   "cell_type": "code",
   "execution_count": 12,
   "metadata": {},
   "outputs": [
    {
     "data": {
      "text/plain": [
       "Index(['subject_id', 'los', 'gender', 'age', 'heart_rate', 'respiratory_rate',\n",
       "       'hematocrit', 'rdw', 'platelet', 'mcv', 'mch', 'hemoglobin', 'race',\n",
       "       'language', 'marital_status', 'insurance', 'uc_only', 'cd_only',\n",
       "       'uc_cd'],\n",
       "      dtype='object')"
      ]
     },
     "execution_count": 12,
     "metadata": {},
     "output_type": "execute_result"
    }
   ],
   "source": [
    "data.columns"
   ]
  },
  {
   "cell_type": "code",
   "execution_count": 39,
   "metadata": {},
   "outputs": [
    {
     "name": "stdout",
     "output_type": "stream",
     "text": [
      "age\n",
      "  los=0: (62.91, 15.26) los=1: (62.39, 16.94)\n",
      "    u-statistic: 36357.0000 p: 0.8672 significant: False\n",
      "    t-statistic: 0.3468 p: 0.7291 significant: False\n",
      "\n",
      "heart_rate\n",
      "  los=0: (91.90, 19.09) los=1: (87.94, 19.78)\n",
      "    u-statistic: 40708.0000 p: 0.0180 significant: True\n",
      "    t-statistic: 2.1576 p: 0.0320 significant: True\n",
      "\n",
      "respiratory_rate\n",
      "  los=0: (21.06, 5.83) los=1: (18.92, 5.82)\n",
      "    u-statistic: 44489.0000 p: 0.0000 significant: True\n",
      "    t-statistic: 3.8556 p: 0.0002 significant: True\n",
      "\n",
      "hematocrit\n",
      "  los=0: (30.19, 5.51) los=1: (30.99, 6.00)\n",
      "    u-statistic: 33573.5000 p: 0.2157 significant: False\n",
      "    t-statistic: -1.4972 p: 0.1357 significant: False\n",
      "\n",
      "rdw\n",
      "  los=0: (15.97, 2.60) los=1: (15.48, 2.36)\n",
      "    u-statistic: 39356.0000 p: 0.0926 significant: False\n",
      "    t-statistic: 2.0127 p: 0.0454 significant: True\n",
      "\n",
      "platelet\n",
      "  los=0: (241.13, 155.21) los=1: (nan, nan)\n",
      "    u-statistic: nan p: nan significant: False\n",
      "    t-statistic: nan p: nan significant: False\n",
      "\n",
      "mcv\n",
      "  los=0: (91.13, 8.12) los=1: (90.09, 8.64)\n",
      "    u-statistic: 38075.0000 p: 0.3003 significant: False\n",
      "    t-statistic: 1.3261 p: 0.1861 significant: False\n",
      "\n",
      "mch\n",
      "  los=0: (30.10, 3.04) los=1: (29.76, 3.19)\n",
      "    u-statistic: 38180.5000 p: 0.2765 significant: False\n",
      "    t-statistic: 1.1501 p: 0.2513 significant: False\n",
      "\n",
      "hemoglobin\n",
      "  los=0: (10.01, 1.80) los=1: (10.26, 2.03)\n",
      "    u-statistic: 33336.0000 p: 0.1744 significant: False\n",
      "    t-statistic: -1.3983 p: 0.1633 significant: False\n",
      "\n"
     ]
    }
   ],
   "source": [
    "data['los_'] = (data.los <= 4).astype(int)\n",
    "\n",
    "for col in ['age', 'heart_rate', 'respiratory_rate', 'hematocrit', 'rdw', 'platelet','mcv', 'mch', 'hemoglobin']:\n",
    "    x1 = data.loc[data.los_ == 0, col]\n",
    "    x2 = data.loc[data.los_ == 1, col]\n",
    "    \n",
    "    x1 = np.array(x1)\n",
    "    x2 = np.array(x2)\n",
    "    \n",
    "    # U-statistics\n",
    "    u_statistic, u_p_value = stats.mannwhitneyu(x1, x2, alternative='two-sided')\n",
    "    \n",
    "    # t-statistics\n",
    "    t_statistic, t_p_value = stats.ttest_ind(x1, x2, equal_var=False)\n",
    "    \n",
    "    print(f'{col}\\n  los=0: ({x1.mean():.2f}, {x1.std():.2f}) los=1: ({x2.mean():.2f}, {x2.std():.2f})')\n",
    "    print(f'    u-statistic: {u_statistic:.4f} p: {u_p_value:.4f} significant: {u_p_value < 0.05}')\n",
    "    print(f'    t-statistic: {t_statistic:.4f} p: {t_p_value:.4f} significant: {t_p_value < 0.05}')\n",
    "    print()"
   ]
  },
  {
   "cell_type": "code",
   "execution_count": null,
   "metadata": {},
   "outputs": [],
   "source": []
  }
 ],
 "metadata": {
  "kernelspec": {
   "display_name": "Python 3 (ipykernel)",
   "language": "python",
   "name": "python3"
  },
  "language_info": {
   "codemirror_mode": {
    "name": "ipython",
    "version": 3
   },
   "file_extension": ".py",
   "mimetype": "text/x-python",
   "name": "python",
   "nbconvert_exporter": "python",
   "pygments_lexer": "ipython3",
   "version": "3.11.8"
  },
  "widgets": {
   "application/vnd.jupyter.widget-state+json": {
    "state": {},
    "version_major": 2,
    "version_minor": 0
   }
  }
 },
 "nbformat": 4,
 "nbformat_minor": 4
}
