{
 "cells": [
  {
   "cell_type": "code",
   "execution_count": 1,
   "metadata": {},
   "outputs": [],
   "source": [
    "import pandas as pd\n",
    "import seaborn as sns\n",
    "import matplotlib.pyplot as plt\n",
    "from scipy import stats\n",
    "import numpy as np"
   ]
  },
  {
   "cell_type": "markdown",
   "metadata": {},
   "source": [
    "# 读取数据"
   ]
  },
  {
   "cell_type": "code",
   "execution_count": 2,
   "metadata": {},
   "outputs": [
    {
     "data": {
      "text/html": [
       "<div>\n",
       "<style scoped>\n",
       "    .dataframe tbody tr th:only-of-type {\n",
       "        vertical-align: middle;\n",
       "    }\n",
       "\n",
       "    .dataframe tbody tr th {\n",
       "        vertical-align: top;\n",
       "    }\n",
       "\n",
       "    .dataframe thead th {\n",
       "        text-align: right;\n",
       "    }\n",
       "</style>\n",
       "<table border=\"1\" class=\"dataframe\">\n",
       "  <thead>\n",
       "    <tr style=\"text-align: right;\">\n",
       "      <th></th>\n",
       "      <th>los</th>\n",
       "      <th>gender</th>\n",
       "      <th>age</th>\n",
       "      <th>heart_rate</th>\n",
       "      <th>respiratory_rate</th>\n",
       "      <th>hematocrit</th>\n",
       "      <th>rdw</th>\n",
       "      <th>platelet</th>\n",
       "      <th>mcv</th>\n",
       "      <th>mch</th>\n",
       "      <th>...</th>\n",
       "      <th>race_BLACK</th>\n",
       "      <th>race_HISPANIC/LATINO</th>\n",
       "      <th>race_OTHER</th>\n",
       "      <th>race_WHITE</th>\n",
       "      <th>language_ENGLISH</th>\n",
       "      <th>marital_status_MARRIED</th>\n",
       "      <th>marital_status_SINGLE</th>\n",
       "      <th>marital_status_WIDOWED</th>\n",
       "      <th>insurance_Medicare</th>\n",
       "      <th>insurance_Other</th>\n",
       "    </tr>\n",
       "  </thead>\n",
       "  <tbody>\n",
       "    <tr>\n",
       "      <th>327</th>\n",
       "      <td>4.10571</td>\n",
       "      <td>1</td>\n",
       "      <td>0.684717</td>\n",
       "      <td>0.28750</td>\n",
       "      <td>0.190476</td>\n",
       "      <td>0.451327</td>\n",
       "      <td>0.484848</td>\n",
       "      <td>0.125445</td>\n",
       "      <td>0.803419</td>\n",
       "      <td>0.742015</td>\n",
       "      <td>...</td>\n",
       "      <td>0</td>\n",
       "      <td>0</td>\n",
       "      <td>0</td>\n",
       "      <td>1</td>\n",
       "      <td>1</td>\n",
       "      <td>1</td>\n",
       "      <td>0</td>\n",
       "      <td>0</td>\n",
       "      <td>1</td>\n",
       "      <td>0</td>\n",
       "    </tr>\n",
       "    <tr>\n",
       "      <th>1022</th>\n",
       "      <td>1.96810</td>\n",
       "      <td>1</td>\n",
       "      <td>0.833860</td>\n",
       "      <td>0.28750</td>\n",
       "      <td>0.261905</td>\n",
       "      <td>0.513274</td>\n",
       "      <td>0.579545</td>\n",
       "      <td>0.161922</td>\n",
       "      <td>0.700855</td>\n",
       "      <td>0.680590</td>\n",
       "      <td>...</td>\n",
       "      <td>0</td>\n",
       "      <td>0</td>\n",
       "      <td>0</td>\n",
       "      <td>1</td>\n",
       "      <td>1</td>\n",
       "      <td>1</td>\n",
       "      <td>0</td>\n",
       "      <td>0</td>\n",
       "      <td>1</td>\n",
       "      <td>0</td>\n",
       "    </tr>\n",
       "    <tr>\n",
       "      <th>896</th>\n",
       "      <td>4.87824</td>\n",
       "      <td>1</td>\n",
       "      <td>0.514176</td>\n",
       "      <td>0.41250</td>\n",
       "      <td>0.690476</td>\n",
       "      <td>0.716814</td>\n",
       "      <td>0.640152</td>\n",
       "      <td>0.005338</td>\n",
       "      <td>0.794872</td>\n",
       "      <td>0.754300</td>\n",
       "      <td>...</td>\n",
       "      <td>0</td>\n",
       "      <td>0</td>\n",
       "      <td>1</td>\n",
       "      <td>0</td>\n",
       "      <td>1</td>\n",
       "      <td>1</td>\n",
       "      <td>0</td>\n",
       "      <td>0</td>\n",
       "      <td>1</td>\n",
       "      <td>0</td>\n",
       "    </tr>\n",
       "    <tr>\n",
       "      <th>908</th>\n",
       "      <td>5.04106</td>\n",
       "      <td>1</td>\n",
       "      <td>0.393528</td>\n",
       "      <td>0.40625</td>\n",
       "      <td>0.285714</td>\n",
       "      <td>0.362832</td>\n",
       "      <td>0.583333</td>\n",
       "      <td>0.059609</td>\n",
       "      <td>0.735043</td>\n",
       "      <td>0.761671</td>\n",
       "      <td>...</td>\n",
       "      <td>0</td>\n",
       "      <td>1</td>\n",
       "      <td>0</td>\n",
       "      <td>0</td>\n",
       "      <td>0</td>\n",
       "      <td>0</td>\n",
       "      <td>1</td>\n",
       "      <td>0</td>\n",
       "      <td>0</td>\n",
       "      <td>0</td>\n",
       "    </tr>\n",
       "    <tr>\n",
       "      <th>559</th>\n",
       "      <td>1.37475</td>\n",
       "      <td>0</td>\n",
       "      <td>0.464178</td>\n",
       "      <td>0.11875</td>\n",
       "      <td>0.214286</td>\n",
       "      <td>0.466077</td>\n",
       "      <td>0.481061</td>\n",
       "      <td>0.234875</td>\n",
       "      <td>0.786325</td>\n",
       "      <td>0.783784</td>\n",
       "      <td>...</td>\n",
       "      <td>0</td>\n",
       "      <td>0</td>\n",
       "      <td>0</td>\n",
       "      <td>1</td>\n",
       "      <td>1</td>\n",
       "      <td>1</td>\n",
       "      <td>0</td>\n",
       "      <td>0</td>\n",
       "      <td>0</td>\n",
       "      <td>1</td>\n",
       "    </tr>\n",
       "  </tbody>\n",
       "</table>\n",
       "<p>5 rows × 23 columns</p>\n",
       "</div>"
      ],
      "text/plain": [
       "          los  gender       age  heart_rate  respiratory_rate  hematocrit  \\\n",
       "327   4.10571       1  0.684717     0.28750          0.190476    0.451327   \n",
       "1022  1.96810       1  0.833860     0.28750          0.261905    0.513274   \n",
       "896   4.87824       1  0.514176     0.41250          0.690476    0.716814   \n",
       "908   5.04106       1  0.393528     0.40625          0.285714    0.362832   \n",
       "559   1.37475       0  0.464178     0.11875          0.214286    0.466077   \n",
       "\n",
       "           rdw  platelet       mcv       mch  ...  race_BLACK  \\\n",
       "327   0.484848  0.125445  0.803419  0.742015  ...           0   \n",
       "1022  0.579545  0.161922  0.700855  0.680590  ...           0   \n",
       "896   0.640152  0.005338  0.794872  0.754300  ...           0   \n",
       "908   0.583333  0.059609  0.735043  0.761671  ...           0   \n",
       "559   0.481061  0.234875  0.786325  0.783784  ...           0   \n",
       "\n",
       "      race_HISPANIC/LATINO  race_OTHER  race_WHITE  language_ENGLISH  \\\n",
       "327                      0           0           1                 1   \n",
       "1022                     0           0           1                 1   \n",
       "896                      0           1           0                 1   \n",
       "908                      1           0           0                 0   \n",
       "559                      0           0           1                 1   \n",
       "\n",
       "      marital_status_MARRIED  marital_status_SINGLE  marital_status_WIDOWED  \\\n",
       "327                        1                      0                       0   \n",
       "1022                       1                      0                       0   \n",
       "896                        1                      0                       0   \n",
       "908                        0                      1                       0   \n",
       "559                        1                      0                       0   \n",
       "\n",
       "      insurance_Medicare  insurance_Other  \n",
       "327                    1                0  \n",
       "1022                   1                0  \n",
       "896                    1                0  \n",
       "908                    0                0  \n",
       "559                    0                1  \n",
       "\n",
       "[5 rows x 23 columns]"
      ]
     },
     "execution_count": 2,
     "metadata": {},
     "output_type": "execute_result"
    }
   ],
   "source": [
    "data = pd.read_csv('./data_processed/data.csv', index_col=0)\n",
    "\n",
    "data.head()"
   ]
  },
  {
   "cell_type": "markdown",
   "metadata": {},
   "source": [
    "# 检验 los 是否为正态\n",
    "\n",
    "## Box-Cox"
   ]
  },
  {
   "cell_type": "code",
   "execution_count": 3,
   "metadata": {},
   "outputs": [
    {
     "name": "stdout",
     "output_type": "stream",
     "text": [
      "找到的lambda值: -0.2827695959609285\n"
     ]
    }
   ],
   "source": [
    "data_ = data.copy()\n",
    "\n",
    "data_['los'], fitted_lambda = stats.boxcox(data['los'])\n",
    "\n",
    "print(f\"找到的lambda值: {fitted_lambda}\")"
   ]
  },
  {
   "cell_type": "code",
   "execution_count": 4,
   "metadata": {},
   "outputs": [
    {
     "name": "stdout",
     "output_type": "stream",
     "text": [
      "Statistics=1.268, p=0.531\n",
      "样本看起来是正态分布的\n"
     ]
    }
   ],
   "source": [
    "stat, p = stats.normaltest(data_['los'])\n",
    "print('Statistics=%.3f, p=%.3f' % (stat, p))\n",
    "\n",
    "# 解读结果\n",
    "if p > 0.05:\n",
    "    print('样本看起来是正态分布的')\n",
    "else:\n",
    "    print('样本看起来不是正态分布的')"
   ]
  },
  {
   "cell_type": "markdown",
   "metadata": {},
   "source": [
    "# 组间差异"
   ]
  },
  {
   "cell_type": "code",
   "execution_count": 5,
   "metadata": {},
   "outputs": [],
   "source": [
    "x1 = data[data['uc_only'] == 1]['los']\n",
    "x2 = data[data['cd_only'] == 1]['los']\n",
    "\n",
    "x1 = np.array(x1)\n",
    "x2 = np.array(x2)"
   ]
  },
  {
   "cell_type": "markdown",
   "metadata": {},
   "source": [
    "\n",
    "## U检验"
   ]
  },
  {
   "cell_type": "code",
   "execution_count": 6,
   "metadata": {},
   "outputs": [
    {
     "name": "stdout",
     "output_type": "stream",
     "text": [
      "U统计量: 44260.0\n",
      "P值: 0.1193678776009166\n",
      "两组数据的中位数不存在显著差异。\n"
     ]
    }
   ],
   "source": [
    "u_statistic, p_value = stats.mannwhitneyu(x1, x2, alternative='two-sided')\n",
    "\n",
    "print(f\"U统计量: {u_statistic}\")\n",
    "print(f\"P值: {p_value}\")\n",
    "\n",
    "# 根据P值判断显著性\n",
    "if p_value < 0.05:\n",
    "    print(\"两组数据的中位数存在显著差异。\")\n",
    "else:\n",
    "    print(\"两组数据的中位数不存在显著差异。\")\n"
   ]
  },
  {
   "cell_type": "markdown",
   "metadata": {},
   "source": [
    "## t 检验"
   ]
  },
  {
   "cell_type": "code",
   "execution_count": 7,
   "metadata": {},
   "outputs": [
    {
     "name": "stdout",
     "output_type": "stream",
     "text": [
      "t统计量: 0.17597652267980374\n",
      "P值: 0.8603730736172386\n",
      "两组数据的均值不存在显著差异。\n"
     ]
    }
   ],
   "source": [
    "# 进行独立样本t检验\n",
    "t_statistic, p_value = stats.ttest_ind(x1, x2, equal_var=False)\n",
    "\n",
    "print(f\"t统计量: {t_statistic}\")\n",
    "print(f\"P值: {p_value}\")\n",
    "\n",
    "# 根据P值判断显著性\n",
    "if p_value < 0.05:\n",
    "    print(\"两组数据的均值存在显著差异。\")\n",
    "else:\n",
    "    print(\"两组数据的均值不存在显著差异。\")\n"
   ]
  },
  {
   "cell_type": "code",
   "execution_count": 32,
   "metadata": {},
   "outputs": [
    {
     "data": {
      "text/html": [
       "<div>\n",
       "<style scoped>\n",
       "    .dataframe tbody tr th:only-of-type {\n",
       "        vertical-align: middle;\n",
       "    }\n",
       "\n",
       "    .dataframe tbody tr th {\n",
       "        vertical-align: top;\n",
       "    }\n",
       "\n",
       "    .dataframe thead tr th {\n",
       "        text-align: left;\n",
       "    }\n",
       "</style>\n",
       "<table border=\"1\" class=\"dataframe\">\n",
       "  <thead>\n",
       "    <tr>\n",
       "      <th></th>\n",
       "      <th>uc_only</th>\n",
       "      <th>cd_only</th>\n",
       "      <th colspan=\"2\" halign=\"left\">mean</th>\n",
       "      <th colspan=\"2\" halign=\"left\">std</th>\n",
       "      <th colspan=\"2\" halign=\"left\">count</th>\n",
       "    </tr>\n",
       "    <tr>\n",
       "      <th>gender</th>\n",
       "      <th></th>\n",
       "      <th></th>\n",
       "      <th>0</th>\n",
       "      <th>1</th>\n",
       "      <th>0</th>\n",
       "      <th>1</th>\n",
       "      <th>0</th>\n",
       "      <th>1</th>\n",
       "    </tr>\n",
       "  </thead>\n",
       "  <tbody>\n",
       "    <tr>\n",
       "      <th>0</th>\n",
       "      <td>0</td>\n",
       "      <td>0</td>\n",
       "      <td>3.785936</td>\n",
       "      <td>1.926811</td>\n",
       "      <td>3.585054</td>\n",
       "      <td>1.089389</td>\n",
       "      <td>20</td>\n",
       "      <td>14</td>\n",
       "    </tr>\n",
       "    <tr>\n",
       "      <th>1</th>\n",
       "      <td>0</td>\n",
       "      <td>1</td>\n",
       "      <td>3.318524</td>\n",
       "      <td>3.220325</td>\n",
       "      <td>3.839162</td>\n",
       "      <td>3.717169</td>\n",
       "      <td>163</td>\n",
       "      <td>139</td>\n",
       "    </tr>\n",
       "    <tr>\n",
       "      <th>2</th>\n",
       "      <td>1</td>\n",
       "      <td>0</td>\n",
       "      <td>3.500538</td>\n",
       "      <td>3.174740</td>\n",
       "      <td>5.240216</td>\n",
       "      <td>4.683568</td>\n",
       "      <td>156</td>\n",
       "      <td>160</td>\n",
       "    </tr>\n",
       "  </tbody>\n",
       "</table>\n",
       "</div>"
      ],
      "text/plain": [
       "       uc_only cd_only      mean                 std           count     \n",
       "gender                         0         1         0         1     0    1\n",
       "0            0       0  3.785936  1.926811  3.585054  1.089389    20   14\n",
       "1            0       1  3.318524  3.220325  3.839162  3.717169   163  139\n",
       "2            1       0  3.500538  3.174740  5.240216  4.683568   156  160"
      ]
     },
     "execution_count": 32,
     "metadata": {},
     "output_type": "execute_result"
    }
   ],
   "source": [
    "pd.pivot_table(\n",
    "    data=data,\n",
    "    values='los',\n",
    "    index=['uc_only', 'cd_only'],\n",
    "    columns='gender',\n",
    "    aggfunc=['mean', 'std', 'count']\n",
    ").reset_index()"
   ]
  },
  {
   "cell_type": "code",
   "execution_count": null,
   "metadata": {},
   "outputs": [],
   "source": []
  }
 ],
 "metadata": {
  "kernelspec": {
   "display_name": "ibd",
   "language": "python",
   "name": "python3"
  },
  "language_info": {
   "codemirror_mode": {
    "name": "ipython",
    "version": 3
   },
   "file_extension": ".py",
   "mimetype": "text/x-python",
   "name": "python",
   "nbconvert_exporter": "python",
   "pygments_lexer": "ipython3",
   "version": "3.11.8"
  }
 },
 "nbformat": 4,
 "nbformat_minor": 2
}
