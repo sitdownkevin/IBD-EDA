{
 "cells": [
  {
   "cell_type": "code",
   "execution_count": 24,
   "metadata": {},
   "outputs": [],
   "source": [
    "import seaborn as sns\n",
    "import matplotlib.pyplot as plt\n",
    "import pandas as pd\n",
    "import numpy as np\n",
    "from sklearn.preprocessing import StandardScaler\n",
    "from scipy import stats"
   ]
  },
  {
   "cell_type": "markdown",
   "metadata": {},
   "source": [
    "# Loading Data"
   ]
  },
  {
   "cell_type": "code",
   "execution_count": 25,
   "metadata": {
    "scrolled": true
   },
   "outputs": [
    {
     "data": {
      "text/plain": [
       "(1161, 32)"
      ]
     },
     "execution_count": 25,
     "metadata": {},
     "output_type": "execute_result"
    }
   ],
   "source": [
    "df = pd.read_csv('./data/icu_ibd_all_table.csv')\n",
    "df['intime'] = pd.to_datetime(df['intime'])\n",
    "df.shape"
   ]
  },
  {
   "cell_type": "code",
   "execution_count": 26,
   "metadata": {},
   "outputs": [
    {
     "data": {
      "text/plain": [
       "(2417, 6)"
      ]
     },
     "execution_count": 26,
     "metadata": {},
     "output_type": "execute_result"
    }
   ],
   "source": [
    "df2 = pd.read_csv('./data/patients_ibd.csv')\n",
    "\n",
    "func = lambda x: pd.to_datetime('{}-01-01'.format(x))\n",
    "df2['anchor_year'] = df2['anchor_year'].apply(func)\n",
    "\n",
    "df2.shape"
   ]
  },
  {
   "cell_type": "markdown",
   "metadata": {},
   "source": [
    "# Preprocess Data"
   ]
  },
  {
   "cell_type": "markdown",
   "metadata": {},
   "source": [
    "## Make a Combination"
   ]
  },
  {
   "cell_type": "code",
   "execution_count": 27,
   "metadata": {},
   "outputs": [],
   "source": [
    "data = df.merge(df2[['subject_id', 'anchor_year']], on='subject_id', how='left')\n",
    "data.sort_values(by=['subject_id', 'intime'], inplace=True)\n",
    "data['age'] = ((data['intime'] - data['anchor_year']).dt.days) / 365 + data['age']"
   ]
  },
  {
   "cell_type": "code",
   "execution_count": 28,
   "metadata": {},
   "outputs": [
    {
     "data": {
      "text/html": [
       "<div>\n",
       "<style scoped>\n",
       "    .dataframe tbody tr th:only-of-type {\n",
       "        vertical-align: middle;\n",
       "    }\n",
       "\n",
       "    .dataframe tbody tr th {\n",
       "        vertical-align: top;\n",
       "    }\n",
       "\n",
       "    .dataframe thead th {\n",
       "        text-align: right;\n",
       "    }\n",
       "</style>\n",
       "<table border=\"1\" class=\"dataframe\">\n",
       "  <thead>\n",
       "    <tr style=\"text-align: right;\">\n",
       "      <th></th>\n",
       "      <th>hadm_id</th>\n",
       "      <th>subject_id</th>\n",
       "      <th>intime</th>\n",
       "      <th>outtime</th>\n",
       "      <th>los</th>\n",
       "      <th>mortality</th>\n",
       "      <th>gender</th>\n",
       "      <th>age</th>\n",
       "      <th>weight</th>\n",
       "      <th>bmi</th>\n",
       "      <th>...</th>\n",
       "      <th>CRP</th>\n",
       "      <th>race</th>\n",
       "      <th>language</th>\n",
       "      <th>marital_status</th>\n",
       "      <th>insurance</th>\n",
       "      <th>die_in_icu</th>\n",
       "      <th>uc_only</th>\n",
       "      <th>cd_only</th>\n",
       "      <th>uc_cd</th>\n",
       "      <th>anchor_year</th>\n",
       "    </tr>\n",
       "  </thead>\n",
       "  <tbody>\n",
       "    <tr>\n",
       "      <th>327</th>\n",
       "      <td>22643604</td>\n",
       "      <td>10024331</td>\n",
       "      <td>2141-03-18 19:36:08</td>\n",
       "      <td>2141-03-22 22:08:21</td>\n",
       "      <td>4.10571</td>\n",
       "      <td>1</td>\n",
       "      <td>1</td>\n",
       "      <td>73.210959</td>\n",
       "      <td>NaN</td>\n",
       "      <td>NaN</td>\n",
       "      <td>...</td>\n",
       "      <td>NaN</td>\n",
       "      <td>WHITE</td>\n",
       "      <td>ENGLISH</td>\n",
       "      <td>MARRIED</td>\n",
       "      <td>Medicare</td>\n",
       "      <td>0</td>\n",
       "      <td>1</td>\n",
       "      <td>0</td>\n",
       "      <td>0</td>\n",
       "      <td>2140-01-01</td>\n",
       "    </tr>\n",
       "    <tr>\n",
       "      <th>1022</th>\n",
       "      <td>28899194</td>\n",
       "      <td>10025647</td>\n",
       "      <td>2176-09-22 17:57:15</td>\n",
       "      <td>2176-09-24 17:11:19</td>\n",
       "      <td>1.96810</td>\n",
       "      <td>1</td>\n",
       "      <td>1</td>\n",
       "      <td>84.726027</td>\n",
       "      <td>NaN</td>\n",
       "      <td>NaN</td>\n",
       "      <td>...</td>\n",
       "      <td>NaN</td>\n",
       "      <td>WHITE</td>\n",
       "      <td>ENGLISH</td>\n",
       "      <td>MARRIED</td>\n",
       "      <td>Medicare</td>\n",
       "      <td>0</td>\n",
       "      <td>1</td>\n",
       "      <td>0</td>\n",
       "      <td>0</td>\n",
       "      <td>2175-01-01</td>\n",
       "    </tr>\n",
       "    <tr>\n",
       "      <th>896</th>\n",
       "      <td>27617929</td>\n",
       "      <td>10037975</td>\n",
       "      <td>2185-01-17 19:12:12</td>\n",
       "      <td>2185-01-22 16:16:52</td>\n",
       "      <td>4.87824</td>\n",
       "      <td>1</td>\n",
       "      <td>1</td>\n",
       "      <td>60.043836</td>\n",
       "      <td>NaN</td>\n",
       "      <td>NaN</td>\n",
       "      <td>...</td>\n",
       "      <td>NaN</td>\n",
       "      <td>UNKNOWN</td>\n",
       "      <td>ENGLISH</td>\n",
       "      <td>MARRIED</td>\n",
       "      <td>Medicare</td>\n",
       "      <td>1</td>\n",
       "      <td>0</td>\n",
       "      <td>1</td>\n",
       "      <td>0</td>\n",
       "      <td>2185-01-01</td>\n",
       "    </tr>\n",
       "    <tr>\n",
       "      <th>110</th>\n",
       "      <td>20845468</td>\n",
       "      <td>10048262</td>\n",
       "      <td>2168-08-21 00:21:53</td>\n",
       "      <td>2168-08-21 11:03:57</td>\n",
       "      <td>0.44588</td>\n",
       "      <td>0</td>\n",
       "      <td>1</td>\n",
       "      <td>46.641096</td>\n",
       "      <td>NaN</td>\n",
       "      <td>NaN</td>\n",
       "      <td>...</td>\n",
       "      <td>NaN</td>\n",
       "      <td>WHITE</td>\n",
       "      <td>ENGLISH</td>\n",
       "      <td>MARRIED</td>\n",
       "      <td>Medicare</td>\n",
       "      <td>0</td>\n",
       "      <td>1</td>\n",
       "      <td>0</td>\n",
       "      <td>0</td>\n",
       "      <td>2163-01-01</td>\n",
       "    </tr>\n",
       "    <tr>\n",
       "      <th>908</th>\n",
       "      <td>27715453</td>\n",
       "      <td>10056223</td>\n",
       "      <td>2122-09-23 15:08:45</td>\n",
       "      <td>2122-09-28 16:07:53</td>\n",
       "      <td>5.04106</td>\n",
       "      <td>0</td>\n",
       "      <td>1</td>\n",
       "      <td>50.728767</td>\n",
       "      <td>NaN</td>\n",
       "      <td>NaN</td>\n",
       "      <td>...</td>\n",
       "      <td>NaN</td>\n",
       "      <td>HISPANIC/LATINO - DOMINICAN</td>\n",
       "      <td>?</td>\n",
       "      <td>SINGLE</td>\n",
       "      <td>Medicaid</td>\n",
       "      <td>0</td>\n",
       "      <td>1</td>\n",
       "      <td>0</td>\n",
       "      <td>0</td>\n",
       "      <td>2120-01-01</td>\n",
       "    </tr>\n",
       "  </tbody>\n",
       "</table>\n",
       "<p>5 rows × 33 columns</p>\n",
       "</div>"
      ],
      "text/plain": [
       "       hadm_id  subject_id              intime              outtime      los  \\\n",
       "327   22643604    10024331 2141-03-18 19:36:08  2141-03-22 22:08:21  4.10571   \n",
       "1022  28899194    10025647 2176-09-22 17:57:15  2176-09-24 17:11:19  1.96810   \n",
       "896   27617929    10037975 2185-01-17 19:12:12  2185-01-22 16:16:52  4.87824   \n",
       "110   20845468    10048262 2168-08-21 00:21:53  2168-08-21 11:03:57  0.44588   \n",
       "908   27715453    10056223 2122-09-23 15:08:45  2122-09-28 16:07:53  5.04106   \n",
       "\n",
       "      mortality  gender        age  weight  bmi  ...  CRP  \\\n",
       "327           1       1  73.210959     NaN  NaN  ...  NaN   \n",
       "1022          1       1  84.726027     NaN  NaN  ...  NaN   \n",
       "896           1       1  60.043836     NaN  NaN  ...  NaN   \n",
       "110           0       1  46.641096     NaN  NaN  ...  NaN   \n",
       "908           0       1  50.728767     NaN  NaN  ...  NaN   \n",
       "\n",
       "                             race  language  marital_status  insurance  \\\n",
       "327                         WHITE   ENGLISH         MARRIED   Medicare   \n",
       "1022                        WHITE   ENGLISH         MARRIED   Medicare   \n",
       "896                       UNKNOWN   ENGLISH         MARRIED   Medicare   \n",
       "110                         WHITE   ENGLISH         MARRIED   Medicare   \n",
       "908   HISPANIC/LATINO - DOMINICAN         ?          SINGLE   Medicaid   \n",
       "\n",
       "      die_in_icu  uc_only  cd_only  uc_cd  anchor_year  \n",
       "327            0        1        0      0   2140-01-01  \n",
       "1022           0        1        0      0   2175-01-01  \n",
       "896            1        0        1      0   2185-01-01  \n",
       "110            0        1        0      0   2163-01-01  \n",
       "908            0        1        0      0   2120-01-01  \n",
       "\n",
       "[5 rows x 33 columns]"
      ]
     },
     "execution_count": 28,
     "metadata": {},
     "output_type": "execute_result"
    }
   ],
   "source": [
    "data.head()"
   ]
  },
  {
   "cell_type": "markdown",
   "metadata": {},
   "source": [
    "## Delete Missing Value and Useless Columns"
   ]
  },
  {
   "cell_type": "code",
   "execution_count": 29,
   "metadata": {},
   "outputs": [],
   "source": [
    "# 检查缺失值\n",
    "cols_missing = []\n",
    "\n",
    "for col in data.columns:\n",
    "    if data[col].isna().sum() / data.shape[0]*100 > 5:\n",
    "        cols_missing.append(col)\n",
    "        # print(f'{col}:\\n  NA count: {data[col].isna().sum()} ({data[col].isna().sum() / data.shape[0]*100:.2f}%)\\n')"
   ]
  },
  {
   "cell_type": "code",
   "execution_count": 30,
   "metadata": {
    "scrolled": true
   },
   "outputs": [],
   "source": [
    "# 删除不需要的列\n",
    "\n",
    "cols_useless = [\n",
    "    'hadm_id',\n",
    "    # 'intime',\n",
    "    'outtime',\n",
    "    'mortality',\n",
    "    # 'die_in_icu',\n",
    "    'anchor_year',\n",
    "]\n",
    "\n",
    "cols_except = cols_missing + cols_useless\n",
    "\n",
    "\n",
    "data.drop(columns=cols_except, inplace=True)"
   ]
  },
  {
   "cell_type": "code",
   "execution_count": 31,
   "metadata": {},
   "outputs": [
    {
     "data": {
      "text/html": [
       "<div>\n",
       "<style scoped>\n",
       "    .dataframe tbody tr th:only-of-type {\n",
       "        vertical-align: middle;\n",
       "    }\n",
       "\n",
       "    .dataframe tbody tr th {\n",
       "        vertical-align: top;\n",
       "    }\n",
       "\n",
       "    .dataframe thead th {\n",
       "        text-align: right;\n",
       "    }\n",
       "</style>\n",
       "<table border=\"1\" class=\"dataframe\">\n",
       "  <thead>\n",
       "    <tr style=\"text-align: right;\">\n",
       "      <th></th>\n",
       "      <th>subject_id</th>\n",
       "      <th>intime</th>\n",
       "      <th>los</th>\n",
       "      <th>gender</th>\n",
       "      <th>age</th>\n",
       "      <th>heart_rate</th>\n",
       "      <th>respiratory_rate</th>\n",
       "      <th>hematocrit</th>\n",
       "      <th>rdw</th>\n",
       "      <th>platelet</th>\n",
       "      <th>...</th>\n",
       "      <th>mch</th>\n",
       "      <th>hemoglobin</th>\n",
       "      <th>race</th>\n",
       "      <th>language</th>\n",
       "      <th>marital_status</th>\n",
       "      <th>insurance</th>\n",
       "      <th>die_in_icu</th>\n",
       "      <th>uc_only</th>\n",
       "      <th>cd_only</th>\n",
       "      <th>uc_cd</th>\n",
       "    </tr>\n",
       "  </thead>\n",
       "  <tbody>\n",
       "    <tr>\n",
       "      <th>327</th>\n",
       "      <td>10024331</td>\n",
       "      <td>2141-03-18 19:36:08</td>\n",
       "      <td>4.10571</td>\n",
       "      <td>1</td>\n",
       "      <td>73.210959</td>\n",
       "      <td>70.0</td>\n",
       "      <td>16.0</td>\n",
       "      <td>29.1</td>\n",
       "      <td>12.8</td>\n",
       "      <td>151.0</td>\n",
       "      <td>...</td>\n",
       "      <td>30.2</td>\n",
       "      <td>9.4</td>\n",
       "      <td>WHITE</td>\n",
       "      <td>ENGLISH</td>\n",
       "      <td>MARRIED</td>\n",
       "      <td>Medicare</td>\n",
       "      <td>0</td>\n",
       "      <td>1</td>\n",
       "      <td>0</td>\n",
       "      <td>0</td>\n",
       "    </tr>\n",
       "    <tr>\n",
       "      <th>1022</th>\n",
       "      <td>10025647</td>\n",
       "      <td>2176-09-22 17:57:15</td>\n",
       "      <td>1.96810</td>\n",
       "      <td>1</td>\n",
       "      <td>84.726027</td>\n",
       "      <td>70.0</td>\n",
       "      <td>19.0</td>\n",
       "      <td>31.2</td>\n",
       "      <td>15.3</td>\n",
       "      <td>192.0</td>\n",
       "      <td>...</td>\n",
       "      <td>27.7</td>\n",
       "      <td>10.5</td>\n",
       "      <td>WHITE</td>\n",
       "      <td>ENGLISH</td>\n",
       "      <td>MARRIED</td>\n",
       "      <td>Medicare</td>\n",
       "      <td>0</td>\n",
       "      <td>1</td>\n",
       "      <td>0</td>\n",
       "      <td>0</td>\n",
       "    </tr>\n",
       "    <tr>\n",
       "      <th>896</th>\n",
       "      <td>10037975</td>\n",
       "      <td>2185-01-17 19:12:12</td>\n",
       "      <td>4.87824</td>\n",
       "      <td>1</td>\n",
       "      <td>60.043836</td>\n",
       "      <td>90.0</td>\n",
       "      <td>37.0</td>\n",
       "      <td>38.1</td>\n",
       "      <td>16.9</td>\n",
       "      <td>16.0</td>\n",
       "      <td>...</td>\n",
       "      <td>30.7</td>\n",
       "      <td>12.5</td>\n",
       "      <td>UNKNOWN</td>\n",
       "      <td>ENGLISH</td>\n",
       "      <td>MARRIED</td>\n",
       "      <td>Medicare</td>\n",
       "      <td>1</td>\n",
       "      <td>0</td>\n",
       "      <td>1</td>\n",
       "      <td>0</td>\n",
       "    </tr>\n",
       "    <tr>\n",
       "      <th>110</th>\n",
       "      <td>10048262</td>\n",
       "      <td>2168-08-21 00:21:53</td>\n",
       "      <td>0.44588</td>\n",
       "      <td>1</td>\n",
       "      <td>46.641096</td>\n",
       "      <td>101.0</td>\n",
       "      <td>26.0</td>\n",
       "      <td>NaN</td>\n",
       "      <td>NaN</td>\n",
       "      <td>NaN</td>\n",
       "      <td>...</td>\n",
       "      <td>NaN</td>\n",
       "      <td>NaN</td>\n",
       "      <td>WHITE</td>\n",
       "      <td>ENGLISH</td>\n",
       "      <td>MARRIED</td>\n",
       "      <td>Medicare</td>\n",
       "      <td>0</td>\n",
       "      <td>1</td>\n",
       "      <td>0</td>\n",
       "      <td>0</td>\n",
       "    </tr>\n",
       "    <tr>\n",
       "      <th>908</th>\n",
       "      <td>10056223</td>\n",
       "      <td>2122-09-23 15:08:45</td>\n",
       "      <td>5.04106</td>\n",
       "      <td>1</td>\n",
       "      <td>50.728767</td>\n",
       "      <td>89.0</td>\n",
       "      <td>20.0</td>\n",
       "      <td>26.1</td>\n",
       "      <td>15.4</td>\n",
       "      <td>77.0</td>\n",
       "      <td>...</td>\n",
       "      <td>31.0</td>\n",
       "      <td>9.4</td>\n",
       "      <td>HISPANIC/LATINO - DOMINICAN</td>\n",
       "      <td>?</td>\n",
       "      <td>SINGLE</td>\n",
       "      <td>Medicaid</td>\n",
       "      <td>0</td>\n",
       "      <td>1</td>\n",
       "      <td>0</td>\n",
       "      <td>0</td>\n",
       "    </tr>\n",
       "  </tbody>\n",
       "</table>\n",
       "<p>5 rows × 21 columns</p>\n",
       "</div>"
      ],
      "text/plain": [
       "      subject_id              intime      los  gender        age  heart_rate  \\\n",
       "327     10024331 2141-03-18 19:36:08  4.10571       1  73.210959        70.0   \n",
       "1022    10025647 2176-09-22 17:57:15  1.96810       1  84.726027        70.0   \n",
       "896     10037975 2185-01-17 19:12:12  4.87824       1  60.043836        90.0   \n",
       "110     10048262 2168-08-21 00:21:53  0.44588       1  46.641096       101.0   \n",
       "908     10056223 2122-09-23 15:08:45  5.04106       1  50.728767        89.0   \n",
       "\n",
       "      respiratory_rate  hematocrit   rdw  platelet  ...   mch  hemoglobin  \\\n",
       "327               16.0        29.1  12.8     151.0  ...  30.2         9.4   \n",
       "1022              19.0        31.2  15.3     192.0  ...  27.7        10.5   \n",
       "896               37.0        38.1  16.9      16.0  ...  30.7        12.5   \n",
       "110               26.0         NaN   NaN       NaN  ...   NaN         NaN   \n",
       "908               20.0        26.1  15.4      77.0  ...  31.0         9.4   \n",
       "\n",
       "                             race language marital_status insurance  \\\n",
       "327                         WHITE  ENGLISH        MARRIED  Medicare   \n",
       "1022                        WHITE  ENGLISH        MARRIED  Medicare   \n",
       "896                       UNKNOWN  ENGLISH        MARRIED  Medicare   \n",
       "110                         WHITE  ENGLISH        MARRIED  Medicare   \n",
       "908   HISPANIC/LATINO - DOMINICAN        ?         SINGLE  Medicaid   \n",
       "\n",
       "     die_in_icu  uc_only  cd_only  uc_cd  \n",
       "327           0        1        0      0  \n",
       "1022          0        1        0      0  \n",
       "896           1        0        1      0  \n",
       "110           0        1        0      0  \n",
       "908           0        1        0      0  \n",
       "\n",
       "[5 rows x 21 columns]"
      ]
     },
     "execution_count": 31,
     "metadata": {},
     "output_type": "execute_result"
    }
   ],
   "source": [
    "data.head()"
   ]
  },
  {
   "cell_type": "markdown",
   "metadata": {},
   "source": [
    "## Drop Rows with Too Much Missing Value "
   ]
  },
  {
   "cell_type": "code",
   "execution_count": 32,
   "metadata": {},
   "outputs": [],
   "source": [
    "data = data[~(data.isna().sum(axis=1) > (data.shape[1]+1)*0.05)]"
   ]
  },
  {
   "cell_type": "code",
   "execution_count": 33,
   "metadata": {},
   "outputs": [
    {
     "name": "stdout",
     "output_type": "stream",
     "text": [
      "(652,)\n"
     ]
    }
   ],
   "source": [
    "print(data.subject_id.unique().shape)"
   ]
  },
  {
   "cell_type": "markdown",
   "metadata": {},
   "source": [
    "## Formatting Race"
   ]
  },
  {
   "cell_type": "code",
   "execution_count": 34,
   "metadata": {},
   "outputs": [],
   "source": [
    "def parse_race(race):\n",
    "    if 'WHITE' in race:\n",
    "        return 'WHITE'\n",
    "    elif 'BLACK' in race:\n",
    "        return 'BLACK'\n",
    "    elif 'HISPANIC' in race or 'LATINO' in race:\n",
    "        return 'HISPANIC/LATINO'\n",
    "    elif 'ASIAN' in race:\n",
    "        return 'ASIAN'\n",
    "    else:\n",
    "        return 'OTHER'\n",
    "\n",
    "\n",
    "data.loc[:, 'race'] = data.loc[:, 'race'].apply(parse_race)"
   ]
  },
  {
   "cell_type": "markdown",
   "metadata": {},
   "source": [
    "## Formatting Dummy Variables"
   ]
  },
  {
   "cell_type": "code",
   "execution_count": 35,
   "metadata": {},
   "outputs": [],
   "source": [
    "data.drop(columns=['uc_cd'], inplace=True)"
   ]
  },
  {
   "cell_type": "code",
   "execution_count": 36,
   "metadata": {},
   "outputs": [
    {
     "data": {
      "text/plain": [
       "Index(['subject_id', 'intime', 'los', 'gender', 'age', 'heart_rate',\n",
       "       'respiratory_rate', 'hematocrit', 'rdw', 'platelet', 'mcv', 'mch',\n",
       "       'hemoglobin', 'die_in_icu', 'uc_only', 'cd_only', 'language_ENGLISH',\n",
       "       'race_BLACK', 'race_HISPANIC/LATINO', 'race_OTHER', 'race_WHITE',\n",
       "       'marital_status_MARRIED', 'marital_status_SINGLE',\n",
       "       'marital_status_WIDOWED', 'insurance_Medicare', 'insurance_Other'],\n",
       "      dtype='object')"
      ]
     },
     "execution_count": 36,
     "metadata": {},
     "output_type": "execute_result"
    }
   ],
   "source": [
    "# 处理 dummy variables\n",
    "cols = ['language', 'race', 'marital_status', 'insurance']\n",
    "\n",
    "# for col in cols:\n",
    "#     tmp = data[col].value_counts()\n",
    "#     res = pd.DataFrame({'index': tmp.index, 'count': tmp.values, 'percentage': tmp.values/tmp.sum()*100})\n",
    "#     print(f'{res.set_index(\"index\")}')\n",
    "#     print()\n",
    "    \n",
    "\n",
    "data = pd.get_dummies(data=data, \n",
    "                      columns=cols, \n",
    "                      prefix=cols, \n",
    "                      drop_first=True)\n",
    "\n",
    "data.columns"
   ]
  },
  {
   "cell_type": "markdown",
   "metadata": {},
   "source": [
    "## Standalization"
   ]
  },
  {
   "cell_type": "code",
   "execution_count": 37,
   "metadata": {},
   "outputs": [],
   "source": [
    "cols = ['age', 'heart_rate', 'respiratory_rate', 'hematocrit', 'rdw', 'platelet', 'mcv', 'mch', 'hemoglobin',]\n",
    "\n",
    "scaler = StandardScaler()\n",
    "\n",
    "data[cols] = scaler.fit_transform(data[cols])"
   ]
  },
  {
   "cell_type": "code",
   "execution_count": 38,
   "metadata": {},
   "outputs": [],
   "source": [
    "# 转换所有 bool 类型为 int\n",
    "for k, v in data.dtypes.items():\n",
    "    if v == bool:\n",
    "        data.loc[:, k] = data.loc[:, k].astype(int)"
   ]
  },
  {
   "cell_type": "markdown",
   "metadata": {},
   "source": [
    "# Export Data"
   ]
  },
  {
   "cell_type": "markdown",
   "metadata": {},
   "source": [
    "## For Statistics"
   ]
  },
  {
   "cell_type": "code",
   "execution_count": 44,
   "metadata": {},
   "outputs": [],
   "source": [
    "_ = (\n",
    "    pd.merge(data, df.loc[:, ['subject_id', 'race', 'language', 'marital_status', 'insurance']], on='subject_id', how='left')\n",
    ")\n",
    "\n",
    "_.race = _.race.apply(parse_race)\n",
    "\n",
    "\n",
    "(\n",
    "    _.drop_duplicates(subset='subject_id', keep='first',)\n",
    "    .to_csv('./data_processed/data_stats.csv')\n",
    ")"
   ]
  },
  {
   "cell_type": "code",
   "execution_count": null,
   "metadata": {},
   "outputs": [],
   "source": []
  },
  {
   "cell_type": "markdown",
   "metadata": {},
   "source": [
    "## First ICU Record"
   ]
  },
  {
   "cell_type": "code",
   "execution_count": 19,
   "metadata": {},
   "outputs": [],
   "source": [
    "(\n",
    "    data.drop_duplicates(subset='subject_id', keep='first',)\n",
    "    .drop(columns=['die_in_icu'])\n",
    "    .to_csv('./data_processed/data_first_record.csv')\n",
    ")"
   ]
  },
  {
   "cell_type": "markdown",
   "metadata": {},
   "source": [
    "## Dead in ICU"
   ]
  },
  {
   "cell_type": "code",
   "execution_count": 23,
   "metadata": {},
   "outputs": [],
   "source": [
    "(\n",
    "    data[data.die_in_icu == 1]\n",
    "    .drop(columns=['die_in_icu'])\n",
    "    .to_csv('./data_processed/data_die_in_icu.csv')\n",
    ")"
   ]
  },
  {
   "cell_type": "code",
   "execution_count": null,
   "metadata": {},
   "outputs": [],
   "source": []
  }
 ],
 "metadata": {
  "kernelspec": {
   "display_name": "Python 3 (ipykernel)",
   "language": "python",
   "name": "python3"
  },
  "language_info": {
   "codemirror_mode": {
    "name": "ipython",
    "version": 3
   },
   "file_extension": ".py",
   "mimetype": "text/x-python",
   "name": "python",
   "nbconvert_exporter": "python",
   "pygments_lexer": "ipython3",
   "version": "3.11.8"
  },
  "widgets": {
   "application/vnd.jupyter.widget-state+json": {
    "state": {},
    "version_major": 2,
    "version_minor": 0
   }
  }
 },
 "nbformat": 4,
 "nbformat_minor": 4
}
