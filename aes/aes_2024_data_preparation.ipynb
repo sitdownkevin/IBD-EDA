{
 "cells": [
  {
   "cell_type": "code",
   "execution_count": 1,
   "metadata": {},
   "outputs": [],
   "source": [
    "import seaborn as sns\n",
    "import matplotlib.pyplot as plt\n",
    "import pandas as pd\n",
    "import numpy as np"
   ]
  },
  {
   "cell_type": "markdown",
   "metadata": {},
   "source": [
    "# 读取数据"
   ]
  },
  {
   "cell_type": "code",
   "execution_count": 2,
   "metadata": {
    "scrolled": true
   },
   "outputs": [
    {
     "data": {
      "text/plain": [
       "(1161, 32)"
      ]
     },
     "execution_count": 2,
     "metadata": {},
     "output_type": "execute_result"
    }
   ],
   "source": [
    "df = pd.read_csv('./data/icu_ibd_all_table.csv')\n",
    "df['intime'] = pd.to_datetime(df['intime'])\n",
    "df.shape"
   ]
  },
  {
   "cell_type": "code",
   "execution_count": 3,
   "metadata": {},
   "outputs": [
    {
     "data": {
      "text/plain": [
       "(2417, 6)"
      ]
     },
     "execution_count": 3,
     "metadata": {},
     "output_type": "execute_result"
    }
   ],
   "source": [
    "df2 = pd.read_csv('./data/patients_ibd.csv')\n",
    "\n",
    "func = lambda x: pd.to_datetime('{}-01-01'.format(x))\n",
    "df2['anchor_year'] = df2['anchor_year'].apply(func)\n",
    "\n",
    "df2.shape"
   ]
  },
  {
   "cell_type": "code",
   "execution_count": 4,
   "metadata": {},
   "outputs": [],
   "source": [
    "data = df.merge(df2[['subject_id', 'anchor_year']], on='subject_id', how='left')\n",
    "data.sort_values(by=['subject_id', 'intime'], inplace=True)\n",
    "data['age'] = ((data['intime'] - data['anchor_year']).dt.days) / 365 + data['age']"
   ]
  },
  {
   "cell_type": "code",
   "execution_count": 5,
   "metadata": {
    "scrolled": true
   },
   "outputs": [
    {
     "name": "stdout",
     "output_type": "stream",
     "text": [
      "weight:\n",
      "  NA count: 1066 (91.82%)\n",
      "\n",
      "bmi:\n",
      "  NA count: 1070 (92.16%)\n",
      "\n",
      "systolic_pressure:\n",
      "  NA count: 1099 (94.66%)\n",
      "\n",
      "diastolic_pressure:\n",
      "  NA count: 1099 (94.66%)\n",
      "\n",
      "temperature:\n",
      "  NA count: 962 (82.86%)\n",
      "\n",
      "white_blood_cell:\n",
      "  NA count: 1155 (99.48%)\n",
      "\n",
      "red_blood_cell:\n",
      "  NA count: 705 (60.72%)\n",
      "\n",
      "CRP:\n",
      "  NA count: 1161 (100.00%)\n",
      "\n"
     ]
    }
   ],
   "source": [
    "# 检查缺失值\n",
    "cols_missing = []\n",
    "\n",
    "for col in data.columns:\n",
    "    if data[col].isna().sum() / data.shape[0]*100 > 5:\n",
    "        cols_missing.append(col)\n",
    "        print(f'{col}:\\n  NA count: {data[col].isna().sum()} ({data[col].isna().sum() / data.shape[0]*100:.2f}%)\\n')"
   ]
  },
  {
   "cell_type": "markdown",
   "metadata": {},
   "source": [
    "# 数据预处理"
   ]
  },
  {
   "cell_type": "code",
   "execution_count": 6,
   "metadata": {
    "scrolled": true
   },
   "outputs": [],
   "source": [
    "# 删除不需要的列\n",
    "\n",
    "cols_useless = [\n",
    "    'hadm_id',\n",
    "    'intime',\n",
    "    'outtime',\n",
    "    'mortality',\n",
    "    'die_in_icu',\n",
    "    'anchor_year',\n",
    "]\n",
    "\n",
    "cols_except = cols_missing + cols_useless\n",
    "\n",
    "\n",
    "data.drop(columns=cols_except, inplace=True)"
   ]
  },
  {
   "cell_type": "code",
   "execution_count": 7,
   "metadata": {},
   "outputs": [
    {
     "name": "stdout",
     "output_type": "stream",
     "text": [
      "Index(['subject_id', 'los', 'gender', 'age', 'heart_rate', 'respiratory_rate',\n",
      "       'hematocrit', 'rdw', 'platelet', 'mcv', 'mch', 'hemoglobin', 'race',\n",
      "       'language', 'marital_status', 'insurance', 'uc_only', 'cd_only',\n",
      "       'uc_cd'],\n",
      "      dtype='object')\n"
     ]
    }
   ],
   "source": [
    "print(data.columns)"
   ]
  },
  {
   "cell_type": "markdown",
   "metadata": {},
   "source": [
    "## 格式化 race"
   ]
  },
  {
   "cell_type": "code",
   "execution_count": 8,
   "metadata": {},
   "outputs": [],
   "source": [
    "data = data[~(data.isna().sum(axis=1) > (data.shape[1]+1)*0.05)]\n",
    "\n",
    "# 只保留每个病人的第一次 ICU 记录\n",
    "data.drop_duplicates(subset='subject_id', keep='first', inplace=True)"
   ]
  },
  {
   "cell_type": "code",
   "execution_count": 9,
   "metadata": {},
   "outputs": [],
   "source": [
    "def parse_race(race):\n",
    "    if 'WHITE' in race:\n",
    "        return 'WHITE'\n",
    "    elif 'BLACK' in race:\n",
    "        return 'BLACK'\n",
    "    elif 'HISPANIC' in race or 'LATINO' in race:\n",
    "        return 'HISPANIC/LATINO'\n",
    "    elif 'ASIAN' in race:\n",
    "        return 'ASIAN'\n",
    "    else:\n",
    "        return 'OTHER'\n",
    "\n",
    "\n",
    "data.loc[:, 'race'] = data.loc[:, 'race'].apply(parse_race)"
   ]
  },
  {
   "cell_type": "code",
   "execution_count": 10,
   "metadata": {},
   "outputs": [],
   "source": [
    "data.drop(columns=['subject_id', 'uc_cd'], inplace=True)"
   ]
  },
  {
   "cell_type": "code",
   "execution_count": 11,
   "metadata": {},
   "outputs": [
    {
     "name": "stdout",
     "output_type": "stream",
     "text": [
      "         count  percentage\n",
      "index                     \n",
      "ENGLISH    623   95.552147\n",
      "?           29    4.447853\n",
      "\n",
      "                 count  percentage\n",
      "index                             \n",
      "WHITE              534   81.901840\n",
      "OTHER               53    8.128834\n",
      "BLACK               45    6.901840\n",
      "HISPANIC/LATINO     15    2.300613\n",
      "ASIAN                5    0.766871\n",
      "\n",
      "          count  percentage\n",
      "index                      \n",
      "MARRIED     303    47.34375\n",
      "SINGLE      213    33.28125\n",
      "WIDOWED      79    12.34375\n",
      "DIVORCED     45     7.03125\n",
      "\n",
      "          count  percentage\n",
      "index                      \n",
      "Other       327   50.153374\n",
      "Medicare    287   44.018405\n",
      "Medicaid     38    5.828221\n",
      "\n"
     ]
    },
    {
     "data": {
      "text/plain": [
       "Index(['los', 'gender', 'age', 'heart_rate', 'respiratory_rate', 'hematocrit',\n",
       "       'rdw', 'platelet', 'mcv', 'mch', 'hemoglobin', 'uc_only', 'cd_only',\n",
       "       'race_BLACK', 'race_HISPANIC/LATINO', 'race_OTHER', 'race_WHITE',\n",
       "       'language_ENGLISH', 'marital_status_MARRIED', 'marital_status_SINGLE',\n",
       "       'marital_status_WIDOWED', 'insurance_Medicare', 'insurance_Other'],\n",
       "      dtype='object')"
      ]
     },
     "execution_count": 11,
     "metadata": {},
     "output_type": "execute_result"
    }
   ],
   "source": [
    "# 处理 dummy variables\n",
    "\n",
    "for col in ['language', 'race', 'marital_status', 'insurance']:\n",
    "    tmp = data[col].value_counts()\n",
    "    res = pd.DataFrame({'index': tmp.index, 'count': tmp.values, 'percentage': tmp.values/tmp.sum()*100})\n",
    "    print(f'{res.set_index(\"index\")}')\n",
    "    print()\n",
    "    \n",
    "\n",
    "data = pd.get_dummies(data=data, \n",
    "                   columns=['race', 'language', 'marital_status', 'insurance'], \n",
    "                   prefix=['race', 'language', 'marital_status', 'insurance'], \n",
    "                   drop_first=True)\n",
    "\n",
    "data.columns"
   ]
  },
  {
   "cell_type": "code",
   "execution_count": 12,
   "metadata": {},
   "outputs": [],
   "source": [
    "# 标准化处理\n",
    "\n",
    "cols = ['age', 'heart_rate', 'respiratory_rate', 'hematocrit', 'rdw', 'platelet', 'mcv', 'mch', 'hemoglobin',]\n",
    "\n",
    "tmp = data.loc[:, cols]\n",
    "\n",
    "tmp = ( tmp - tmp.min() ) / ( tmp.max() - tmp.min() )\n",
    "\n",
    "data.loc[:, cols] = tmp"
   ]
  },
  {
   "cell_type": "code",
   "execution_count": 13,
   "metadata": {},
   "outputs": [],
   "source": [
    "# 转换所有 bool 类型为 int\n",
    "for k, v in data.dtypes.items():\n",
    "    if v == bool:\n",
    "        data.loc[:, k] = data.loc[:, k].astype(int)"
   ]
  },
  {
   "cell_type": "code",
   "execution_count": 14,
   "metadata": {},
   "outputs": [],
   "source": [
    "# data['los'] = np.log(data['los'] + 1) # 对 los 做 +1log 处理\n",
    "\n",
    "data.to_csv('./data.csv')"
   ]
  },
  {
   "cell_type": "code",
   "execution_count": 15,
   "metadata": {},
   "outputs": [
    {
     "data": {
      "text/html": [
       "<div>\n",
       "<style scoped>\n",
       "    .dataframe tbody tr th:only-of-type {\n",
       "        vertical-align: middle;\n",
       "    }\n",
       "\n",
       "    .dataframe tbody tr th {\n",
       "        vertical-align: top;\n",
       "    }\n",
       "\n",
       "    .dataframe thead th {\n",
       "        text-align: right;\n",
       "    }\n",
       "</style>\n",
       "<table border=\"1\" class=\"dataframe\">\n",
       "  <thead>\n",
       "    <tr style=\"text-align: right;\">\n",
       "      <th></th>\n",
       "      <th>los</th>\n",
       "      <th>gender</th>\n",
       "      <th>age</th>\n",
       "      <th>heart_rate</th>\n",
       "      <th>respiratory_rate</th>\n",
       "      <th>hematocrit</th>\n",
       "      <th>rdw</th>\n",
       "      <th>platelet</th>\n",
       "      <th>mcv</th>\n",
       "      <th>mch</th>\n",
       "      <th>...</th>\n",
       "      <th>race_BLACK</th>\n",
       "      <th>race_HISPANIC/LATINO</th>\n",
       "      <th>race_OTHER</th>\n",
       "      <th>race_WHITE</th>\n",
       "      <th>language_ENGLISH</th>\n",
       "      <th>marital_status_MARRIED</th>\n",
       "      <th>marital_status_SINGLE</th>\n",
       "      <th>marital_status_WIDOWED</th>\n",
       "      <th>insurance_Medicare</th>\n",
       "      <th>insurance_Other</th>\n",
       "    </tr>\n",
       "  </thead>\n",
       "  <tbody>\n",
       "    <tr>\n",
       "      <th>count</th>\n",
       "      <td>652.000000</td>\n",
       "      <td>652.000000</td>\n",
       "      <td>652.000000</td>\n",
       "      <td>652.000000</td>\n",
       "      <td>652.000000</td>\n",
       "      <td>652.000000</td>\n",
       "      <td>652.000000</td>\n",
       "      <td>651.000000</td>\n",
       "      <td>652.000000</td>\n",
       "      <td>652.000000</td>\n",
       "      <td>...</td>\n",
       "      <td>652.000000</td>\n",
       "      <td>652.000000</td>\n",
       "      <td>652.000000</td>\n",
       "      <td>652.000000</td>\n",
       "      <td>652.000000</td>\n",
       "      <td>652.000000</td>\n",
       "      <td>652.000000</td>\n",
       "      <td>652.000000</td>\n",
       "      <td>652.000000</td>\n",
       "      <td>652.000000</td>\n",
       "    </tr>\n",
       "    <tr>\n",
       "      <th>mean</th>\n",
       "      <td>3.290308</td>\n",
       "      <td>0.480061</td>\n",
       "      <td>0.545993</td>\n",
       "      <td>0.404975</td>\n",
       "      <td>0.271034</td>\n",
       "      <td>0.502072</td>\n",
       "      <td>0.590456</td>\n",
       "      <td>0.208523</td>\n",
       "      <td>0.771952</td>\n",
       "      <td>0.733008</td>\n",
       "      <td>...</td>\n",
       "      <td>0.069018</td>\n",
       "      <td>0.023006</td>\n",
       "      <td>0.081288</td>\n",
       "      <td>0.819018</td>\n",
       "      <td>0.955521</td>\n",
       "      <td>0.464724</td>\n",
       "      <td>0.326687</td>\n",
       "      <td>0.121166</td>\n",
       "      <td>0.440184</td>\n",
       "      <td>0.501534</td>\n",
       "    </tr>\n",
       "    <tr>\n",
       "      <th>std</th>\n",
       "      <td>4.353613</td>\n",
       "      <td>0.499986</td>\n",
       "      <td>0.215068</td>\n",
       "      <td>0.123228</td>\n",
       "      <td>0.140274</td>\n",
       "      <td>0.174386</td>\n",
       "      <td>0.091914</td>\n",
       "      <td>0.139935</td>\n",
       "      <td>0.073038</td>\n",
       "      <td>0.077810</td>\n",
       "      <td>...</td>\n",
       "      <td>0.253680</td>\n",
       "      <td>0.150038</td>\n",
       "      <td>0.273487</td>\n",
       "      <td>0.385299</td>\n",
       "      <td>0.206314</td>\n",
       "      <td>0.499137</td>\n",
       "      <td>0.469362</td>\n",
       "      <td>0.326570</td>\n",
       "      <td>0.496790</td>\n",
       "      <td>0.500382</td>\n",
       "    </tr>\n",
       "    <tr>\n",
       "      <th>min</th>\n",
       "      <td>0.318137</td>\n",
       "      <td>0.000000</td>\n",
       "      <td>0.000000</td>\n",
       "      <td>0.000000</td>\n",
       "      <td>0.000000</td>\n",
       "      <td>0.000000</td>\n",
       "      <td>0.000000</td>\n",
       "      <td>0.000000</td>\n",
       "      <td>0.000000</td>\n",
       "      <td>0.000000</td>\n",
       "      <td>...</td>\n",
       "      <td>0.000000</td>\n",
       "      <td>0.000000</td>\n",
       "      <td>0.000000</td>\n",
       "      <td>0.000000</td>\n",
       "      <td>0.000000</td>\n",
       "      <td>0.000000</td>\n",
       "      <td>0.000000</td>\n",
       "      <td>0.000000</td>\n",
       "      <td>0.000000</td>\n",
       "      <td>0.000000</td>\n",
       "    </tr>\n",
       "    <tr>\n",
       "      <th>25%</th>\n",
       "      <td>1.142935</td>\n",
       "      <td>0.000000</td>\n",
       "      <td>0.393190</td>\n",
       "      <td>0.318750</td>\n",
       "      <td>0.166667</td>\n",
       "      <td>0.374631</td>\n",
       "      <td>0.526515</td>\n",
       "      <td>0.114324</td>\n",
       "      <td>0.735043</td>\n",
       "      <td>0.695332</td>\n",
       "      <td>...</td>\n",
       "      <td>0.000000</td>\n",
       "      <td>0.000000</td>\n",
       "      <td>0.000000</td>\n",
       "      <td>1.000000</td>\n",
       "      <td>1.000000</td>\n",
       "      <td>0.000000</td>\n",
       "      <td>0.000000</td>\n",
       "      <td>0.000000</td>\n",
       "      <td>0.000000</td>\n",
       "      <td>0.000000</td>\n",
       "    </tr>\n",
       "    <tr>\n",
       "      <th>50%</th>\n",
       "      <td>1.911500</td>\n",
       "      <td>0.000000</td>\n",
       "      <td>0.555374</td>\n",
       "      <td>0.396875</td>\n",
       "      <td>0.250000</td>\n",
       "      <td>0.500000</td>\n",
       "      <td>0.571970</td>\n",
       "      <td>0.185053</td>\n",
       "      <td>0.769231</td>\n",
       "      <td>0.739558</td>\n",
       "      <td>...</td>\n",
       "      <td>0.000000</td>\n",
       "      <td>0.000000</td>\n",
       "      <td>0.000000</td>\n",
       "      <td>1.000000</td>\n",
       "      <td>1.000000</td>\n",
       "      <td>0.000000</td>\n",
       "      <td>0.000000</td>\n",
       "      <td>0.000000</td>\n",
       "      <td>0.000000</td>\n",
       "      <td>1.000000</td>\n",
       "    </tr>\n",
       "    <tr>\n",
       "      <th>75%</th>\n",
       "      <td>3.566935</td>\n",
       "      <td>1.000000</td>\n",
       "      <td>0.717939</td>\n",
       "      <td>0.475000</td>\n",
       "      <td>0.357143</td>\n",
       "      <td>0.613569</td>\n",
       "      <td>0.632576</td>\n",
       "      <td>0.265569</td>\n",
       "      <td>0.811966</td>\n",
       "      <td>0.776413</td>\n",
       "      <td>...</td>\n",
       "      <td>0.000000</td>\n",
       "      <td>0.000000</td>\n",
       "      <td>0.000000</td>\n",
       "      <td>1.000000</td>\n",
       "      <td>1.000000</td>\n",
       "      <td>1.000000</td>\n",
       "      <td>1.000000</td>\n",
       "      <td>0.000000</td>\n",
       "      <td>1.000000</td>\n",
       "      <td>1.000000</td>\n",
       "    </tr>\n",
       "    <tr>\n",
       "      <th>max</th>\n",
       "      <td>46.912200</td>\n",
       "      <td>1.000000</td>\n",
       "      <td>1.000000</td>\n",
       "      <td>1.000000</td>\n",
       "      <td>1.000000</td>\n",
       "      <td>1.000000</td>\n",
       "      <td>1.000000</td>\n",
       "      <td>1.000000</td>\n",
       "      <td>1.000000</td>\n",
       "      <td>1.000000</td>\n",
       "      <td>...</td>\n",
       "      <td>1.000000</td>\n",
       "      <td>1.000000</td>\n",
       "      <td>1.000000</td>\n",
       "      <td>1.000000</td>\n",
       "      <td>1.000000</td>\n",
       "      <td>1.000000</td>\n",
       "      <td>1.000000</td>\n",
       "      <td>1.000000</td>\n",
       "      <td>1.000000</td>\n",
       "      <td>1.000000</td>\n",
       "    </tr>\n",
       "  </tbody>\n",
       "</table>\n",
       "<p>8 rows × 23 columns</p>\n",
       "</div>"
      ],
      "text/plain": [
       "              los      gender         age  heart_rate  respiratory_rate  \\\n",
       "count  652.000000  652.000000  652.000000  652.000000        652.000000   \n",
       "mean     3.290308    0.480061    0.545993    0.404975          0.271034   \n",
       "std      4.353613    0.499986    0.215068    0.123228          0.140274   \n",
       "min      0.318137    0.000000    0.000000    0.000000          0.000000   \n",
       "25%      1.142935    0.000000    0.393190    0.318750          0.166667   \n",
       "50%      1.911500    0.000000    0.555374    0.396875          0.250000   \n",
       "75%      3.566935    1.000000    0.717939    0.475000          0.357143   \n",
       "max     46.912200    1.000000    1.000000    1.000000          1.000000   \n",
       "\n",
       "       hematocrit         rdw    platelet         mcv         mch  ...  \\\n",
       "count  652.000000  652.000000  651.000000  652.000000  652.000000  ...   \n",
       "mean     0.502072    0.590456    0.208523    0.771952    0.733008  ...   \n",
       "std      0.174386    0.091914    0.139935    0.073038    0.077810  ...   \n",
       "min      0.000000    0.000000    0.000000    0.000000    0.000000  ...   \n",
       "25%      0.374631    0.526515    0.114324    0.735043    0.695332  ...   \n",
       "50%      0.500000    0.571970    0.185053    0.769231    0.739558  ...   \n",
       "75%      0.613569    0.632576    0.265569    0.811966    0.776413  ...   \n",
       "max      1.000000    1.000000    1.000000    1.000000    1.000000  ...   \n",
       "\n",
       "       race_BLACK  race_HISPANIC/LATINO  race_OTHER  race_WHITE  \\\n",
       "count  652.000000            652.000000  652.000000  652.000000   \n",
       "mean     0.069018              0.023006    0.081288    0.819018   \n",
       "std      0.253680              0.150038    0.273487    0.385299   \n",
       "min      0.000000              0.000000    0.000000    0.000000   \n",
       "25%      0.000000              0.000000    0.000000    1.000000   \n",
       "50%      0.000000              0.000000    0.000000    1.000000   \n",
       "75%      0.000000              0.000000    0.000000    1.000000   \n",
       "max      1.000000              1.000000    1.000000    1.000000   \n",
       "\n",
       "       language_ENGLISH  marital_status_MARRIED  marital_status_SINGLE  \\\n",
       "count        652.000000              652.000000             652.000000   \n",
       "mean           0.955521                0.464724               0.326687   \n",
       "std            0.206314                0.499137               0.469362   \n",
       "min            0.000000                0.000000               0.000000   \n",
       "25%            1.000000                0.000000               0.000000   \n",
       "50%            1.000000                0.000000               0.000000   \n",
       "75%            1.000000                1.000000               1.000000   \n",
       "max            1.000000                1.000000               1.000000   \n",
       "\n",
       "       marital_status_WIDOWED  insurance_Medicare  insurance_Other  \n",
       "count              652.000000          652.000000       652.000000  \n",
       "mean                 0.121166            0.440184         0.501534  \n",
       "std                  0.326570            0.496790         0.500382  \n",
       "min                  0.000000            0.000000         0.000000  \n",
       "25%                  0.000000            0.000000         0.000000  \n",
       "50%                  0.000000            0.000000         1.000000  \n",
       "75%                  0.000000            1.000000         1.000000  \n",
       "max                  1.000000            1.000000         1.000000  \n",
       "\n",
       "[8 rows x 23 columns]"
      ]
     },
     "execution_count": 15,
     "metadata": {},
     "output_type": "execute_result"
    }
   ],
   "source": [
    "data.describe()"
   ]
  },
  {
   "cell_type": "code",
   "execution_count": null,
   "metadata": {},
   "outputs": [],
   "source": []
  }
 ],
 "metadata": {
  "kernelspec": {
   "display_name": "Python 3 (ipykernel)",
   "language": "python",
   "name": "python3"
  },
  "language_info": {
   "codemirror_mode": {
    "name": "ipython",
    "version": 3
   },
   "file_extension": ".py",
   "mimetype": "text/x-python",
   "name": "python",
   "nbconvert_exporter": "python",
   "pygments_lexer": "ipython3",
   "version": "3.11.8"
  },
  "widgets": {
   "application/vnd.jupyter.widget-state+json": {
    "state": {},
    "version_major": 2,
    "version_minor": 0
   }
  }
 },
 "nbformat": 4,
 "nbformat_minor": 4
}
